{
 "cells": [
  {
   "cell_type": "markdown",
   "metadata": {},
   "source": [
    "# Quick Test of Portfolio Analysis System\n",
    "\n",
    "This notebook tests the portfolio-level optimization analysis system to ensure it works correctly from the notebooks directory."
   ]
  },
  {
   "cell_type": "code",
   "execution_count": null,
   "metadata": {},
   "outputs": [],
   "source": [
    "import sys\n",
    "sys.path.append('../src')\n",
    "\n",
    "from analysis import PortfolioLevelAnalyzer, PortfolioOptimizationVisualizer\n",
    "import pandas as pd\n",
    "import numpy as np\n",
    "\n",
    "print(\"Testing portfolio-level optimization analysis system...\")"
   ]
  },
  {
   "cell_type": "code",
   "execution_count": null,
   "metadata": {},
   "outputs": [],
   "source": [
    "# Initialize analyzer\n",
    "analyzer = PortfolioLevelAnalyzer()\n",
    "visualizer = PortfolioOptimizationVisualizer()\n",
    "\n",
    "# Load results\n",
    "results = analyzer.load_results()\n",
    "print(f\"✅ Successfully loaded results for {len(results.volatility_parameters)} exposures\")\n",
    "print(f\"✅ Optimal horizon: {results.optimal_horizon} days\")\n",
    "print(f\"✅ Portfolio RMSE: {results.portfolio_rmse:.4f}\")"
   ]
  },
  {
   "cell_type": "code",
   "execution_count": null,
   "metadata": {},
   "outputs": [],
   "source": [
    "# Test basic analysis functions\n",
    "exposure_summary = analyzer.get_exposure_summary()\n",
    "method_distribution = analyzer.get_method_distribution()\n",
    "validation_metrics = analyzer.get_validation_metrics()\n",
    "horizon_df = analyzer.get_horizon_comparison()\n",
    "\n",
    "print(\"📊 Analysis Results:\")\n",
    "print(f\"   Exposures analyzed: {len(exposure_summary)}\")\n",
    "print(f\"   Methods used: {list(method_distribution.index)}\")\n",
    "print(f\"   Validation tests: {validation_metrics['n_tests']}\")\n",
    "print(f\"   Horizons compared: {len(horizon_df)}\")\n",
    "print(\"\\n✅ All analysis functions working correctly!\")"
   ]
  },
  {
   "cell_type": "code",
   "execution_count": null,
   "metadata": {},
   "outputs": [],
   "source": [
    "# Test visualization\n",
    "fig = visualizer.plot_method_distribution(method_distribution)\n",
    "print(\"📈 Static visualization created successfully!\")\n",
    "\n",
    "# Test interactive visualization\n",
    "fig_interactive = visualizer.plot_method_distribution(method_distribution, interactive=True)\n",
    "print(\"🎯 Interactive visualization created successfully!\")\n",
    "\n",
    "print(\"\\n✅ All visualization functions working correctly!\")"
   ]
  },
  {
   "cell_type": "code",
   "execution_count": null,
   "metadata": {},
   "outputs": [],
   "source": [
    "# Test report generation\n",
    "report_file = analyzer.export_summary_report()\n",
    "print(f\"📄 Summary report exported to: {report_file}\")\n",
    "\n",
    "print(\"\\n🎉 Portfolio-level optimization analysis system is fully functional!\")\n",
    "print(\"   You can now use the main analysis notebook with confidence.\")"
   ]
  }
 ],
 "metadata": {
  "kernelspec": {
   "display_name": "Python 3",
   "language": "python",
   "name": "python3"
  },
  "language_info": {
   "codemirror_mode": {
    "name": "ipython",
    "version": 3
   },
   "file_extension": ".py",
   "mimetype": "text/x-python",
   "name": "python",
   "nbconvert_exporter": "python",
   "pygments_lexer": "ipython3",
   "version": "3.11.0"
  }
 },
 "nbformat": 4,
 "nbformat_minor": 4
}