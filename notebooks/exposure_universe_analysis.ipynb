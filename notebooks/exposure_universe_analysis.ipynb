{
 "cells": [
  {
   "cell_type": "markdown",
   "metadata": {},
   "source": [
    "# Exposure Universe Analysis: Data Retrieval, Real Returns & Visualization\n",
    "\n",
    "This notebook demonstrates the complete workflow for:\n",
    "1. Loading the exposure universe configuration\n",
    "2. Fetching total returns for all exposures\n",
    "3. Retrieving inflation data from FRED\n",
    "4. Converting nominal returns to real returns\n",
    "5. Visualizing the results with various charts\n",
    "\n",
    "**Author**: Portfolio Optimizer Team  \n",
    "**Date**: July 2025"
   ]
  },
  {
   "cell_type": "markdown",
   "metadata": {},
   "source": [
    "## 1. Setup and Imports"
   ]
  },
  {
   "cell_type": "code",
   "execution_count": 1,
   "metadata": {},
   "outputs": [
    {
     "name": "stdout",
     "output_type": "stream",
     "text": [
      "✅ Setup complete!\n"
     ]
    }
   ],
   "source": [
    "# Standard imports\n",
    "import sys\n",
    "import os\n",
    "import warnings\n",
    "from datetime import datetime, timedelta\n",
    "\n",
    "# Data manipulation\n",
    "import pandas as pd\n",
    "import numpy as np\n",
    "\n",
    "# Visualization\n",
    "import matplotlib.pyplot as plt\n",
    "import seaborn as sns\n",
    "import plotly.graph_objects as go\n",
    "import plotly.express as px\n",
    "from plotly.subplots import make_subplots\n",
    "\n",
    "# Project imports\n",
    "sys.path.append('..')\n",
    "from src.data import (\n",
    "    ExposureUniverse, \n",
    "    TotalReturnFetcher, \n",
    "    FREDDataFetcher,\n",
    "    ReturnEstimationFramework\n",
    ")\n",
    "\n",
    "# Configuration\n",
    "warnings.filterwarnings('ignore')\n",
    "plt.style.use('seaborn-v0_8-darkgrid')\n",
    "pd.set_option('display.float_format', '{:.4f}'.format)\n",
    "\n",
    "print(\"✅ Setup complete!\")"
   ]
  },
  {
   "cell_type": "markdown",
   "metadata": {},
   "source": [
    "## 2. Load Exposure Universe Configuration"
   ]
  },
  {
   "cell_type": "code",
   "execution_count": 2,
   "metadata": {},
   "outputs": [
    {
     "name": "stdout",
     "output_type": "stream",
     "text": [
      "Loaded exposure universe: ExposureUniverse(16 exposures, 5 categories)\n",
      "\n",
      "Categories (5):\n",
      "  • real_assets: 4 exposures\n",
      "    - Real Estate (real_estate)\n",
      "    - Broad Commodities (commodities)\n",
      "    - Gold (gold)\n",
      "    - Treasury Inflation-Protected Securities (tips)\n",
      "  • equity_beta: 5 exposures\n",
      "    - US Large Cap Equity Beta (us_large_equity)\n",
      "    - US Small Cap Equity Beta (us_small_equity)\n",
      "    - Developed Ex-US Large Cap Equity Beta (intl_developed_large_equity)\n",
      "    - Developed Ex-US Small Cap Equity Beta (intl_developed_small_equity)\n",
      "    - Emerging Markets Equity Beta (emerging_equity)\n",
      "  • nominal_fixed_income: 4 exposures\n",
      "    - Cash/Risk-Free Rate (cash_rate)\n",
      "    - Short-Term US Treasuries (short_ust)\n",
      "    - Broad US Treasuries (broad_ust)\n",
      "    - Dynamic Global Bonds (dynamic_global_bonds)\n",
      "  • factor_style: 2 exposures\n",
      "    - Factor/Style - Equities (factor_style_equity)\n",
      "    - Factor/Style - Other (factor_style_other)\n",
      "  • alternatives: 1 exposures\n",
      "    - Trend Following (trend_following)\n"
     ]
    }
   ],
   "source": [
    "# Load the exposure universe\n",
    "config_path = '../config/exposure_universe.yaml'\n",
    "universe = ExposureUniverse.from_yaml(config_path)\n",
    "\n",
    "print(f\"Loaded exposure universe: {universe}\")\n",
    "print(f\"\\nCategories ({len(universe.get_all_categories())}):\")\n",
    "for category in universe.get_all_categories():\n",
    "    exposures = universe.get_exposures_by_category(category)\n",
    "    print(f\"  • {category}: {len(exposures)} exposures\")\n",
    "    for exp in exposures:\n",
    "        print(f\"    - {exp.name} ({exp.id})\")"
   ]
  },
  {
   "cell_type": "markdown",
   "metadata": {},
   "source": [
    "## 3. Set Analysis Parameters"
   ]
  },
  {
   "cell_type": "code",
   "execution_count": 3,
   "metadata": {},
   "outputs": [
    {
     "name": "stdout",
     "output_type": "stream",
     "text": [
      "Analysis Period: 2020-07-06 to 2025-07-05\n",
      "Frequency: monthly\n",
      "Inflation Series: cpi_all\n"
     ]
    }
   ],
   "source": [
    "# Define analysis period\n",
    "end_date = datetime.now()\n",
    "start_date = end_date - timedelta(days=5*365)  # 5 years of history\n",
    "\n",
    "# Analysis parameters\n",
    "frequency = \"monthly\"  # daily, weekly, or monthly\n",
    "inflation_series = \"cpi_all\"  # cpi_all, cpi_core, pce, pce_core\n",
    "\n",
    "print(f\"Analysis Period: {start_date.date()} to {end_date.date()}\")\n",
    "print(f\"Frequency: {frequency}\")\n",
    "print(f\"Inflation Series: {inflation_series}\")"
   ]
  },
  {
   "cell_type": "markdown",
   "metadata": {},
   "source": [
    "## 4. Fetch Total Returns for All Exposures"
   ]
  },
  {
   "cell_type": "code",
   "execution_count": 4,
   "metadata": {},
   "outputs": [
    {
     "name": "stdout",
     "output_type": "stream",
     "text": [
      "Fetching total returns for all exposures...\n",
      "\n",
      "✅ Successfully fetched: 16/16 exposures\n",
      "\n",
      "Data Availability:\n",
      "✅ US Large Cap Equity Beta                 | ETF average of ['SPY', 'IVV', 'VOO']\n",
      "✅ US Small Cap Equity Beta                 | ETF average of ['IWM', 'IJR', 'VB']\n",
      "✅ Developed Ex-US Large Cap Equity Beta    | ETF average of ['EFA', 'IEFA', 'VEA']\n",
      "✅ Developed Ex-US Small Cap Equity Beta    | ETF average of ['SCZ', 'IEUS', 'VSS']\n",
      "✅ Emerging Markets Equity Beta             | ETF average of ['EEM', 'IEMG', 'VWO']\n",
      "✅ Factor/Style - Equities                  | Fund QMNIX\n",
      "✅ Factor/Style - Other                     | Fund QSPIX\n",
      "✅ Trend Following                          | Fund average of ['ABYIX', 'AHLIX', 'AQMNX', 'ASFYX']\n",
      "✅ Cash/Risk-Free Rate                      | Rate series DGS3MO from FRED\n",
      "✅ Short-Term US Treasuries                 | ETF average of ['SHY', 'SCHO', 'VGSH']\n",
      "✅ Broad US Treasuries                      | ETF average of ['IEF', 'IEI', 'GOVT']\n",
      "✅ Dynamic Global Bonds                     | Fund PFIUX\n",
      "✅ Real Estate                              | ETF average of ['VNQ', 'XLRE', 'RWR', 'REET']\n",
      "✅ Broad Commodities                        | ETF average of ['DJP', 'DBC', 'PDBC']\n",
      "✅ Gold                                     | ETF average of ['GLD', 'IAU', 'GLDM']\n",
      "✅ Treasury Inflation-Protected Securities  | ETF average of ['TIP', 'SCHP', 'VTIP']\n"
     ]
    }
   ],
   "source": [
    "# Initialize data fetchers\n",
    "total_return_fetcher = TotalReturnFetcher()\n",
    "fred_fetcher = FREDDataFetcher()\n",
    "\n",
    "# Fetch returns for all exposures\n",
    "print(\"Fetching total returns for all exposures...\")\n",
    "universe_returns = total_return_fetcher.fetch_universe_returns(\n",
    "    universe, start_date, end_date, frequency\n",
    ")\n",
    "\n",
    "# Summary of results\n",
    "successful = sum(1 for r in universe_returns.values() if r['success'])\n",
    "print(f\"\\n✅ Successfully fetched: {successful}/{len(universe_returns)} exposures\")\n",
    "\n",
    "# Show which exposures succeeded/failed\n",
    "print(\"\\nData Availability:\")\n",
    "for exp_id, result in universe_returns.items():\n",
    "    exposure = universe.get_exposure(exp_id)\n",
    "    status = \"✅\" if result['success'] else \"❌\"\n",
    "    impl = result['implementation'] if result['success'] else \"Failed\"\n",
    "    print(f\"{status} {exposure.name:40} | {impl}\")"
   ]
  },
  {
   "cell_type": "markdown",
   "metadata": {},
   "source": [
    "## 5. Fetch Inflation Data and Calculate Real Returns"
   ]
  },
  {
   "cell_type": "code",
   "execution_count": 5,
   "metadata": {},
   "outputs": [
    {
     "name": "stdout",
     "output_type": "stream",
     "text": [
      "Fetching cpi_all inflation data...\n",
      "✅ Fetched 57 inflation observations\n",
      "   Latest monthly inflation: 0.0809%\n",
      "   Average monthly inflation: 0.3732%\n",
      "   Approximate annual inflation: 4.48%\n",
      "   Min/Max: -0.0500% / 1.2952%\n"
     ]
    }
   ],
   "source": [
    "# Fetch inflation data\n",
    "print(f\"Fetching {inflation_series} inflation data...\")\n",
    "inflation_index = fred_fetcher.fetch_inflation_data(\n",
    "    start_date, end_date, inflation_series, frequency\n",
    ")\n",
    "\n",
    "if not inflation_index.empty:\n",
    "    # Calculate inflation rates - FIXED: Use annualize=False for monthly data\n",
    "    # This prevents the severe negative real returns issue\n",
    "    inflation_rates = fred_fetcher.calculate_inflation_rate(\n",
    "        inflation_index, periods=1, annualize=False  # CRITICAL FIX: False for monthly returns\n",
    "    )\n",
    "    \n",
    "    print(f\"✅ Fetched {len(inflation_rates)} inflation observations\")\n",
    "    print(f\"   Latest monthly inflation: {inflation_rates.iloc[-1]:.4%}\")\n",
    "    print(f\"   Average monthly inflation: {inflation_rates.mean():.4%}\")\n",
    "    print(f\"   Approximate annual inflation: {inflation_rates.mean() * 12:.2%}\")\n",
    "    print(f\"   Min/Max: {inflation_rates.min():.4%} / {inflation_rates.max():.4%}\")\n",
    "else:\n",
    "    print(\"❌ No inflation data available\")\n",
    "    inflation_rates = pd.Series(dtype=float)"
   ]
  },
  {
   "cell_type": "code",
   "execution_count": 6,
   "metadata": {},
   "outputs": [
    {
     "name": "stdout",
     "output_type": "stream",
     "text": [
      "✅ Converted 16 exposures to real returns\n"
     ]
    }
   ],
   "source": [
    "# Convert nominal returns to real returns\n",
    "real_returns_data = {}\n",
    "nominal_returns_data = {}\n",
    "\n",
    "for exp_id, result in universe_returns.items():\n",
    "    if result['success'] and not result['returns'].empty:\n",
    "        nominal_returns = result['returns']\n",
    "        nominal_returns_data[exp_id] = nominal_returns\n",
    "        \n",
    "        if not inflation_rates.empty:\n",
    "            # Convert to real returns\n",
    "            real_returns = fred_fetcher.convert_to_real_returns(\n",
    "                nominal_returns, inflation_rates, method=\"exact\"\n",
    "            )\n",
    "            if not real_returns.empty:\n",
    "                real_returns_data[exp_id] = real_returns\n",
    "\n",
    "print(f\"✅ Converted {len(real_returns_data)} exposures to real returns\")\n",
    "\n",
    "# Create DataFrames\n",
    "nominal_returns_df = pd.DataFrame(nominal_returns_data)\n",
    "real_returns_df = pd.DataFrame(real_returns_data)"
   ]
  },
  {
   "cell_type": "markdown",
   "metadata": {},
   "source": [
    "## 6. Calculate Summary Statistics"
   ]
  },
  {
   "cell_type": "code",
   "execution_count": 9,
   "metadata": {},
   "outputs": [
    {
     "name": "stdout",
     "output_type": "stream",
     "text": [
      "📊 Real vs Nominal Return Statistics\n",
      "\n",
      "                             Nominal Return  Real Return  Inflation Impact  \\\n",
      "factor_style_other                   0.1900       0.1490            0.0410   \n",
      "factor_style_equity                  0.1760       0.1440            0.0320   \n",
      "us_large_equity                      0.1580       0.0940            0.0650   \n",
      "commodities                          0.1380       0.0760            0.0620   \n",
      "gold                                 0.1120       0.0720            0.0400   \n",
      "us_small_equity                      0.1260       0.0620            0.0640   \n",
      "intl_developed_large_equity          0.1160       0.0600            0.0560   \n",
      "intl_developed_small_equity          0.1040       0.0390            0.0640   \n",
      "real_estate                          0.0810       0.0370            0.0440   \n",
      "emerging_equity                      0.0670       0.0040            0.0630   \n",
      "trend_following                      0.0440      -0.0020            0.0450   \n",
      "cash_rate                            0.0290      -0.0150            0.0440   \n",
      "dynamic_global_bonds                 0.0300      -0.0180            0.0480   \n",
      "tips                                 0.0140      -0.0330            0.0470   \n",
      "short_ust                            0.0090      -0.0360            0.0450   \n",
      "broad_ust                           -0.0160      -0.0610            0.0450   \n",
      "\n",
      "                             Real Volatility  Real Sharpe  \n",
      "factor_style_other                    0.1740       0.8590  \n",
      "factor_style_equity                   0.1170       1.2280  \n",
      "us_large_equity                       0.1640       0.5730  \n",
      "commodities                           0.1530       0.4960  \n",
      "gold                                  0.1460       0.4910  \n",
      "us_small_equity                       0.2140       0.2900  \n",
      "intl_developed_large_equity           0.1680       0.3600  \n",
      "intl_developed_small_equity           0.1870       0.2100  \n",
      "real_estate                           0.1950       0.1880  \n",
      "emerging_equity                       0.1560       0.0260  \n",
      "trend_following                       0.1020      -0.0180  \n",
      "cash_rate                             0.0140      -1.0230  \n",
      "dynamic_global_bonds                  0.0390      -0.4580  \n",
      "tips                                  0.0540      -0.6070  \n",
      "short_ust                             0.0260      -1.3840  \n",
      "broad_ust                             0.0630      -0.9760  \n"
     ]
    }
   ],
   "source": [
    "# Calculate annualized statistics\n",
    "def calculate_annualized_stats(returns_df, frequency='monthly'):\n",
    "    if frequency == 'daily':\n",
    "        factor = 252\n",
    "    elif frequency == 'weekly':\n",
    "        factor = 52\n",
    "    elif frequency == 'monthly':\n",
    "        factor = 12\n",
    "    else:\n",
    "        factor = 1\n",
    "    \n",
    "    stats = pd.DataFrame()\n",
    "    stats['Ann. Return'] = returns_df.mean() * factor\n",
    "    stats['Ann. Volatility'] = returns_df.std() * np.sqrt(factor)\n",
    "    stats['Sharpe Ratio'] = stats['Ann. Return'] / stats['Ann. Volatility']\n",
    "    stats['Min Return'] = returns_df.min()\n",
    "    stats['Max Return'] = returns_df.max()\n",
    "    stats['Skewness'] = returns_df.skew()\n",
    "    stats['Kurtosis'] = returns_df.kurtosis()\n",
    "    \n",
    "    # Add category information\n",
    "    stats['Category'] = stats.index.map(\n",
    "        lambda x: universe.get_exposure(x).category if universe.get_exposure(x) else 'Unknown'\n",
    "    )\n",
    "    \n",
    "    return stats\n",
    "\n",
    "# Calculate for both nominal and real returns\n",
    "nominal_stats = calculate_annualized_stats(nominal_returns_df, frequency)\n",
    "real_stats = calculate_annualized_stats(real_returns_df, frequency)\n",
    "\n",
    "# Display comparison\n",
    "print(\"📊 Real vs Nominal Return Statistics\\n\")\n",
    "comparison = pd.DataFrame({\n",
    "    'Nominal Return': nominal_stats['Ann. Return'],\n",
    "    'Real Return': real_stats['Ann. Return'],\n",
    "    'Inflation Impact': nominal_stats['Ann. Return'] - real_stats['Ann. Return'],\n",
    "    'Real Volatility': real_stats['Ann. Volatility'],\n",
    "    'Real Sharpe': real_stats['Sharpe Ratio']\n",
    "})\n",
    "\n",
    "# Sort by real return\n",
    "comparison = comparison.sort_values('Real Return', ascending=False)\n",
    "print(comparison.round(3))"
   ]
  },
  {
   "cell_type": "markdown",
   "metadata": {},
   "source": [
    "## 7. Visualization: Performance Overview"
   ]
  },
  {
   "cell_type": "code",
   "execution_count": 10,
   "metadata": {},
   "outputs": [
    {
     "data": {
      "application/vnd.plotly.v1+json": {
       "config": {
        "plotlyServerURL": "https://plot.ly"
       },
       "data": [
        {
         "name": "equity_beta",
         "text": [
          "9.4%",
          "6.2%",
          "6.0%",
          "3.9%",
          "0.4%"
         ],
         "textposition": "auto",
         "type": "bar",
         "x": [
          "us_large_equity",
          "us_small_equity",
          "intl_developed_large_equity",
          "intl_developed_small_equity",
          "emerging_equity"
         ],
         "xaxis": "x",
         "y": {
          "bdata": "Rj89sM2+IkBaTN6yl9sYQFT4cffKJxhANifKyepvD0DRBHJGhbjZPw==",
          "dtype": "f8"
         },
         "yaxis": "y"
        },
        {
         "name": "factor_style",
         "text": [
          "14.4%",
          "14.9%"
         ],
         "textposition": "auto",
         "type": "bar",
         "x": [
          "factor_style_equity",
          "factor_style_other"
         ],
         "xaxis": "x",
         "y": {
          "bdata": "OQWum+fWLECuN1KMu9ctQA==",
          "dtype": "f8"
         },
         "yaxis": "y"
        },
        {
         "name": "alternatives",
         "text": [
          "-0.2%"
         ],
         "textposition": "auto",
         "type": "bar",
         "x": [
          "trend_following"
         ],
         "xaxis": "x",
         "y": {
          "bdata": "QLmK2aN9x78=",
          "dtype": "f8"
         },
         "yaxis": "y"
        },
        {
         "name": "nominal_fixed_income",
         "text": [
          "-1.5%",
          "-3.6%",
          "-6.1%",
          "-1.8%"
         ],
         "textposition": "auto",
         "type": "bar",
         "x": [
          "cash_rate",
          "short_ust",
          "broad_ust",
          "dynamic_global_bonds"
         ],
         "xaxis": "x",
         "y": {
          "bdata": "I+hcwD1897928Pv4woYMwKrHFIf/gxjAVtR/LqvQ/L8=",
          "dtype": "f8"
         },
         "yaxis": "y"
        },
        {
         "name": "real_assets",
         "text": [
          "3.7%",
          "7.6%",
          "7.2%",
          "-3.3%"
         ],
         "textposition": "auto",
         "type": "bar",
         "x": [
          "real_estate",
          "commodities",
          "gold",
          "tips"
         ],
         "xaxis": "x",
         "y": {
          "bdata": "Wqf0Vj1VDUCg3rNN3U4eQCeQsFx2uxxAeOLdLgEnCsA=",
          "dtype": "f8"
         },
         "yaxis": "y"
        },
        {
         "marker": {
          "size": 10
         },
         "mode": "markers+text",
         "name": "equity_beta",
         "text": [
          "us_large_equity",
          "us_small_equity",
          "intl_developed_large_equity",
          "intl_developed_small_equity",
          "emerging_equity"
         ],
         "textposition": "top center",
         "type": "scatter",
         "x": {
          "bdata": "OoJPtvdaMEAqALCajWo1QAysH85CwTBArk9NBpe9MkBHHbB5Zx8vQA==",
          "dtype": "f8"
         },
         "xaxis": "x2",
         "y": {
          "bdata": "Rj89sM2+IkBaTN6yl9sYQFT4cffKJxhANifKyepvD0DRBHJGhbjZPw==",
          "dtype": "f8"
         },
         "yaxis": "y2"
        },
        {
         "marker": {
          "size": 10
         },
         "mode": "markers+text",
         "name": "factor_style",
         "text": [
          "factor_style_equity",
          "factor_style_other"
         ],
         "textposition": "top center",
         "type": "scatter",
         "x": {
          "bdata": "2Jz4r5d8J0BWj5k/s18xQA==",
          "dtype": "f8"
         },
         "xaxis": "x2",
         "y": {
          "bdata": "OQWum+fWLECuN1KMu9ctQA==",
          "dtype": "f8"
         },
         "yaxis": "y2"
        },
        {
         "marker": {
          "size": 10
         },
         "mode": "markers+text",
         "name": "alternatives",
         "text": [
          "trend_following"
         ],
         "textposition": "top center",
         "type": "scatter",
         "x": {
          "bdata": "A7C/m+l6JEA=",
          "dtype": "f8"
         },
         "xaxis": "x2",
         "y": {
          "bdata": "QLmK2aN9x78=",
          "dtype": "f8"
         },
         "yaxis": "y2"
        },
        {
         "marker": {
          "size": 10
         },
         "mode": "markers+text",
         "name": "nominal_fixed_income",
         "text": [
          "cash_rate",
          "short_ust",
          "broad_ust",
          "dynamic_global_bonds"
         ],
         "textposition": "top center",
         "type": "scatter",
         "x": {
          "bdata": "3UILMcD29j9nztAip5wEQHfFWnHUHRlAxg+34phyD0A=",
          "dtype": "f8"
         },
         "xaxis": "x2",
         "y": {
          "bdata": "I+hcwD1897928Pv4woYMwKrHFIf/gxjAVtR/LqvQ/L8=",
          "dtype": "f8"
         },
         "yaxis": "y2"
        },
        {
         "marker": {
          "size": 10
         },
         "mode": "markers+text",
         "name": "real_assets",
         "text": [
          "real_estate",
          "commodities",
          "gold",
          "tips"
         ],
         "textposition": "top center",
         "type": "scatter",
         "x": {
          "bdata": "dv2jPcJ7M0DQuYEQjIwuQNoYzStsQy1ACsmG5iKPFUA=",
          "dtype": "f8"
         },
         "xaxis": "x2",
         "y": {
          "bdata": "Wqf0Vj1VDUCg3rNN3U4eQCeQsFx2uxxAeOLdLgEnCsA=",
          "dtype": "f8"
         },
         "yaxis": "y2"
        },
        {
         "name": "us_large_equity",
         "showlegend": false,
         "type": "box",
         "xaxis": "x3",
         "y": {
          "bdata": "dAW5ujcFEMATr0e4BRkFwHKTkB+LTyVAJK28BiFYCkCksnd5Nfbzv8isxGgsPANAfe3ZGzA3EEAP97LDg1sSQABCZMw1Rna/BAHGTnYd9j/IGX9GNIL/P1h1ppdNfQVA9AXv9m9VFMAT6DwC6xIYQDD6zH0uKvm/IIuDgLzADkDON7JK32UXwDxZ+8EZ7wzAQI+pUdmlBUDeqb4tHk8iwPiQ+ZRJYeW//GnfQBfnIsDmnn4V84siQATA8vPPvBDAUreTGTU5I8AYk3mrZzseQP9Va0rjHxVArKLCsHUXF8A4HUWAtc0WQFdGAbZAwgbAcklkXjFCDUAcen1HKQTzPzBXBJeMdNM/dEB04vkEGUBG+q8Lq8IIQGqxJ/V37gDAAFbs10V0FMCN3tsHHy8CwGGJFcwlASJAEA8MUUx2EUAcLXt1NPbzP35FaLiZLRNA8gX5aqVzB0DeqxDTNTwRwFQftJkfBhRAmlXRr+11DEBEya/pTVXwPyQl+DLsnAFAVKPiE16p/j/W0a6/so3yvw3erMO0gxZASpbS5A/KBcDYBAa0q8QBQALXRUN9pPe/KqYUNdMsFsAGnIjHmjDwvxW41vHulBhA",
          "dtype": "f8"
         },
         "yaxis": "y3"
        },
        {
         "name": "us_small_equity",
         "showlegend": false,
         "type": "box",
         "xaxis": "x3",
         "y": {
          "bdata": "iBXxpcYJDsDahYrN+GUBQLP0TVyeJTFA4zLVy2KpHkBbPYdIwWsQQDmnNM0/QhlADMTQD8sc/D/MBwe94mz9P+APDngZ8cA/sKLALQMT1z9ia0UpRqIHwAwepcMGufs/zbbz2erCCcA0gOd5Mi8KQKAqDoi/6BHAWMRTnJI8BUB2//U8OoshwGBTxmZyt9g/QO3sD8zJrL9LIFgTfQMiwPBeOFlE6NC/vefqLoXQI8CkckudwNUkQKWePwDuZgjAmFK4rHQlJMA3O4qIkBYlQFbuRVsSPgpABhF3EFKCGcDekj93jnMiQNxcF9gongDABfm3boR7EsDH1P6Dt4oCwDKdY8bGJfq/2K0TW1MdIED1e7CwmmkVQIqf0zReKhPAzvxQ6OmyGMA67fTLFwUZwKQZ6EFJeSFAkvR+iAX9JkAk0zDV+bIOwCDv5GeA1RFApgdP9HzqCkBqUd09Dj8awIPwmF9JkhJAbp7UKCHE+r8p/4TjZ5UiQFRDYslkGfS/EDD0T2Su7T9sen/yIYL8v3lLy+0wLSVAzk7SnY6XIMCAVZHwjasEQK83q/UctBXALrAP/pORGcAGgB4crvQJwLg/I3PhDBVA",
          "dtype": "f8"
         },
         "yaxis": "y3"
        },
        {
         "name": "intl_developed_large_equity",
         "showlegend": false,
         "type": "box",
         "xaxis": "x3",
         "y": {
          "bdata": "8GzrTAtOAcB7W12yZUENwBa1fQysyStAe6Tqt5ReE0C8fWO3eRLvv1QDdZLqWgBARDcf1Z+oAEDeotGCnuICQFDxvuynRQZAiCeS4Y06/r+wcc93bC3RPyR6C8XogfI/RA/bQZ3FDcCoDO5jdXwBQDfCvBIDiBXAGEGDKBuRDED17jkBQsQRwFy2FJ+BPw7ABD6vIKXJ4L9b4H6t6X0cwPhaDWKde+o/RstwDgotJMBhHrKanGMVQEIpPbH4RhjA5TErJ8vqI8CTAqtnNHcVQOR1+6/5XClAojj/+dL4/r8EprB6RbMgQAjJPvI7MgzAGE4hDxtqBkC4mhrQ6zYDQDtQUbMLNhDAkgL+7jlhEEA+2tHCIEkGQIwj3P2nexHAolyzdJqPEMAGR6MtB7cJwMjLlPDglyBAY9AwpzYrFUDuNxHRp0Pxv6TWhgPwZQNAatknWjfgCECRu3AXyq0MwDwTaNWykxNAXujbop9L/b8G9ygpX6oFQFafBe5/jgdA+DDv0Y5a6D/CKEcmBgYWwBgps/8t3tO/UOTLTSo+DMA9nj4/qqAQQAzzttUbqgJAoL1SlcshzT8ukgSbloINQOj81TyNZxNA",
          "dtype": "f8"
         },
         "yaxis": "y3"
        },
        {
         "name": "intl_developed_small_equity",
         "showlegend": false,
         "type": "box",
         "xaxis": "x3",
         "y": {
          "bdata": "zhbS8I+s+79SIJ9qIj4OwHKJMxB9ESxAAU+M/PyoHEAMVsdvS7rgvxJGRB992glACO5XeHin+T94UwazMaIPQF6WzTM19QFAxU/WQr03BMCsXcG5FbH4PyBQhKZYYwJAEhm1taB6FcDQsbtX1tgAQDjp/eQq9RfAaPVghRJZCUAeeV4v6i0bwFlUQ2htjBHAFH3Ys+4u8L/FW0dJBWIewKAuzDV0Z7K/Aw2zEmoRKcCCytj281caQOKpt0TrzhrA7i6ZjToXKMBBjJC0gOUTQFBVvXPAhidAVNMflIqO9b/YwpU+I/YgQFBBjbN1UgXAQHvMXsHKpL9CgQM6h0QAQNJd4BlQUBLAqGelQSQDCUBeL5ISeRIQQCRD7JJWuRHAxnScVx49FMAubvan+PoUwIZqozs+7yNANzjsbi9iHEDX8qFqtz0LwKj5Wjt9Veg/1Cq27166CUAoaqbapaMGwPMk1cHg1BhAIcrQqb1FCcBetgGszV4RQFCMZe5md/k/RJh1L6wO/j9a3sW69XIXwEjX2wE2rOa/XR/pSNQdCcCon9Sz9NQAQFDix6cy0dg/yNmHbf4F7j+kPisCNGcTQEZw+UWOGxpA",
          "dtype": "f8"
         },
         "yaxis": "y3"
        },
        {
         "name": "emerging_equity",
         "showlegend": false,
         "type": "box",
         "xaxis": "x3",
         "y": {
          "bdata": "uO84T3Hq9L8wpEZv5UrzP2pAAtd0oCFAB1m3XusgGUBaDug36KUGQFCnN7UAruw/JvLH43la8r84eF2rRZTsP1DDLejCrfA/wP/PO1Zw0z8KNm3rlbIZwEhyyFfWyfY/1PhjykQrEMBgfZs942TKP7AmNK/nbBHA+Fu9LCHt7D9kd3UFA1bkvwTYNO5vqRLAXsPz+sO5EMCgG0RqTlQZwMisIx7iDdi/X8FDvLZWGMAI0jLEbH/Vv5YeDjN6PfG/xh/mPqS1JsAG17qpHeEEwG5mHo99JC1Amv7geTzfA8AQxpJsamcgQO5HPXRJch3AKm29nosPB0AwtK1WoIDuv6geCQec9QTA1SzX61BCEUBtQNwjrR8XQCSAX756qBrAe9Fol1wACsBzG9q5HV4LwD9Dl/NQAR5A8uf5UOn+CkBS/FqMl7IRwFAKEJgRhQtAIGVcmKU5AEAACKAQZg2Kvwzku5Fn+v4/cEjbqlilA0D4sPAjxZ/pP9CNILEaQuk/XwUf7xKpF0ANtFlenWYJwBatkKpqVAXAWqeLa2So/b+kMaLlvyfwP6hmIApPQ+Y/AK/mKRoE8z+AACZkAiCuv8yhVzOZYhBA",
          "dtype": "f8"
         },
         "yaxis": "y3"
        },
        {
         "name": "factor_style_equity",
         "showlegend": false,
         "type": "box",
         "xaxis": "x3",
         "y": {
          "bdata": "0OfMAXU+wb8S/B7b+UoCwF6oOCpAzAvAvFL0eX7T7L9yN5aKxvUEQDR18QT5uPw/pnVv7gzAIEAERVyc3lblvxwkkVyGaghArnVsw53DG8DIO5AowHjUvx36kP4fkgXAAAGBsNKNAkBY84oTEQ4PwEDIG3oAP+0/mhLoPeIBF0BMKBzQLcQkQKhagX7Smeg/GojW9cHP/b+rW5mFPDgaQHw6RS1MFRZAjpoZDd/BF8CcvwZ8k78SwFT8BPdZ3ey/NPbCPlFK8L9medYcLf4QQDjXx/pGnQdAcH5BMf75CUDYWr2BwZjwP5yAwcncNgdAD836xW8XDcBgIGT1iZLYP5J1AyEJ1ve/EA7cUoXbCkAmu/ZuPHcEQCI0zzuKgQpAN//36QERFkCSWrLgzUcAQOBbpLU+Ys4/Z1Awy2XjDMBpB2MDfbgWQGDPfug6sMQ/D6JMXfxsE0A6+sPc5MkHQB4paYOowgVA4O9ur6Bh6b8UcJ/5LeDqvzAa2TsMwdQ/rDm16VnH7b80Nh6LFZ/0P5hzT+0QMQtA6DZZEdQw/D/2SEqMx7wFQEw8ki/F9Q1A8EPDrlhJAkCwsEfxpY35P4g7okByOgFA",
          "dtype": "f8"
         },
         "yaxis": "y3"
        },
        {
         "name": "factor_style_other",
         "showlegend": false,
         "type": "box",
         "xaxis": "x3",
         "y": {
          "bdata": "7BglM17Y5r9CDdm7FYAUwCA2Ulp+qeu/MD8ICO3u/D9maiUIg68VQAasshHr4wRARG7v2PwrI0A8yWo14Yb/v5gU+BXESek//jFQ7ThUBMDM6a8Yp5f6P2id2Jhyd9K/FJpFGZkB8j8y+H0JarIjwDDdC+aweeI/4eLF8vXEI0Bm5G6FXcMqQJiJpmF0Puk/Ai5WBdQrE8BvmyrV2RIjQF8O0Ie1JyJAIeD0C5vtIMC8DmAhjpMRwJRqFJslouG/NsTuffE68r/U32xgRPclQGBLQp0g8/U/VBtHRSjEAsAAzvP5qj/tP+rpy6qwwRVA/AsKboGaG8DOcMllpgcBQCpRJzLZbhXANJu5P9sLIUCAtwZKF6ftvzQJOWrbRhFAturGqWcjIECZ4WHDaMkJwCAp128PWuU/OJ9+9YXZDcC0BRfV6IIjQFBVBvN+LvM/JN7szpBVGkCg3LsYdNvtP1zYcWxnYv4/tL1ba7768r8WkflR20r5v1xMfQkOKO2/cAiZU+1aC8AYWooLhznpP/iFe/MLLes/rFET+UYiBED+BpJsgPkDQBJifdBeshNAEiCxJtmRAkD4gbVTM4gTwDI3ppHD0ghA",
          "dtype": "f8"
         },
         "yaxis": "y3"
        },
        {
         "name": "trend_following",
         "showlegend": false,
         "type": "box",
         "xaxis": "x3",
         "y": {
          "bdata": "7xKDmTNcBcDQuz7vBtDOv5jii9BLTfI/RPQ9gKQADkAIlMwWKwDev9YKnmajvgxA8L2wRTgv1z/YQV47TQDtP9iTr/VnQO4/VuBk6wP2BcAUia+qNhb2v2ZDuFQalfK/oOxvw2wOtb+Qa0yvrSL/P5Bm30wT+xfAIE+HdyEexj8IQrLueSsAQGRGvAvTUPk/mU0vr+MCHUCbVNhRdJEXQFjdhp6E8vS/RghxzHMbAkA8nXPriZkMwLiU1nkIEhFAjqWV4QfuGEAIMj7Nn7fyvyNF2r3RvRXA4L/rujgsvb/KcHAqjGr1v9gvuUNI1fQ/Rk5ey7iMF8Bg/O1cny/xP3j0UDrUJfg/dOkK+9o98D/qqtfjrRX0v4rScclWtPa/nFYZVitECkCA47ThckHgP2cIKU9NshPAtCkVoAcd5r9gf8/WeHLmv5ekBqZQzRJAlomq5JUZCkDc8XGLd1UCQEQhJYR8Z/K/VVOABFaWA8BMWty6NdQHwC3wzDtzzw7AELtLDCz79D+DAvYllSUMwNhs1ftxYPI/cL6sX43U9z8IO8SabQ/Tv+Z0SYmjS/q/UkKrT6of9b+mmgxygKQTwEwB0XgTqPa/",
          "dtype": "f8"
         },
         "yaxis": "y3"
        },
        {
         "name": "cash_rate",
         "showlegend": false,
         "type": "box",
         "xaxis": "x3",
         "y": {
          "bdata": "ALZpq0g70L/AicDWub+9v8C0t74XMcy/uHF4PeE3278AGiPblE/MvxhmB/lwd9a/EH5dbHqg3r+MocG3FlDlv0iWyqvuLuW/PHwNzWMg67+QAvSS+zbdv5CZ0HoAQdK/GL8qu9GW27/AX4T4Fcvtv2wJUoDtN+q/3P9ONXZt5r8YD9wXOxTjvyRu2eWIYOW/MCLRPVph779gG/2qvzrUv6A8jcl2zOq/3Lr3kl428r+A1hB0wSrPP2BHBj6SgMU/wHQ+IoCGw7+AnbohsP3Gv0CUH4W0tbw/8N8NZ5L11D9Qt9hRd2TFvwBKDwSVx60/QPztbWnA1T8A+kShBauJP6CQ+3lhA9M/gIhBTGNsxz8gSgNBivvRP4AZ3JEueqi/AO35emQrqD+w0QlH0j7XPwDk6EUwT9M/oI84Kus8zT+A811zA/S4PwANmxww36c/wCXJQMtFuD9AVLehwX7DP7APAHzB3tk/0DKBJ7uz3D/wfNx4fT7TP0CpAQxBK88/4B/fwO8BxD9AkKhBxnDDP8C5H1YA2rc/AGgDXu4Ff79AAkAZWji9vwA0CXzog8E/ADlMl6nP2T/ADPsPQcfAPzBkAue1nNE/",
          "dtype": "f8"
         },
         "yaxis": "y3"
        },
        {
         "name": "short_ust",
         "showlegend": false,
         "type": "box",
         "xaxis": "x3",
         "y": {
          "bdata": "2HEHE88O078A92i/Fs3Fv6DpUbDpC8q/GL9SRPn527+wX4vE8TvIv9A7EIjEqtm/CMYkHwku4b/MWkv86Afkv+D1/UoB6+K/3BCm8Li38L+4UCUdvw/TvzgHeFoZstO/YGCyKr3j4b9qC6X4Wtjzv/zBlelvY+y/eCxfqZhl7b9GxQl0ay31v1IE2aWzzvG/WABp+ZlHA8CE9+JYuVnsv7jZbPlnENe/9CTCnlAS/r/QOTfPvvTdPzSjQfMKDuy/WBofbNiX+b8U5zdJ7O/lv6D5DoZTxtY/gIbm3l7roT+AJjk/yvLJP1CMVUee0PK/iJMPuyCy+T/QFM+SA0zEv6iSPRRhveO/TLZAWAz/578AHM0svjWePyAGudz7ubC/QCCTiEtX47+gdNExYF3BPwBLZfa6euk/UKtLvbZD6j8AKAAFbGp6P2RCZTx2Meq/gHVDtZdOl7+sW8lDaPDpv0j8REy0J+I/IMOV2TpM3D/IbdgdP4nwPzgKOuXzeuY/EF6apgy/4T+8SCUU+frtv4AYBUwtEKA/YFpzp5qjzr+AaacJXIakP/BseEEshOA/oDsXOGBC3j8IQiTFy5LjPyDX+hWHu9S/",
          "dtype": "f8"
         },
         "yaxis": "y3"
        },
        {
         "mode": "lines",
         "name": "us_large_equity",
         "type": "scatter",
         "x": [
          "2020-09-30T00:00:00.000000000",
          "2020-10-31T00:00:00.000000000",
          "2020-11-30T00:00:00.000000000",
          "2020-12-31T00:00:00.000000000",
          "2021-01-31T00:00:00.000000000",
          "2021-02-28T00:00:00.000000000",
          "2021-03-31T00:00:00.000000000",
          "2021-04-30T00:00:00.000000000",
          "2021-05-31T00:00:00.000000000",
          "2021-06-30T00:00:00.000000000",
          "2021-07-31T00:00:00.000000000",
          "2021-08-31T00:00:00.000000000",
          "2021-09-30T00:00:00.000000000",
          "2021-10-31T00:00:00.000000000",
          "2021-11-30T00:00:00.000000000",
          "2021-12-31T00:00:00.000000000",
          "2022-01-31T00:00:00.000000000",
          "2022-02-28T00:00:00.000000000",
          "2022-03-31T00:00:00.000000000",
          "2022-04-30T00:00:00.000000000",
          "2022-05-31T00:00:00.000000000",
          "2022-06-30T00:00:00.000000000",
          "2022-07-31T00:00:00.000000000",
          "2022-08-31T00:00:00.000000000",
          "2022-09-30T00:00:00.000000000",
          "2022-10-31T00:00:00.000000000",
          "2022-11-30T00:00:00.000000000",
          "2022-12-31T00:00:00.000000000",
          "2023-01-31T00:00:00.000000000",
          "2023-02-28T00:00:00.000000000",
          "2023-03-31T00:00:00.000000000",
          "2023-04-30T00:00:00.000000000",
          "2023-05-31T00:00:00.000000000",
          "2023-06-30T00:00:00.000000000",
          "2023-07-31T00:00:00.000000000",
          "2023-08-31T00:00:00.000000000",
          "2023-09-30T00:00:00.000000000",
          "2023-10-31T00:00:00.000000000",
          "2023-11-30T00:00:00.000000000",
          "2023-12-31T00:00:00.000000000",
          "2024-01-31T00:00:00.000000000",
          "2024-02-29T00:00:00.000000000",
          "2024-03-31T00:00:00.000000000",
          "2024-04-30T00:00:00.000000000",
          "2024-05-31T00:00:00.000000000",
          "2024-06-30T00:00:00.000000000",
          "2024-07-31T00:00:00.000000000",
          "2024-08-31T00:00:00.000000000",
          "2024-09-30T00:00:00.000000000",
          "2024-10-31T00:00:00.000000000",
          "2024-11-30T00:00:00.000000000",
          "2024-12-31T00:00:00.000000000",
          "2025-01-31T00:00:00.000000000",
          "2025-02-28T00:00:00.000000000",
          "2025-03-31T00:00:00.000000000",
          "2025-04-30T00:00:00.000000000",
          "2025-05-31T00:00:00.000000000"
         ],
         "xaxis": "x4",
         "y": {
          "bdata": "AAAAAAAA+H8AAAAAAAD4fwAAAAAAAPh/AAAAAAAA+H8AAAAAAAD4fwAAAAAAAPh/AAAAAAAA+H8AAAAAAAD4fwAAAAAAAPh/AAAAAAAA+H8AAAAAAAD4f7Nu4cg2+Ps/xRKpWrOV+T/g1S9PWkcCQPSRG9FErPs/ZgtNF6wz/D93AcrMbOnxP9KJZ616tOM/O6/N0Mjq4D+ub+QNeSbbv6RHEVzn3d2/1BkK+gVR8L8fBsCnmdfgvxm2cd6ntOu/D0cfsuJU8L82p+bDKIbtv+dJeayp3OK/LxUGL4wm8L+IWTL56dDfv9/V2nq5292/HbrwVp4d279V/DABVwd3P7Nnp6rTH6k/aONsbIk66j8x+sy2OR3iP/SOnZPxO+Y/rBDGwwJs8T/DHs/czxTgP94TJFJIu+U/XlvK7mfX9j8QxwpJT9nyP6rHRc8gUPw/d1MKE6me+z8QWQRMckbzP9pIRkOFwvc/3o3HEkLR9T8DBChKeqvzPxeWODJfR/k/6bUp7telA0DTGKgRUSgFQGtp1q/4CAZAKe3kOi33/T/rd+QBJGn/P/xoOlKGSPY/aA4yf9hd4D9oS7JW4xPrPyqzt8et/uw/",
          "dtype": "f8"
         },
         "yaxis": "y4"
        },
        {
         "mode": "lines",
         "name": "broad_ust",
         "type": "scatter",
         "x": [
          "2020-09-30T00:00:00.000000000",
          "2020-10-31T00:00:00.000000000",
          "2020-11-30T00:00:00.000000000",
          "2020-12-31T00:00:00.000000000",
          "2021-01-31T00:00:00.000000000",
          "2021-02-28T00:00:00.000000000",
          "2021-03-31T00:00:00.000000000",
          "2021-04-30T00:00:00.000000000",
          "2021-05-31T00:00:00.000000000",
          "2021-06-30T00:00:00.000000000",
          "2021-07-31T00:00:00.000000000",
          "2021-08-31T00:00:00.000000000",
          "2021-09-30T00:00:00.000000000",
          "2021-10-31T00:00:00.000000000",
          "2021-11-30T00:00:00.000000000",
          "2021-12-31T00:00:00.000000000",
          "2022-01-31T00:00:00.000000000",
          "2022-02-28T00:00:00.000000000",
          "2022-03-31T00:00:00.000000000",
          "2022-04-30T00:00:00.000000000",
          "2022-05-31T00:00:00.000000000",
          "2022-06-30T00:00:00.000000000",
          "2022-07-31T00:00:00.000000000",
          "2022-08-31T00:00:00.000000000",
          "2022-09-30T00:00:00.000000000",
          "2022-10-31T00:00:00.000000000",
          "2022-11-30T00:00:00.000000000",
          "2022-12-31T00:00:00.000000000",
          "2023-01-31T00:00:00.000000000",
          "2023-02-28T00:00:00.000000000",
          "2023-03-31T00:00:00.000000000",
          "2023-04-30T00:00:00.000000000",
          "2023-05-31T00:00:00.000000000",
          "2023-06-30T00:00:00.000000000",
          "2023-07-31T00:00:00.000000000",
          "2023-08-31T00:00:00.000000000",
          "2023-09-30T00:00:00.000000000",
          "2023-10-31T00:00:00.000000000",
          "2023-11-30T00:00:00.000000000",
          "2023-12-31T00:00:00.000000000",
          "2024-01-31T00:00:00.000000000",
          "2024-02-29T00:00:00.000000000",
          "2024-03-31T00:00:00.000000000",
          "2024-04-30T00:00:00.000000000",
          "2024-05-31T00:00:00.000000000",
          "2024-06-30T00:00:00.000000000",
          "2024-07-31T00:00:00.000000000",
          "2024-08-31T00:00:00.000000000",
          "2024-09-30T00:00:00.000000000",
          "2024-10-31T00:00:00.000000000",
          "2024-11-30T00:00:00.000000000",
          "2024-12-31T00:00:00.000000000",
          "2025-01-31T00:00:00.000000000",
          "2025-02-28T00:00:00.000000000",
          "2025-03-31T00:00:00.000000000",
          "2025-04-30T00:00:00.000000000",
          "2025-05-31T00:00:00.000000000"
         ],
         "xaxis": "x4",
         "y": {
          "bdata": "AAAAAAAA+H8AAAAAAAD4fwAAAAAAAPh/AAAAAAAA+H8AAAAAAAD4fwAAAAAAAPh/AAAAAAAA+H8AAAAAAAD4fwAAAAAAAPh/AAAAAAAA+H8AAAAAAAD4fzYJ8DTfTwLAwXRqhy++BcAt2cZDzBkGwBLnquKYRwfACaZi1uCmB8As+Xky5jQIwBbQzciroAfAIrhJCpB3BMAOPd3eNlUIwA5+zGHSpwjAlAH67THrC8AnWrgrm8cGwGx7+mdOnQnAguZqGDTACsDEVhHFhhoLwMLBfAOr6QPAzgxzvOv/A8AMoTykDiz7v3+5ZdUkzP2/Fz1y9QVw7r+vxf9mC3jiv+WZOlVcZ+W/UjTjDRfw4r/qdgi1vnzuvyH+Sqm5BOe/C3r/mnpk4r8WFb+pyCPhv6CZmWuH3Ni/IHAfwNq+wD/6RLMBvxHJvwjifYHOt7K/izjyCngE4b9fmbvDhfHtv9+8X68kSOC/TYVbf3rnxL/F77pMoizMP9Y16X14mN8/aSebbSKE8T/fwl9h7wLpPx7p7KH7Lds/LZZwARxWzL/ffy9JNWvSv5Q5Vuv6utg/SHzo53oi2j/bVrkurA/zP2uNYV5iIeU/",
          "dtype": "f8"
         },
         "yaxis": "y4"
        },
        {
         "mode": "lines",
         "name": "real_estate",
         "type": "scatter",
         "x": [
          "2020-09-30T00:00:00.000000000",
          "2020-10-31T00:00:00.000000000",
          "2020-11-30T00:00:00.000000000",
          "2020-12-31T00:00:00.000000000",
          "2021-01-31T00:00:00.000000000",
          "2021-02-28T00:00:00.000000000",
          "2021-03-31T00:00:00.000000000",
          "2021-04-30T00:00:00.000000000",
          "2021-05-31T00:00:00.000000000",
          "2021-06-30T00:00:00.000000000",
          "2021-07-31T00:00:00.000000000",
          "2021-08-31T00:00:00.000000000",
          "2021-09-30T00:00:00.000000000",
          "2021-10-31T00:00:00.000000000",
          "2021-11-30T00:00:00.000000000",
          "2021-12-31T00:00:00.000000000",
          "2022-01-31T00:00:00.000000000",
          "2022-02-28T00:00:00.000000000",
          "2022-03-31T00:00:00.000000000",
          "2022-04-30T00:00:00.000000000",
          "2022-05-31T00:00:00.000000000",
          "2022-06-30T00:00:00.000000000",
          "2022-07-31T00:00:00.000000000",
          "2022-08-31T00:00:00.000000000",
          "2022-09-30T00:00:00.000000000",
          "2022-10-31T00:00:00.000000000",
          "2022-11-30T00:00:00.000000000",
          "2022-12-31T00:00:00.000000000",
          "2023-01-31T00:00:00.000000000",
          "2023-02-28T00:00:00.000000000",
          "2023-03-31T00:00:00.000000000",
          "2023-04-30T00:00:00.000000000",
          "2023-05-31T00:00:00.000000000",
          "2023-06-30T00:00:00.000000000",
          "2023-07-31T00:00:00.000000000",
          "2023-08-31T00:00:00.000000000",
          "2023-09-30T00:00:00.000000000",
          "2023-10-31T00:00:00.000000000",
          "2023-11-30T00:00:00.000000000",
          "2023-12-31T00:00:00.000000000",
          "2024-01-31T00:00:00.000000000",
          "2024-02-29T00:00:00.000000000",
          "2024-03-31T00:00:00.000000000",
          "2024-04-30T00:00:00.000000000",
          "2024-05-31T00:00:00.000000000",
          "2024-06-30T00:00:00.000000000",
          "2024-07-31T00:00:00.000000000",
          "2024-08-31T00:00:00.000000000",
          "2024-09-30T00:00:00.000000000",
          "2024-10-31T00:00:00.000000000",
          "2024-11-30T00:00:00.000000000",
          "2024-12-31T00:00:00.000000000",
          "2025-01-31T00:00:00.000000000",
          "2025-02-28T00:00:00.000000000",
          "2025-03-31T00:00:00.000000000",
          "2025-04-30T00:00:00.000000000",
          "2025-05-31T00:00:00.000000000"
         ],
         "xaxis": "x4",
         "y": {
          "bdata": "AAAAAAAA+H8AAAAAAAD4fwAAAAAAAPh/AAAAAAAA+H8AAAAAAAD4fwAAAAAAAPh/AAAAAAAA+H8AAAAAAAD4fwAAAAAAAPh/AAAAAAAA+H8AAAAAAAD4f7bwtQDfLQFA5hO8GeL6+j/GU/nsGUMDQGL/jzRXFfw/pu2kF+qq/z/MhSgclKXyP5EFxIv50+Y/0KdH6+QE6D+gfcA1Nsq/Pwf6/g48xMu/mIYb9bPt5b/gkKId5d3bvy/X807Psei/pqWZ4bKq7r9gkMxiWDnyv0IrOt5vW+i/GsyLhK409r/m8kFAmMHiv4xo/q27Y+S/IwO0NPIz778i32Br4IDov/S4s6Wb7OW/ud/g0KNTwr8AxO+xXMPcv1k/S8BSQda/E8R2G5lrub+KyZjD1JTev2ajrSdQYsW/9K2za1bB3T9/P5NI1ObIv+yvewc9EMI/XDbzCwfs1T9yI+gpTrCxv7I5msBvAtU/VIOY1nNoyj8AOZ7bdYjZP4YzjNciTuo/nRExDNfs9j/5oplI+Cn3P/IWnwfkbfM/1Leu+EDbyT8fOUwaTu/hP3SXp4KSteU/oFWzdalT2j9s4F6RMzPrP9bOlUNPhOU/",
          "dtype": "f8"
         },
         "yaxis": "y4"
        },
        {
         "mode": "lines",
         "name": "gold",
         "type": "scatter",
         "x": [
          "2020-09-30T00:00:00.000000000",
          "2020-10-31T00:00:00.000000000",
          "2020-11-30T00:00:00.000000000",
          "2020-12-31T00:00:00.000000000",
          "2021-01-31T00:00:00.000000000",
          "2021-02-28T00:00:00.000000000",
          "2021-03-31T00:00:00.000000000",
          "2021-04-30T00:00:00.000000000",
          "2021-05-31T00:00:00.000000000",
          "2021-06-30T00:00:00.000000000",
          "2021-07-31T00:00:00.000000000",
          "2021-08-31T00:00:00.000000000",
          "2021-09-30T00:00:00.000000000",
          "2021-10-31T00:00:00.000000000",
          "2021-11-30T00:00:00.000000000",
          "2021-12-31T00:00:00.000000000",
          "2022-01-31T00:00:00.000000000",
          "2022-02-28T00:00:00.000000000",
          "2022-03-31T00:00:00.000000000",
          "2022-04-30T00:00:00.000000000",
          "2022-05-31T00:00:00.000000000",
          "2022-06-30T00:00:00.000000000",
          "2022-07-31T00:00:00.000000000",
          "2022-08-31T00:00:00.000000000",
          "2022-09-30T00:00:00.000000000",
          "2022-10-31T00:00:00.000000000",
          "2022-11-30T00:00:00.000000000",
          "2022-12-31T00:00:00.000000000",
          "2023-01-31T00:00:00.000000000",
          "2023-02-28T00:00:00.000000000",
          "2023-03-31T00:00:00.000000000",
          "2023-04-30T00:00:00.000000000",
          "2023-05-31T00:00:00.000000000",
          "2023-06-30T00:00:00.000000000",
          "2023-07-31T00:00:00.000000000",
          "2023-08-31T00:00:00.000000000",
          "2023-09-30T00:00:00.000000000",
          "2023-10-31T00:00:00.000000000",
          "2023-11-30T00:00:00.000000000",
          "2023-12-31T00:00:00.000000000",
          "2024-01-31T00:00:00.000000000",
          "2024-02-29T00:00:00.000000000",
          "2024-03-31T00:00:00.000000000",
          "2024-04-30T00:00:00.000000000",
          "2024-05-31T00:00:00.000000000",
          "2024-06-30T00:00:00.000000000",
          "2024-07-31T00:00:00.000000000",
          "2024-08-31T00:00:00.000000000",
          "2024-09-30T00:00:00.000000000",
          "2024-10-31T00:00:00.000000000",
          "2024-11-30T00:00:00.000000000",
          "2024-12-31T00:00:00.000000000",
          "2025-01-31T00:00:00.000000000",
          "2025-02-28T00:00:00.000000000",
          "2025-03-31T00:00:00.000000000",
          "2025-04-30T00:00:00.000000000",
          "2025-05-31T00:00:00.000000000"
         ],
         "xaxis": "x4",
         "y": {
          "bdata": "AAAAAAAA+H8AAAAAAAD4fwAAAAAAAPh/AAAAAAAA+H8AAAAAAAD4fwAAAAAAAPh/AAAAAAAA+H8AAAAAAAD4fwAAAAAAAPh/AAAAAAAA+H8AAAAAAAD4f7+IR30m2ua/g2jmEqWr5b+TC4AqdkLjvxRxEnPBM9i/yZ8mzccL5r/PtTSo88jjv0PGUH63dcw/a3OK1Ygm1z9+XJzEJACZvyistdPD9+2/+EdiJWmw5L9fGGrwbhryv7Y0bI/8J/a/mBeptDPC9b++knACYsb6v8COIksxDt6/q3rrgx8x3L/Okt65YgC6PzSB4lL3UOW/qH/OWpf9vr/6xpMYQUmtP8v2A2TUjMw/8UvlMmzSzz/PlJC8tV7hP8E2npuWSeQ/sU4m5CWy3z9WlynHwHjwP33sYRZ2VOg//TkYJUO15D/fGPBqQwTKPzsGTUZ8E+U/uWOMuRmx5T9gw107OrTqP3yHY2yCRvE/89xdlh/Z9D8Buo9Io7T3P7K+Coy+NP0/ejM9n4JmCUA5Q+efEIMJQL9bUvP5jwFAWDqCJYJ0/T+kITYK5f4DQNJleaarhAVAka+lVlUbBUCrZVVH7kAGQOTqVAYhrwRA",
          "dtype": "f8"
         },
         "yaxis": "y4"
        }
       ],
       "layout": {
        "annotations": [
         {
          "font": {
           "size": 16
          },
          "showarrow": false,
          "text": "Real Returns by Category",
          "x": 0.225,
          "xanchor": "center",
          "xref": "paper",
          "y": 1,
          "yanchor": "bottom",
          "yref": "paper"
         },
         {
          "font": {
           "size": 16
          },
          "showarrow": false,
          "text": "Risk-Return Scatter",
          "x": 0.775,
          "xanchor": "center",
          "xref": "paper",
          "y": 1,
          "yanchor": "bottom",
          "yref": "paper"
         },
         {
          "font": {
           "size": 16
          },
          "showarrow": false,
          "text": "Return Distribution",
          "x": 0.225,
          "xanchor": "center",
          "xref": "paper",
          "y": 0.375,
          "yanchor": "bottom",
          "yref": "paper"
         },
         {
          "font": {
           "size": 16
          },
          "showarrow": false,
          "text": "Rolling Sharpe Ratios",
          "x": 0.775,
          "xanchor": "center",
          "xref": "paper",
          "y": 0.375,
          "yanchor": "bottom",
          "yref": "paper"
         }
        ],
        "height": 800,
        "showlegend": true,
        "template": {
         "data": {
          "bar": [
           {
            "error_x": {
             "color": "#2a3f5f"
            },
            "error_y": {
             "color": "#2a3f5f"
            },
            "marker": {
             "line": {
              "color": "#E5ECF6",
              "width": 0.5
             },
             "pattern": {
              "fillmode": "overlay",
              "size": 10,
              "solidity": 0.2
             }
            },
            "type": "bar"
           }
          ],
          "barpolar": [
           {
            "marker": {
             "line": {
              "color": "#E5ECF6",
              "width": 0.5
             },
             "pattern": {
              "fillmode": "overlay",
              "size": 10,
              "solidity": 0.2
             }
            },
            "type": "barpolar"
           }
          ],
          "carpet": [
           {
            "aaxis": {
             "endlinecolor": "#2a3f5f",
             "gridcolor": "white",
             "linecolor": "white",
             "minorgridcolor": "white",
             "startlinecolor": "#2a3f5f"
            },
            "baxis": {
             "endlinecolor": "#2a3f5f",
             "gridcolor": "white",
             "linecolor": "white",
             "minorgridcolor": "white",
             "startlinecolor": "#2a3f5f"
            },
            "type": "carpet"
           }
          ],
          "choropleth": [
           {
            "colorbar": {
             "outlinewidth": 0,
             "ticks": ""
            },
            "type": "choropleth"
           }
          ],
          "contour": [
           {
            "colorbar": {
             "outlinewidth": 0,
             "ticks": ""
            },
            "colorscale": [
             [
              0,
              "#0d0887"
             ],
             [
              0.1111111111111111,
              "#46039f"
             ],
             [
              0.2222222222222222,
              "#7201a8"
             ],
             [
              0.3333333333333333,
              "#9c179e"
             ],
             [
              0.4444444444444444,
              "#bd3786"
             ],
             [
              0.5555555555555556,
              "#d8576b"
             ],
             [
              0.6666666666666666,
              "#ed7953"
             ],
             [
              0.7777777777777778,
              "#fb9f3a"
             ],
             [
              0.8888888888888888,
              "#fdca26"
             ],
             [
              1,
              "#f0f921"
             ]
            ],
            "type": "contour"
           }
          ],
          "contourcarpet": [
           {
            "colorbar": {
             "outlinewidth": 0,
             "ticks": ""
            },
            "type": "contourcarpet"
           }
          ],
          "heatmap": [
           {
            "colorbar": {
             "outlinewidth": 0,
             "ticks": ""
            },
            "colorscale": [
             [
              0,
              "#0d0887"
             ],
             [
              0.1111111111111111,
              "#46039f"
             ],
             [
              0.2222222222222222,
              "#7201a8"
             ],
             [
              0.3333333333333333,
              "#9c179e"
             ],
             [
              0.4444444444444444,
              "#bd3786"
             ],
             [
              0.5555555555555556,
              "#d8576b"
             ],
             [
              0.6666666666666666,
              "#ed7953"
             ],
             [
              0.7777777777777778,
              "#fb9f3a"
             ],
             [
              0.8888888888888888,
              "#fdca26"
             ],
             [
              1,
              "#f0f921"
             ]
            ],
            "type": "heatmap"
           }
          ],
          "histogram": [
           {
            "marker": {
             "pattern": {
              "fillmode": "overlay",
              "size": 10,
              "solidity": 0.2
             }
            },
            "type": "histogram"
           }
          ],
          "histogram2d": [
           {
            "colorbar": {
             "outlinewidth": 0,
             "ticks": ""
            },
            "colorscale": [
             [
              0,
              "#0d0887"
             ],
             [
              0.1111111111111111,
              "#46039f"
             ],
             [
              0.2222222222222222,
              "#7201a8"
             ],
             [
              0.3333333333333333,
              "#9c179e"
             ],
             [
              0.4444444444444444,
              "#bd3786"
             ],
             [
              0.5555555555555556,
              "#d8576b"
             ],
             [
              0.6666666666666666,
              "#ed7953"
             ],
             [
              0.7777777777777778,
              "#fb9f3a"
             ],
             [
              0.8888888888888888,
              "#fdca26"
             ],
             [
              1,
              "#f0f921"
             ]
            ],
            "type": "histogram2d"
           }
          ],
          "histogram2dcontour": [
           {
            "colorbar": {
             "outlinewidth": 0,
             "ticks": ""
            },
            "colorscale": [
             [
              0,
              "#0d0887"
             ],
             [
              0.1111111111111111,
              "#46039f"
             ],
             [
              0.2222222222222222,
              "#7201a8"
             ],
             [
              0.3333333333333333,
              "#9c179e"
             ],
             [
              0.4444444444444444,
              "#bd3786"
             ],
             [
              0.5555555555555556,
              "#d8576b"
             ],
             [
              0.6666666666666666,
              "#ed7953"
             ],
             [
              0.7777777777777778,
              "#fb9f3a"
             ],
             [
              0.8888888888888888,
              "#fdca26"
             ],
             [
              1,
              "#f0f921"
             ]
            ],
            "type": "histogram2dcontour"
           }
          ],
          "mesh3d": [
           {
            "colorbar": {
             "outlinewidth": 0,
             "ticks": ""
            },
            "type": "mesh3d"
           }
          ],
          "parcoords": [
           {
            "line": {
             "colorbar": {
              "outlinewidth": 0,
              "ticks": ""
             }
            },
            "type": "parcoords"
           }
          ],
          "pie": [
           {
            "automargin": true,
            "type": "pie"
           }
          ],
          "scatter": [
           {
            "fillpattern": {
             "fillmode": "overlay",
             "size": 10,
             "solidity": 0.2
            },
            "type": "scatter"
           }
          ],
          "scatter3d": [
           {
            "line": {
             "colorbar": {
              "outlinewidth": 0,
              "ticks": ""
             }
            },
            "marker": {
             "colorbar": {
              "outlinewidth": 0,
              "ticks": ""
             }
            },
            "type": "scatter3d"
           }
          ],
          "scattercarpet": [
           {
            "marker": {
             "colorbar": {
              "outlinewidth": 0,
              "ticks": ""
             }
            },
            "type": "scattercarpet"
           }
          ],
          "scattergeo": [
           {
            "marker": {
             "colorbar": {
              "outlinewidth": 0,
              "ticks": ""
             }
            },
            "type": "scattergeo"
           }
          ],
          "scattergl": [
           {
            "marker": {
             "colorbar": {
              "outlinewidth": 0,
              "ticks": ""
             }
            },
            "type": "scattergl"
           }
          ],
          "scattermap": [
           {
            "marker": {
             "colorbar": {
              "outlinewidth": 0,
              "ticks": ""
             }
            },
            "type": "scattermap"
           }
          ],
          "scattermapbox": [
           {
            "marker": {
             "colorbar": {
              "outlinewidth": 0,
              "ticks": ""
             }
            },
            "type": "scattermapbox"
           }
          ],
          "scatterpolar": [
           {
            "marker": {
             "colorbar": {
              "outlinewidth": 0,
              "ticks": ""
             }
            },
            "type": "scatterpolar"
           }
          ],
          "scatterpolargl": [
           {
            "marker": {
             "colorbar": {
              "outlinewidth": 0,
              "ticks": ""
             }
            },
            "type": "scatterpolargl"
           }
          ],
          "scatterternary": [
           {
            "marker": {
             "colorbar": {
              "outlinewidth": 0,
              "ticks": ""
             }
            },
            "type": "scatterternary"
           }
          ],
          "surface": [
           {
            "colorbar": {
             "outlinewidth": 0,
             "ticks": ""
            },
            "colorscale": [
             [
              0,
              "#0d0887"
             ],
             [
              0.1111111111111111,
              "#46039f"
             ],
             [
              0.2222222222222222,
              "#7201a8"
             ],
             [
              0.3333333333333333,
              "#9c179e"
             ],
             [
              0.4444444444444444,
              "#bd3786"
             ],
             [
              0.5555555555555556,
              "#d8576b"
             ],
             [
              0.6666666666666666,
              "#ed7953"
             ],
             [
              0.7777777777777778,
              "#fb9f3a"
             ],
             [
              0.8888888888888888,
              "#fdca26"
             ],
             [
              1,
              "#f0f921"
             ]
            ],
            "type": "surface"
           }
          ],
          "table": [
           {
            "cells": {
             "fill": {
              "color": "#EBF0F8"
             },
             "line": {
              "color": "white"
             }
            },
            "header": {
             "fill": {
              "color": "#C8D4E3"
             },
             "line": {
              "color": "white"
             }
            },
            "type": "table"
           }
          ]
         },
         "layout": {
          "annotationdefaults": {
           "arrowcolor": "#2a3f5f",
           "arrowhead": 0,
           "arrowwidth": 1
          },
          "autotypenumbers": "strict",
          "coloraxis": {
           "colorbar": {
            "outlinewidth": 0,
            "ticks": ""
           }
          },
          "colorscale": {
           "diverging": [
            [
             0,
             "#8e0152"
            ],
            [
             0.1,
             "#c51b7d"
            ],
            [
             0.2,
             "#de77ae"
            ],
            [
             0.3,
             "#f1b6da"
            ],
            [
             0.4,
             "#fde0ef"
            ],
            [
             0.5,
             "#f7f7f7"
            ],
            [
             0.6,
             "#e6f5d0"
            ],
            [
             0.7,
             "#b8e186"
            ],
            [
             0.8,
             "#7fbc41"
            ],
            [
             0.9,
             "#4d9221"
            ],
            [
             1,
             "#276419"
            ]
           ],
           "sequential": [
            [
             0,
             "#0d0887"
            ],
            [
             0.1111111111111111,
             "#46039f"
            ],
            [
             0.2222222222222222,
             "#7201a8"
            ],
            [
             0.3333333333333333,
             "#9c179e"
            ],
            [
             0.4444444444444444,
             "#bd3786"
            ],
            [
             0.5555555555555556,
             "#d8576b"
            ],
            [
             0.6666666666666666,
             "#ed7953"
            ],
            [
             0.7777777777777778,
             "#fb9f3a"
            ],
            [
             0.8888888888888888,
             "#fdca26"
            ],
            [
             1,
             "#f0f921"
            ]
           ],
           "sequentialminus": [
            [
             0,
             "#0d0887"
            ],
            [
             0.1111111111111111,
             "#46039f"
            ],
            [
             0.2222222222222222,
             "#7201a8"
            ],
            [
             0.3333333333333333,
             "#9c179e"
            ],
            [
             0.4444444444444444,
             "#bd3786"
            ],
            [
             0.5555555555555556,
             "#d8576b"
            ],
            [
             0.6666666666666666,
             "#ed7953"
            ],
            [
             0.7777777777777778,
             "#fb9f3a"
            ],
            [
             0.8888888888888888,
             "#fdca26"
            ],
            [
             1,
             "#f0f921"
            ]
           ]
          },
          "colorway": [
           "#636efa",
           "#EF553B",
           "#00cc96",
           "#ab63fa",
           "#FFA15A",
           "#19d3f3",
           "#FF6692",
           "#B6E880",
           "#FF97FF",
           "#FECB52"
          ],
          "font": {
           "color": "#2a3f5f"
          },
          "geo": {
           "bgcolor": "white",
           "lakecolor": "white",
           "landcolor": "#E5ECF6",
           "showlakes": true,
           "showland": true,
           "subunitcolor": "white"
          },
          "hoverlabel": {
           "align": "left"
          },
          "hovermode": "closest",
          "mapbox": {
           "style": "light"
          },
          "paper_bgcolor": "white",
          "plot_bgcolor": "#E5ECF6",
          "polar": {
           "angularaxis": {
            "gridcolor": "white",
            "linecolor": "white",
            "ticks": ""
           },
           "bgcolor": "#E5ECF6",
           "radialaxis": {
            "gridcolor": "white",
            "linecolor": "white",
            "ticks": ""
           }
          },
          "scene": {
           "xaxis": {
            "backgroundcolor": "#E5ECF6",
            "gridcolor": "white",
            "gridwidth": 2,
            "linecolor": "white",
            "showbackground": true,
            "ticks": "",
            "zerolinecolor": "white"
           },
           "yaxis": {
            "backgroundcolor": "#E5ECF6",
            "gridcolor": "white",
            "gridwidth": 2,
            "linecolor": "white",
            "showbackground": true,
            "ticks": "",
            "zerolinecolor": "white"
           },
           "zaxis": {
            "backgroundcolor": "#E5ECF6",
            "gridcolor": "white",
            "gridwidth": 2,
            "linecolor": "white",
            "showbackground": true,
            "ticks": "",
            "zerolinecolor": "white"
           }
          },
          "shapedefaults": {
           "line": {
            "color": "#2a3f5f"
           }
          },
          "ternary": {
           "aaxis": {
            "gridcolor": "white",
            "linecolor": "white",
            "ticks": ""
           },
           "baxis": {
            "gridcolor": "white",
            "linecolor": "white",
            "ticks": ""
           },
           "bgcolor": "#E5ECF6",
           "caxis": {
            "gridcolor": "white",
            "linecolor": "white",
            "ticks": ""
           }
          },
          "title": {
           "x": 0.05
          },
          "xaxis": {
           "automargin": true,
           "gridcolor": "white",
           "linecolor": "white",
           "ticks": "",
           "title": {
            "standoff": 15
           },
           "zerolinecolor": "white",
           "zerolinewidth": 2
          },
          "yaxis": {
           "automargin": true,
           "gridcolor": "white",
           "linecolor": "white",
           "ticks": "",
           "title": {
            "standoff": 15
           },
           "zerolinecolor": "white",
           "zerolinewidth": 2
          }
         }
        },
        "title": {
         "font": {
          "size": 20
         },
         "text": "Exposure Universe Performance Analysis (Real Returns)"
        },
        "xaxis": {
         "anchor": "y",
         "domain": [
          0,
          0.45
         ],
         "title": {
          "text": "Exposure"
         }
        },
        "xaxis2": {
         "anchor": "y2",
         "domain": [
          0.55,
          1
         ],
         "title": {
          "text": "Annual Volatility (%)"
         }
        },
        "xaxis3": {
         "anchor": "y3",
         "domain": [
          0,
          0.45
         ],
         "title": {
          "text": "Exposure"
         }
        },
        "xaxis4": {
         "anchor": "y4",
         "domain": [
          0.55,
          1
         ],
         "title": {
          "text": "Date"
         }
        },
        "yaxis": {
         "anchor": "x",
         "domain": [
          0.625,
          1
         ],
         "title": {
          "text": "Annual Return (%)"
         }
        },
        "yaxis2": {
         "anchor": "x2",
         "domain": [
          0.625,
          1
         ],
         "title": {
          "text": "Annual Return (%)"
         }
        },
        "yaxis3": {
         "anchor": "x3",
         "domain": [
          0,
          0.375
         ],
         "title": {
          "text": "Monthly Return (%)"
         }
        },
        "yaxis4": {
         "anchor": "x4",
         "domain": [
          0,
          0.375
         ],
         "title": {
          "text": "Rolling Sharpe Ratio"
         }
        }
       }
      }
     },
     "metadata": {},
     "output_type": "display_data"
    }
   ],
   "source": [
    "# Create a comprehensive performance chart\n",
    "fig = make_subplots(\n",
    "    rows=2, cols=2,\n",
    "    subplot_titles=('Real Returns by Category', 'Risk-Return Scatter', \n",
    "                    'Return Distribution', 'Rolling Sharpe Ratios'),\n",
    "    specs=[[{'type': 'bar'}, {'type': 'scatter'}],\n",
    "           [{'type': 'box'}, {'type': 'scatter'}]]\n",
    ")\n",
    "\n",
    "# 1. Bar chart of real returns by category\n",
    "for category in real_stats['Category'].unique():\n",
    "    mask = real_stats['Category'] == category\n",
    "    fig.add_trace(\n",
    "        go.Bar(\n",
    "            x=real_stats[mask].index,\n",
    "            y=real_stats[mask]['Ann. Return'] * 100,\n",
    "            name=category,\n",
    "            text=real_stats[mask]['Ann. Return'].apply(lambda x: f'{x:.1%}'),\n",
    "            textposition='auto',\n",
    "        ),\n",
    "        row=1, col=1\n",
    "    )\n",
    "\n",
    "# 2. Risk-Return Scatter\n",
    "for category in real_stats['Category'].unique():\n",
    "    mask = real_stats['Category'] == category\n",
    "    fig.add_trace(\n",
    "        go.Scatter(\n",
    "            x=real_stats[mask]['Ann. Volatility'] * 100,\n",
    "            y=real_stats[mask]['Ann. Return'] * 100,\n",
    "            mode='markers+text',\n",
    "            name=category,\n",
    "            text=real_stats[mask].index,\n",
    "            textposition='top center',\n",
    "            marker=dict(size=10)\n",
    "        ),\n",
    "        row=1, col=2\n",
    "    )\n",
    "\n",
    "# 3. Box plot of return distributions\n",
    "for exp_id in real_returns_df.columns[:10]:  # Limit to first 10 for readability\n",
    "    fig.add_trace(\n",
    "        go.Box(\n",
    "            y=real_returns_df[exp_id] * 100,\n",
    "            name=exp_id,\n",
    "            showlegend=False\n",
    "        ),\n",
    "        row=2, col=1\n",
    "    )\n",
    "\n",
    "# 4. Rolling Sharpe ratios (select exposures)\n",
    "selected_exposures = ['us_large_equity', 'broad_ust', 'real_estate', 'gold']\n",
    "for exp_id in selected_exposures:\n",
    "    if exp_id in real_returns_df.columns:\n",
    "        rolling_mean = real_returns_df[exp_id].rolling(12).mean() * 12\n",
    "        rolling_std = real_returns_df[exp_id].rolling(12).std() * np.sqrt(12)\n",
    "        rolling_sharpe = rolling_mean / rolling_std\n",
    "        \n",
    "        fig.add_trace(\n",
    "            go.Scatter(\n",
    "                x=rolling_sharpe.index,\n",
    "                y=rolling_sharpe,\n",
    "                name=exp_id,\n",
    "                mode='lines'\n",
    "            ),\n",
    "            row=2, col=2\n",
    "        )\n",
    "\n",
    "# Update layout\n",
    "fig.update_layout(\n",
    "    height=800,\n",
    "    showlegend=True,\n",
    "    title_text=\"Exposure Universe Performance Analysis (Real Returns)\",\n",
    "    title_font_size=20\n",
    ")\n",
    "\n",
    "fig.update_xaxes(title_text=\"Exposure\", row=1, col=1)\n",
    "fig.update_yaxes(title_text=\"Annual Return (%)\", row=1, col=1)\n",
    "fig.update_xaxes(title_text=\"Annual Volatility (%)\", row=1, col=2)\n",
    "fig.update_yaxes(title_text=\"Annual Return (%)\", row=1, col=2)\n",
    "fig.update_xaxes(title_text=\"Exposure\", row=2, col=1)\n",
    "fig.update_yaxes(title_text=\"Monthly Return (%)\", row=2, col=1)\n",
    "fig.update_xaxes(title_text=\"Date\", row=2, col=2)\n",
    "fig.update_yaxes(title_text=\"Rolling Sharpe Ratio\", row=2, col=2)\n",
    "\n",
    "fig.show()"
   ]
  },
  {
   "cell_type": "markdown",
   "metadata": {},
   "source": [
    "## 8. Cumulative Performance Comparison"
   ]
  },
  {
   "cell_type": "code",
   "execution_count": 11,
   "metadata": {},
   "outputs": [
    {
     "data": {
      "application/vnd.plotly.v1+json": {
       "config": {
        "plotlyServerURL": "https://plot.ly"
       },
       "data": [
        {
         "mode": "lines",
         "name": "us_large_equity",
         "showlegend": true,
         "type": "scatter",
         "x": [
          "2020-07-31T00:00:00.000000000",
          "2020-08-31T00:00:00.000000000",
          "2020-09-30T00:00:00.000000000",
          "2020-10-31T00:00:00.000000000",
          "2020-11-30T00:00:00.000000000",
          "2020-12-31T00:00:00.000000000",
          "2021-01-31T00:00:00.000000000",
          "2021-02-28T00:00:00.000000000",
          "2021-03-31T00:00:00.000000000",
          "2021-04-30T00:00:00.000000000",
          "2021-05-31T00:00:00.000000000",
          "2021-06-30T00:00:00.000000000",
          "2021-07-31T00:00:00.000000000",
          "2021-08-31T00:00:00.000000000",
          "2021-09-30T00:00:00.000000000",
          "2021-10-31T00:00:00.000000000",
          "2021-11-30T00:00:00.000000000",
          "2021-12-31T00:00:00.000000000",
          "2022-01-31T00:00:00.000000000",
          "2022-02-28T00:00:00.000000000",
          "2022-03-31T00:00:00.000000000",
          "2022-04-30T00:00:00.000000000",
          "2022-05-31T00:00:00.000000000",
          "2022-06-30T00:00:00.000000000",
          "2022-07-31T00:00:00.000000000",
          "2022-08-31T00:00:00.000000000",
          "2022-09-30T00:00:00.000000000",
          "2022-10-31T00:00:00.000000000",
          "2022-11-30T00:00:00.000000000",
          "2022-12-31T00:00:00.000000000",
          "2023-01-31T00:00:00.000000000",
          "2023-02-28T00:00:00.000000000",
          "2023-03-31T00:00:00.000000000",
          "2023-04-30T00:00:00.000000000",
          "2023-05-31T00:00:00.000000000",
          "2023-06-30T00:00:00.000000000",
          "2023-07-31T00:00:00.000000000",
          "2023-08-31T00:00:00.000000000",
          "2023-09-30T00:00:00.000000000",
          "2023-10-31T00:00:00.000000000",
          "2023-11-30T00:00:00.000000000",
          "2023-12-31T00:00:00.000000000",
          "2024-01-31T00:00:00.000000000",
          "2024-02-29T00:00:00.000000000",
          "2024-03-31T00:00:00.000000000",
          "2024-04-30T00:00:00.000000000",
          "2024-05-31T00:00:00.000000000",
          "2024-06-30T00:00:00.000000000",
          "2024-07-31T00:00:00.000000000",
          "2024-08-31T00:00:00.000000000",
          "2024-09-30T00:00:00.000000000",
          "2024-10-31T00:00:00.000000000",
          "2024-11-30T00:00:00.000000000",
          "2024-12-31T00:00:00.000000000",
          "2025-01-31T00:00:00.000000000",
          "2025-02-28T00:00:00.000000000",
          "2025-03-31T00:00:00.000000000",
          "2025-04-30T00:00:00.000000000",
          "2025-05-31T00:00:00.000000000",
          "2025-06-30T00:00:00.000000000",
          "2025-07-31T00:00:00.000000000"
         ],
         "xaxis": "x",
         "y": {
          "bdata": "AAAAAAAA+H+RuEXEDh7xPzVEl12ZefA/SjQ8G3UP8D/8NUzt5M/xP+t4cDyGevI/EJlUXhhK8j+16oizuMvyP7Se6vj7pvM/egzABzOx9D8xcPf5QNT0P0ss8LhmTPU/L5x5tIzR9T9FnBljL3j2P/NSFeGYa/U/6lv9poHs9j8hRW+RKsD2Pw646bYLy/c/JrwJUjSK9j/FbuIsi+D1P2St2faRs/Y/gqR4tga09D8niT2GLsL0P2TPz9M+CvM/2PkkN97L9D9piCu17/DzP6DCOgfyGfI/ffSMa2CS8z+4vTIG46f0P8RF3ThKePM/dEFa1X6x9D+wC6QdQyz0PzixTeMZ7PQ/CwQA95ZB9T/b3sW4Ylr1P+CecldLv/Y/hIKUGLd99z/RCa+K3hv3Pw9qB5gFBPY/pZ3DAOqI9T+aZQhOrYH3P8zhmPiWlfg/pbRPW/f5+D/wvBtdFkf6P95swfRxJPs/NH8qbGoM+j9X4AxZAl37P56SyHcCVvw/WcOjlj2q/D9lYhyBUFn9Pzrygb3Y+v0/mla1Nwez/T80D1kgf3X/P6RglSO3tv4/D9iZvuCK/z/xlti2vCT/P440BoT6Zv0/jB4xFkYr/T/X+GtilPz+P5w8HHIiSwBAGZaBSt59AEA=",
          "dtype": "f8"
         },
         "yaxis": "y"
        },
        {
         "mode": "lines",
         "name": "us_small_equity",
         "showlegend": true,
         "type": "scatter",
         "x": [
          "2020-07-31T00:00:00.000000000",
          "2020-08-31T00:00:00.000000000",
          "2020-09-30T00:00:00.000000000",
          "2020-10-31T00:00:00.000000000",
          "2020-11-30T00:00:00.000000000",
          "2020-12-31T00:00:00.000000000",
          "2021-01-31T00:00:00.000000000",
          "2021-02-28T00:00:00.000000000",
          "2021-03-31T00:00:00.000000000",
          "2021-04-30T00:00:00.000000000",
          "2021-05-31T00:00:00.000000000",
          "2021-06-30T00:00:00.000000000",
          "2021-07-31T00:00:00.000000000",
          "2021-08-31T00:00:00.000000000",
          "2021-09-30T00:00:00.000000000",
          "2021-10-31T00:00:00.000000000",
          "2021-11-30T00:00:00.000000000",
          "2021-12-31T00:00:00.000000000",
          "2022-01-31T00:00:00.000000000",
          "2022-02-28T00:00:00.000000000",
          "2022-03-31T00:00:00.000000000",
          "2022-04-30T00:00:00.000000000",
          "2022-05-31T00:00:00.000000000",
          "2022-06-30T00:00:00.000000000",
          "2022-07-31T00:00:00.000000000",
          "2022-08-31T00:00:00.000000000",
          "2022-09-30T00:00:00.000000000",
          "2022-10-31T00:00:00.000000000",
          "2022-11-30T00:00:00.000000000",
          "2022-12-31T00:00:00.000000000",
          "2023-01-31T00:00:00.000000000",
          "2023-02-28T00:00:00.000000000",
          "2023-03-31T00:00:00.000000000",
          "2023-04-30T00:00:00.000000000",
          "2023-05-31T00:00:00.000000000",
          "2023-06-30T00:00:00.000000000",
          "2023-07-31T00:00:00.000000000",
          "2023-08-31T00:00:00.000000000",
          "2023-09-30T00:00:00.000000000",
          "2023-10-31T00:00:00.000000000",
          "2023-11-30T00:00:00.000000000",
          "2023-12-31T00:00:00.000000000",
          "2024-01-31T00:00:00.000000000",
          "2024-02-29T00:00:00.000000000",
          "2024-03-31T00:00:00.000000000",
          "2024-04-30T00:00:00.000000000",
          "2024-05-31T00:00:00.000000000",
          "2024-06-30T00:00:00.000000000",
          "2024-07-31T00:00:00.000000000",
          "2024-08-31T00:00:00.000000000",
          "2024-09-30T00:00:00.000000000",
          "2024-10-31T00:00:00.000000000",
          "2024-11-30T00:00:00.000000000",
          "2024-12-31T00:00:00.000000000",
          "2025-01-31T00:00:00.000000000",
          "2025-02-28T00:00:00.000000000",
          "2025-03-31T00:00:00.000000000",
          "2025-04-30T00:00:00.000000000",
          "2025-05-31T00:00:00.000000000",
          "2025-06-30T00:00:00.000000000",
          "2025-07-31T00:00:00.000000000"
         ],
         "xaxis": "x",
         "y": {
          "bdata": "AAAAAAAA+H8vrBxMy7XwP+PV6CP8H/A/7JOQyvt+8D+Exu/AWF7zP9Jyk4Wg8fQ/DvDUAGPa9T8cSylwzlD3P3TZuqUJ1/c/Q1WPsgBx+D8+pOyRFqP4P3RXK9g18Pg/qlv+ClRQ+D+1Xq/Qf874P12DIhbRHPg/pofgwAgj+T/iB+TZ9DX4P31RCpW2B/k/pHG0psX59j8byPdv7Tn3PyZXbeQHdPc/JcDTB3Ns9T/65wHddZH1P7gka3ndrvM/eg38mEy59T+Nvxk2uRP1P1BrfZTmCPM/8rgJ+wMn9T/9/1G6U+b1PzA9uceNgvQ/XgZLa5WG9j+i63v59yH2PzSQAsMoH/U/JibfUhy39D+iVqapVWj0P3z7asfYG/Y/ZtJ1ivFU9z/se6mVMFP2Pygc1kbxB/U/PjB9c8K78z8aYJcJ4Hz1P8pTiUAOAvg/oyjb8noq9z/z8ehYckv4PyLoXlAgM/k/2Fu46mKd9z+VxJ02krj4P0V8Y8+FTvg/5AZasyea+j8IX1oCuVD6P/BxsNrKnvo/FOTnpoY0+j++c30Jpg/9P/YJXYtVv/o/+dqzUA2R+z+/w1sxjiD6P7FqfxDhcfg/MpgD9De09z96s+xkuvj4P6yEcaclH/o/4s9iulny+j8=",
          "dtype": "f8"
         },
         "yaxis": "y"
        },
        {
         "mode": "lines",
         "name": "intl_developed_large_equity",
         "showlegend": true,
         "type": "scatter",
         "x": [
          "2020-07-31T00:00:00.000000000",
          "2020-08-31T00:00:00.000000000",
          "2020-09-30T00:00:00.000000000",
          "2020-10-31T00:00:00.000000000",
          "2020-11-30T00:00:00.000000000",
          "2020-12-31T00:00:00.000000000",
          "2021-01-31T00:00:00.000000000",
          "2021-02-28T00:00:00.000000000",
          "2021-03-31T00:00:00.000000000",
          "2021-04-30T00:00:00.000000000",
          "2021-05-31T00:00:00.000000000",
          "2021-06-30T00:00:00.000000000",
          "2021-07-31T00:00:00.000000000",
          "2021-08-31T00:00:00.000000000",
          "2021-09-30T00:00:00.000000000",
          "2021-10-31T00:00:00.000000000",
          "2021-11-30T00:00:00.000000000",
          "2021-12-31T00:00:00.000000000",
          "2022-01-31T00:00:00.000000000",
          "2022-02-28T00:00:00.000000000",
          "2022-03-31T00:00:00.000000000",
          "2022-04-30T00:00:00.000000000",
          "2022-05-31T00:00:00.000000000",
          "2022-06-30T00:00:00.000000000",
          "2022-07-31T00:00:00.000000000",
          "2022-08-31T00:00:00.000000000",
          "2022-09-30T00:00:00.000000000",
          "2022-10-31T00:00:00.000000000",
          "2022-11-30T00:00:00.000000000",
          "2022-12-31T00:00:00.000000000",
          "2023-01-31T00:00:00.000000000",
          "2023-02-28T00:00:00.000000000",
          "2023-03-31T00:00:00.000000000",
          "2023-04-30T00:00:00.000000000",
          "2023-05-31T00:00:00.000000000",
          "2023-06-30T00:00:00.000000000",
          "2023-07-31T00:00:00.000000000",
          "2023-08-31T00:00:00.000000000",
          "2023-09-30T00:00:00.000000000",
          "2023-10-31T00:00:00.000000000",
          "2023-11-30T00:00:00.000000000",
          "2023-12-31T00:00:00.000000000",
          "2024-01-31T00:00:00.000000000",
          "2024-02-29T00:00:00.000000000",
          "2024-03-31T00:00:00.000000000",
          "2024-04-30T00:00:00.000000000",
          "2024-05-31T00:00:00.000000000",
          "2024-06-30T00:00:00.000000000",
          "2024-07-31T00:00:00.000000000",
          "2024-08-31T00:00:00.000000000",
          "2024-09-30T00:00:00.000000000",
          "2024-10-31T00:00:00.000000000",
          "2024-11-30T00:00:00.000000000",
          "2024-12-31T00:00:00.000000000",
          "2025-01-31T00:00:00.000000000",
          "2025-02-28T00:00:00.000000000",
          "2025-03-31T00:00:00.000000000",
          "2025-04-30T00:00:00.000000000",
          "2025-05-31T00:00:00.000000000",
          "2025-06-30T00:00:00.000000000",
          "2025-07-31T00:00:00.000000000"
         ],
         "xaxis": "x",
         "y": {
          "bdata": "AAAAAAAA+H89kmOi8c7wP6BQhRrsfPA/kVLmZzTP7z8hJxIp2ifyPzkopOoYHvM/CorTwI/58j+I4n0xf27zP2AbT72g7vM/ClJDvyWK9D+DZ390mED1PyIDS6CqB/U/YFbEPSQv9T9aE/cmv331P9t+MzIcyPQ/Oo9kArdv9T9kbv60bnP0P7bJnDftVPU/RchEyaGC9D9NIpMckN/zPzgKA9Qz+fM/ikVlM2mf8j9PwsdHH/TyPwMtm+YlQ/E/UNOimV4t8j8GTK1wOxbxPygPCGrX5u4/6ApRIpdd8D84a9xccnzyPwn1+WFkIvI/nzbmvcfB8z8RQQsgFSDzP72df68MrPM/lzqFQsc59D9LSR9/cm/zP2Rv1SGPSPQ/HI9yzUPi9D+EYmt9JxL0P+BtI+9OUfM/Y0gxQLG28j9ZmKJFekv0P0Imkk7wafU/YD6ucmNB9T+8hW0PbNv1P+sGyImJnfY/izF9dj/e9T8GiVTQkPL2P6wgt7zWhvY/65q5cz4r9z/UB9Fm5eT3P1rl2muTIfg/DsoYQKra9j9lvZ4Y3Nj2P9NgiE/zHvY/Oix5I+Ul9z9glXd8Pr33PyE4giAHyPc/5hZjdYu2+D/Zgdgg0e75P3gc4+y8r/o/RRZbquS9+j8=",
          "dtype": "f8"
         },
         "yaxis": "y"
        },
        {
         "mode": "lines",
         "name": "emerging_equity",
         "showlegend": true,
         "type": "scatter",
         "x": [
          "2020-07-31T00:00:00.000000000",
          "2020-08-31T00:00:00.000000000",
          "2020-09-30T00:00:00.000000000",
          "2020-10-31T00:00:00.000000000",
          "2020-11-30T00:00:00.000000000",
          "2020-12-31T00:00:00.000000000",
          "2021-01-31T00:00:00.000000000",
          "2021-02-28T00:00:00.000000000",
          "2021-03-31T00:00:00.000000000",
          "2021-04-30T00:00:00.000000000",
          "2021-05-31T00:00:00.000000000",
          "2021-06-30T00:00:00.000000000",
          "2021-07-31T00:00:00.000000000",
          "2021-08-31T00:00:00.000000000",
          "2021-09-30T00:00:00.000000000",
          "2021-10-31T00:00:00.000000000",
          "2021-11-30T00:00:00.000000000",
          "2021-12-31T00:00:00.000000000",
          "2022-01-31T00:00:00.000000000",
          "2022-02-28T00:00:00.000000000",
          "2022-03-31T00:00:00.000000000",
          "2022-04-30T00:00:00.000000000",
          "2022-05-31T00:00:00.000000000",
          "2022-06-30T00:00:00.000000000",
          "2022-07-31T00:00:00.000000000",
          "2022-08-31T00:00:00.000000000",
          "2022-09-30T00:00:00.000000000",
          "2022-10-31T00:00:00.000000000",
          "2022-11-30T00:00:00.000000000",
          "2022-12-31T00:00:00.000000000",
          "2023-01-31T00:00:00.000000000",
          "2023-02-28T00:00:00.000000000",
          "2023-03-31T00:00:00.000000000",
          "2023-04-30T00:00:00.000000000",
          "2023-05-31T00:00:00.000000000",
          "2023-06-30T00:00:00.000000000",
          "2023-07-31T00:00:00.000000000",
          "2023-08-31T00:00:00.000000000",
          "2023-09-30T00:00:00.000000000",
          "2023-10-31T00:00:00.000000000",
          "2023-11-30T00:00:00.000000000",
          "2023-12-31T00:00:00.000000000",
          "2024-01-31T00:00:00.000000000",
          "2024-02-29T00:00:00.000000000",
          "2024-03-31T00:00:00.000000000",
          "2024-04-30T00:00:00.000000000",
          "2024-05-31T00:00:00.000000000",
          "2024-06-30T00:00:00.000000000",
          "2024-07-31T00:00:00.000000000",
          "2024-08-31T00:00:00.000000000",
          "2024-09-30T00:00:00.000000000",
          "2024-10-31T00:00:00.000000000",
          "2024-11-30T00:00:00.000000000",
          "2024-12-31T00:00:00.000000000",
          "2025-01-31T00:00:00.000000000",
          "2025-02-28T00:00:00.000000000",
          "2025-03-31T00:00:00.000000000",
          "2025-04-30T00:00:00.000000000",
          "2025-05-31T00:00:00.000000000",
          "2025-06-30T00:00:00.000000000",
          "2025-07-31T00:00:00.000000000"
         ],
         "xaxis": "x",
         "y": {
          "bdata": "AAAAAAAA+H///Vku3XbwP5cIP5qwSvA/eSCy/TSC8D/aR3YdIwHyP2pxMTD7N/M/xVEnD7zO8z+O5ZXzXw70P/VbU/0C7PM/WtufhRo89D91iomOBpX0P209qY5v0vQ/Z6ZogRyT8z84C9jeMOnzPzS9Tj99MPM/scULmhZp8z/0naj7E7jyP8XqjpfEBfM/+D+wM7wE8z+nkmSgKULyP2s9C9gGrfE/FHfAS+2e8D9sDjAw2LbwP1/8MBYUze8/aunhSxqu7z8Jr+AYwVzvP9KzNit36+s/iH9qXoJV6z+pCtC/v2TvP4NKq1u9n+4/bWOB6MSo8D8np6Ovc/juP7PjFOSD4e8/elntvke07z8JZbSPl+vuP0ALYCY5K/A/R60zQ/Ah8T9Mb4x9GhLwP4FKXZ/qOO8/x6mEQn0u7j8f8Gdx5T7wP2IOJ41H1PA/oDldrskj8D8TmaGd3MLwP2//9rcoKfE/7A/8u2Q18T+XyNN+d4zxP3kV91eo+vE/f3HlbfUl8j8IUIJMEVPyP0oayQLwc/M/owQkFr3g8j8GauhLFG3yP/4BfqWGJvI/cjlzg1tr8j9aLtpoapbyP5DNhHGPzPI/HEiSW1rU8j+ygUSe3Z3zP68kDosd6PQ/s5nidRQh9T8=",
          "dtype": "f8"
         },
         "yaxis": "y"
        },
        {
         "mode": "lines",
         "name": "broad_ust",
         "showlegend": true,
         "type": "scatter",
         "x": [
          "2020-07-31T00:00:00.000000000",
          "2020-08-31T00:00:00.000000000",
          "2020-09-30T00:00:00.000000000",
          "2020-10-31T00:00:00.000000000",
          "2020-11-30T00:00:00.000000000",
          "2020-12-31T00:00:00.000000000",
          "2021-01-31T00:00:00.000000000",
          "2021-02-28T00:00:00.000000000",
          "2021-03-31T00:00:00.000000000",
          "2021-04-30T00:00:00.000000000",
          "2021-05-31T00:00:00.000000000",
          "2021-06-30T00:00:00.000000000",
          "2021-07-31T00:00:00.000000000",
          "2021-08-31T00:00:00.000000000",
          "2021-09-30T00:00:00.000000000",
          "2021-10-31T00:00:00.000000000",
          "2021-11-30T00:00:00.000000000",
          "2021-12-31T00:00:00.000000000",
          "2022-01-31T00:00:00.000000000",
          "2022-02-28T00:00:00.000000000",
          "2022-03-31T00:00:00.000000000",
          "2022-04-30T00:00:00.000000000",
          "2022-05-31T00:00:00.000000000",
          "2022-06-30T00:00:00.000000000",
          "2022-07-31T00:00:00.000000000",
          "2022-08-31T00:00:00.000000000",
          "2022-09-30T00:00:00.000000000",
          "2022-10-31T00:00:00.000000000",
          "2022-11-30T00:00:00.000000000",
          "2022-12-31T00:00:00.000000000",
          "2023-01-31T00:00:00.000000000",
          "2023-02-28T00:00:00.000000000",
          "2023-03-31T00:00:00.000000000",
          "2023-04-30T00:00:00.000000000",
          "2023-05-31T00:00:00.000000000",
          "2023-06-30T00:00:00.000000000",
          "2023-07-31T00:00:00.000000000",
          "2023-08-31T00:00:00.000000000",
          "2023-09-30T00:00:00.000000000",
          "2023-10-31T00:00:00.000000000",
          "2023-11-30T00:00:00.000000000",
          "2023-12-31T00:00:00.000000000",
          "2024-01-31T00:00:00.000000000",
          "2024-02-29T00:00:00.000000000",
          "2024-03-31T00:00:00.000000000",
          "2024-04-30T00:00:00.000000000",
          "2024-05-31T00:00:00.000000000",
          "2024-06-30T00:00:00.000000000",
          "2024-07-31T00:00:00.000000000",
          "2024-08-31T00:00:00.000000000",
          "2024-09-30T00:00:00.000000000",
          "2024-10-31T00:00:00.000000000",
          "2024-11-30T00:00:00.000000000",
          "2024-12-31T00:00:00.000000000",
          "2025-01-31T00:00:00.000000000",
          "2025-02-28T00:00:00.000000000",
          "2025-03-31T00:00:00.000000000",
          "2025-04-30T00:00:00.000000000",
          "2025-05-31T00:00:00.000000000",
          "2025-06-30T00:00:00.000000000",
          "2025-07-31T00:00:00.000000000"
         ],
         "xaxis": "x",
         "y": {
          "bdata": "AAAAAAAA+H/b5xY99bvvP3XlGDdezu8/AEYBcil/7z+I1hOJ+JnvP+zK3Zg4ge8/nqnlMolQ7z+IqKlz4cLuP4BBQHGPR+4/OUExcWSA7j9Na19AKJnuP2xibQUox+4/lbku2gE07z+9Q7Tv6R/vP1wM941lw+4/dcCsnceg7j9Bag++rdTuP4wzficAxu4/ICGGsA8k7j9LydtrxPztP9ZrP8a38Ow/KR/0qcoO7D/jZvCphy/sP/8PfJ/r9Os//cGDcXOL7D/0JoYtCK7rPyivReI5qOo/MTd10X5d6j8OdyyGkx3rP6Isfxlb3eo/2Wvwfxad6z/mWUTBGObqP/F7GtlLwes/G4IDcdnt6z8y6iCiy5vrP7Zw9AmQTus/A0qDswA66z/UdXz2Hx3rP8a0BWjXgeo/hmjR0NQu6j8uqAHF9x7rP9cy+aMO9+s/d4nmOfv76z9R9WkXeorrP87PXfnJt+s/J9py+jwL6z8MNJ0ecnPrP2un/RUAves/NGLj96lp7D/4XmoaWMXsP022O7BLHe0/tpcpAgJY7D9bahrPi5PsP6K6oSLMWew/HoIqBb9K7D+//p7aB+zsP8VdjuOxB+0/OZfp6bxU7T93ZBwnsAftP5+xHJddae0/HEfky/s57T8=",
          "dtype": "f8"
         },
         "yaxis": "y"
        },
        {
         "mode": "lines",
         "name": "real_estate",
         "showlegend": true,
         "type": "scatter",
         "x": [
          "2020-07-31T00:00:00.000000000",
          "2020-08-31T00:00:00.000000000",
          "2020-09-30T00:00:00.000000000",
          "2020-10-31T00:00:00.000000000",
          "2020-11-30T00:00:00.000000000",
          "2020-12-31T00:00:00.000000000",
          "2021-01-31T00:00:00.000000000",
          "2021-02-28T00:00:00.000000000",
          "2021-03-31T00:00:00.000000000",
          "2021-04-30T00:00:00.000000000",
          "2021-05-31T00:00:00.000000000",
          "2021-06-30T00:00:00.000000000",
          "2021-07-31T00:00:00.000000000",
          "2021-08-31T00:00:00.000000000",
          "2021-09-30T00:00:00.000000000",
          "2021-10-31T00:00:00.000000000",
          "2021-11-30T00:00:00.000000000",
          "2021-12-31T00:00:00.000000000",
          "2022-01-31T00:00:00.000000000",
          "2022-02-28T00:00:00.000000000",
          "2022-03-31T00:00:00.000000000",
          "2022-04-30T00:00:00.000000000",
          "2022-05-31T00:00:00.000000000",
          "2022-06-30T00:00:00.000000000",
          "2022-07-31T00:00:00.000000000",
          "2022-08-31T00:00:00.000000000",
          "2022-09-30T00:00:00.000000000",
          "2022-10-31T00:00:00.000000000",
          "2022-11-30T00:00:00.000000000",
          "2022-12-31T00:00:00.000000000",
          "2023-01-31T00:00:00.000000000",
          "2023-02-28T00:00:00.000000000",
          "2023-03-31T00:00:00.000000000",
          "2023-04-30T00:00:00.000000000",
          "2023-05-31T00:00:00.000000000",
          "2023-06-30T00:00:00.000000000",
          "2023-07-31T00:00:00.000000000",
          "2023-08-31T00:00:00.000000000",
          "2023-09-30T00:00:00.000000000",
          "2023-10-31T00:00:00.000000000",
          "2023-11-30T00:00:00.000000000",
          "2023-12-31T00:00:00.000000000",
          "2024-01-31T00:00:00.000000000",
          "2024-02-29T00:00:00.000000000",
          "2024-03-31T00:00:00.000000000",
          "2024-04-30T00:00:00.000000000",
          "2024-05-31T00:00:00.000000000",
          "2024-06-30T00:00:00.000000000",
          "2024-07-31T00:00:00.000000000",
          "2024-08-31T00:00:00.000000000",
          "2024-09-30T00:00:00.000000000",
          "2024-10-31T00:00:00.000000000",
          "2024-11-30T00:00:00.000000000",
          "2024-12-31T00:00:00.000000000",
          "2025-01-31T00:00:00.000000000",
          "2025-02-28T00:00:00.000000000",
          "2025-03-31T00:00:00.000000000",
          "2025-04-30T00:00:00.000000000",
          "2025-05-31T00:00:00.000000000",
          "2025-06-30T00:00:00.000000000",
          "2025-07-31T00:00:00.000000000"
         ],
         "xaxis": "x",
         "y": {
          "bdata": "AAAAAAAA+H8KZZsx9RnwPw+FsmRYQu8/X12sbyFW7j+wLcfOdr/wP7JHjTYEOvE/ewYZB+w58T+RPX3E6dfxP+ULznCDwfI/YediKh429D/s80tr2mr0PwMDslCZ5vQ/+8cFxb7c9T++l8ND5VD2P8W4q2sU+vQ/zgw72gCH9j/k2Zi01Tz2PyofWNYcQvg/Ex7uputt9j/P+YqlCKP1P1PL6DjpDPc/FTEp0QkJ9j8SNWDD0930P9gWDAPBSvM/O8BOLTD09D8LaQ0BNqzzPyMdGNbnMfE/D9y8MZLL8T+QKzejS+zyP2JPDKrJCPI/6HPJJTLe8z/5ryj9mM7yP/oIoHBDZPI/ipXfxW6O8j8cQZp52NnxP2a14WT+uPI/5CozsK0s8z/5Ok5diIryP9HMM6FwPvE/TZ508+6R8D8Qf+8eKXnyP/yNgY+FNvQ/xGDZacVJ8z8WT0Che5rzP2amBwsqA/Q/iV1unLx/8j8LW7cqtF7zPyJ/Sm48vPM/LLoK2NwV9T/v4HcP5Uj2PxvXIavJ+/Y/aApqCScp9j+75/g3pg73P4dpTaw3PfU/IGdyehON9T8RWTYcI1P2P/cSOayatfU//xdUv4pQ9T/QLMO8tK31Pwq8FRFDtfU/O5J9Ky7v9T8=",
          "dtype": "f8"
         },
         "yaxis": "y"
        },
        {
         "mode": "lines",
         "name": "gold",
         "showlegend": true,
         "type": "scatter",
         "x": [
          "2020-07-31T00:00:00.000000000",
          "2020-08-31T00:00:00.000000000",
          "2020-09-30T00:00:00.000000000",
          "2020-10-31T00:00:00.000000000",
          "2020-11-30T00:00:00.000000000",
          "2020-12-31T00:00:00.000000000",
          "2021-01-31T00:00:00.000000000",
          "2021-02-28T00:00:00.000000000",
          "2021-03-31T00:00:00.000000000",
          "2021-04-30T00:00:00.000000000",
          "2021-05-31T00:00:00.000000000",
          "2021-06-30T00:00:00.000000000",
          "2021-07-31T00:00:00.000000000",
          "2021-08-31T00:00:00.000000000",
          "2021-09-30T00:00:00.000000000",
          "2021-10-31T00:00:00.000000000",
          "2021-11-30T00:00:00.000000000",
          "2021-12-31T00:00:00.000000000",
          "2022-01-31T00:00:00.000000000",
          "2022-02-28T00:00:00.000000000",
          "2022-03-31T00:00:00.000000000",
          "2022-04-30T00:00:00.000000000",
          "2022-05-31T00:00:00.000000000",
          "2022-06-30T00:00:00.000000000",
          "2022-07-31T00:00:00.000000000",
          "2022-08-31T00:00:00.000000000",
          "2022-09-30T00:00:00.000000000",
          "2022-10-31T00:00:00.000000000",
          "2022-11-30T00:00:00.000000000",
          "2022-12-31T00:00:00.000000000",
          "2023-01-31T00:00:00.000000000",
          "2023-02-28T00:00:00.000000000",
          "2023-03-31T00:00:00.000000000",
          "2023-04-30T00:00:00.000000000",
          "2023-05-31T00:00:00.000000000",
          "2023-06-30T00:00:00.000000000",
          "2023-07-31T00:00:00.000000000",
          "2023-08-31T00:00:00.000000000",
          "2023-09-30T00:00:00.000000000",
          "2023-10-31T00:00:00.000000000",
          "2023-11-30T00:00:00.000000000",
          "2023-12-31T00:00:00.000000000",
          "2024-01-31T00:00:00.000000000",
          "2024-02-29T00:00:00.000000000",
          "2024-03-31T00:00:00.000000000",
          "2024-04-30T00:00:00.000000000",
          "2024-05-31T00:00:00.000000000",
          "2024-06-30T00:00:00.000000000",
          "2024-07-31T00:00:00.000000000",
          "2024-08-31T00:00:00.000000000",
          "2024-09-30T00:00:00.000000000",
          "2024-10-31T00:00:00.000000000",
          "2024-11-30T00:00:00.000000000",
          "2024-12-31T00:00:00.000000000",
          "2025-01-31T00:00:00.000000000",
          "2025-02-28T00:00:00.000000000",
          "2025-03-31T00:00:00.000000000",
          "2025-04-30T00:00:00.000000000",
          "2025-05-31T00:00:00.000000000",
          "2025-06-30T00:00:00.000000000",
          "2025-07-31T00:00:00.000000000"
         ],
         "xaxis": "x",
         "y": {
          "bdata": "AAAAAAAA+H8rVbX/Cd/vPzGv2/Q7jO4/Y4yBn7lj7j8cUdCnOMPsP2WatSYvxu4/eVSGrlLK7T8XMh8IFevrP6Mn0Yxtm+s/8TfLkwCY7D+KnxkZGMXuP0xj52Osmew/h2B9p4tQ7T94MophO0/tP/DpR5pkWuw/OvRbCETJ7D8166Abl5XsP1WUYu7Zhu0/dnygAUUI7T/+oROKp8/uP4ZCuSIXOu8/wxyuG1qS7j8X8S3jxpTtP8SmxdCNHO0/uc8MPF9g7D88JJV62IrrP7dvMA0iv+o/gnc/NiVH6j+u42SVFoDsP2NKENSwV+0/NqAAO0YJ7z+uG5JmY1/tP3xzXQJms+8/kVbcK5/97z+T++QJvY7vP932tgXT3O4/lVU7jUGR7z8HOUyQsivvPzq5pRHhr+0/Ms9hCSfi7z/5yGlsyljwPwAv4yi4jvA/vAiWzmFT8D+iNGQPcGbwPxSFJ3CU0vE/AmDOV1td8j+HDGvl5ajyP2x6N1szo/I/kXZRBfCj8z+Gv52TrA30PwHeBDD+E/U//N8gvb/89T8A/jhrSU71P8eXhIJnAfU/4/yEZQFt9j+PIKSkn9j2P1LDEWV3Afk/gg/Wv5Nd+j+g3w1GRFv6P3bnp4REdfo/9puSs8Kq+j8=",
          "dtype": "f8"
         },
         "yaxis": "y"
        },
        {
         "mode": "lines",
         "name": "commodities",
         "showlegend": true,
         "type": "scatter",
         "x": [
          "2020-07-31T00:00:00.000000000",
          "2020-08-31T00:00:00.000000000",
          "2020-09-30T00:00:00.000000000",
          "2020-10-31T00:00:00.000000000",
          "2020-11-30T00:00:00.000000000",
          "2020-12-31T00:00:00.000000000",
          "2021-01-31T00:00:00.000000000",
          "2021-02-28T00:00:00.000000000",
          "2021-03-31T00:00:00.000000000",
          "2021-04-30T00:00:00.000000000",
          "2021-05-31T00:00:00.000000000",
          "2021-06-30T00:00:00.000000000",
          "2021-07-31T00:00:00.000000000",
          "2021-08-31T00:00:00.000000000",
          "2021-09-30T00:00:00.000000000",
          "2021-10-31T00:00:00.000000000",
          "2021-11-30T00:00:00.000000000",
          "2021-12-31T00:00:00.000000000",
          "2022-01-31T00:00:00.000000000",
          "2022-02-28T00:00:00.000000000",
          "2022-03-31T00:00:00.000000000",
          "2022-04-30T00:00:00.000000000",
          "2022-05-31T00:00:00.000000000",
          "2022-06-30T00:00:00.000000000",
          "2022-07-31T00:00:00.000000000",
          "2022-08-31T00:00:00.000000000",
          "2022-09-30T00:00:00.000000000",
          "2022-10-31T00:00:00.000000000",
          "2022-11-30T00:00:00.000000000",
          "2022-12-31T00:00:00.000000000",
          "2023-01-31T00:00:00.000000000",
          "2023-02-28T00:00:00.000000000",
          "2023-03-31T00:00:00.000000000",
          "2023-04-30T00:00:00.000000000",
          "2023-05-31T00:00:00.000000000",
          "2023-06-30T00:00:00.000000000",
          "2023-07-31T00:00:00.000000000",
          "2023-08-31T00:00:00.000000000",
          "2023-09-30T00:00:00.000000000",
          "2023-10-31T00:00:00.000000000",
          "2023-11-30T00:00:00.000000000",
          "2023-12-31T00:00:00.000000000",
          "2024-01-31T00:00:00.000000000",
          "2024-02-29T00:00:00.000000000",
          "2024-03-31T00:00:00.000000000",
          "2024-04-30T00:00:00.000000000",
          "2024-05-31T00:00:00.000000000",
          "2024-06-30T00:00:00.000000000",
          "2024-07-31T00:00:00.000000000",
          "2024-08-31T00:00:00.000000000",
          "2024-09-30T00:00:00.000000000",
          "2024-10-31T00:00:00.000000000",
          "2024-11-30T00:00:00.000000000",
          "2024-12-31T00:00:00.000000000",
          "2025-01-31T00:00:00.000000000",
          "2025-02-28T00:00:00.000000000",
          "2025-03-31T00:00:00.000000000",
          "2025-04-30T00:00:00.000000000",
          "2025-05-31T00:00:00.000000000",
          "2025-06-30T00:00:00.000000000",
          "2025-07-31T00:00:00.000000000"
         ],
         "xaxis": "x",
         "y": {
          "bdata": "AAAAAAAA+H9IBC4Sc+zwP95701CZQvA/ZvGMm7sE8D+a4N9LL03xPyYT30iBQfI/B1rbAkXU8j+VIpuK1Jj0P5dpmy8XUvQ/jLRqC3UP9j/H8QE3vNv2P+WWlxvIiPc/2nI3Jxvu9z/VUv1t6Jj3P95vD8/Q4Pg/je8YsfIP+j+8ITIre9H3P8SjXvBdMfk/JaX4ivJd+z9xlK4OdD39Px24hZje3f8/hMv1d7vHAEBMZB5WuGsBQCTBYAJUuf8/v6OmVOiy/z/JgPy0pF//PxkWDOYz+/w/LSncoYcj/j+277eFgdH+Py2sF6vR7f0/O2WU99US/j+lnIh2bpL8PzylwvHkjfw/LwRV7EhY/D845tUBFIP6P8shHt0ua/s/U/7AvPes/T/iQA7PK4T9P0Gl8Kifsv0/7pJ8Sshj/T/66LWqw6H8P9jZqFrvtPs/aq7SQH0E/D8JP7o1cYX7P/hjm4Ehtfw/LYyTi+RM/T9pb6JvbHL9P0FSfX/sPP0/B/1+w7I//D+vdNZzBtb7P8kf5YG6dfw/3XVfUrCZ/D8ytrKIlzz8P5CXmPiCofw/EtoBTlKT/T8I5FKdSrj9P7vlWm3jjf4/HoFZTLU0/D9VRqV73V38P90Z6qsNbP0/6gCvJC8C/j8=",
          "dtype": "f8"
         },
         "yaxis": "y"
        },
        {
         "mode": "lines",
         "name": "us_large_equity",
         "showlegend": false,
         "type": "scatter",
         "x": [
          "2020-09-30T00:00:00.000000000",
          "2020-10-31T00:00:00.000000000",
          "2020-11-30T00:00:00.000000000",
          "2020-12-31T00:00:00.000000000",
          "2021-01-31T00:00:00.000000000",
          "2021-02-28T00:00:00.000000000",
          "2021-03-31T00:00:00.000000000",
          "2021-04-30T00:00:00.000000000",
          "2021-05-31T00:00:00.000000000",
          "2021-06-30T00:00:00.000000000",
          "2021-07-31T00:00:00.000000000",
          "2021-08-31T00:00:00.000000000",
          "2021-09-30T00:00:00.000000000",
          "2021-10-31T00:00:00.000000000",
          "2021-11-30T00:00:00.000000000",
          "2021-12-31T00:00:00.000000000",
          "2022-01-31T00:00:00.000000000",
          "2022-02-28T00:00:00.000000000",
          "2022-03-31T00:00:00.000000000",
          "2022-04-30T00:00:00.000000000",
          "2022-05-31T00:00:00.000000000",
          "2022-06-30T00:00:00.000000000",
          "2022-07-31T00:00:00.000000000",
          "2022-08-31T00:00:00.000000000",
          "2022-09-30T00:00:00.000000000",
          "2022-10-31T00:00:00.000000000",
          "2022-11-30T00:00:00.000000000",
          "2022-12-31T00:00:00.000000000",
          "2023-01-31T00:00:00.000000000",
          "2023-02-28T00:00:00.000000000",
          "2023-03-31T00:00:00.000000000",
          "2023-04-30T00:00:00.000000000",
          "2023-05-31T00:00:00.000000000",
          "2023-06-30T00:00:00.000000000",
          "2023-07-31T00:00:00.000000000",
          "2023-08-31T00:00:00.000000000",
          "2023-09-30T00:00:00.000000000",
          "2023-10-31T00:00:00.000000000",
          "2023-11-30T00:00:00.000000000",
          "2023-12-31T00:00:00.000000000",
          "2024-01-31T00:00:00.000000000",
          "2024-02-29T00:00:00.000000000",
          "2024-03-31T00:00:00.000000000",
          "2024-04-30T00:00:00.000000000",
          "2024-05-31T00:00:00.000000000",
          "2024-06-30T00:00:00.000000000",
          "2024-07-31T00:00:00.000000000",
          "2024-08-31T00:00:00.000000000",
          "2024-09-30T00:00:00.000000000",
          "2024-10-31T00:00:00.000000000",
          "2024-11-30T00:00:00.000000000",
          "2024-12-31T00:00:00.000000000",
          "2025-01-31T00:00:00.000000000",
          "2025-02-28T00:00:00.000000000",
          "2025-03-31T00:00:00.000000000",
          "2025-04-30T00:00:00.000000000",
          "2025-05-31T00:00:00.000000000"
         ],
         "xaxis": "x2",
         "y": {
          "bdata": "AT3ID+e37j9XHXGrg+jtP2GzkPMrjPA/llLWj6sX8T+GeKsxFOHwPycmHV/5SPE/TgWHnlv88T8swv08q8/yPz/JhDJoz/I/WO6kGfcR8z/mvTPuGnLzP0TvK4PT9/M/9NLOSPjz8j8MkPID/Bf0P6tL13YUx/M/TNi61LWJ9D/mbYlMKVbzP5Jcx14go/I/gdSScjsk8z9s1wGeo2PxP6TS94XlRfE/VdtrdO9H7z89dwDpRBfxP8RTWeQwYPA/rOTAXn+a7T8RsxQGSNfvP9eC9YfhwvA/Ne4qNliW7z8Rq4lDq7HwP8PqQesWOPA//mGq2/HP8D+i0TILGQPxP17YWjpWEPE/F/nk9ZEh8j8cKTqtOrHyPyTuA+XzS/I/RbFBwm9c8T8Q5CoFavfwP8Z1mzRrfvI/eY0d3RlN8z/EGlIjv4rzP38qJNuaevQ/v918SUoU9T8ptrBexiv0PwNUEL1FLvU/pP6FmSzv9T9j4ObRfij2P85opt9hpfY/KZgj/XoU9z+yE0pN98/2P7V46uusGPg/qrBiWqlw9z9p5RIl8PX3P63W8aVMm/c/PjfQw0VM9j+VrJkugxL2P+dPfu3Cbfc/",
          "dtype": "f8"
         },
         "yaxis": "y2"
        },
        {
         "mode": "lines",
         "name": "us_small_equity",
         "showlegend": false,
         "type": "scatter",
         "x": [
          "2020-09-30T00:00:00.000000000",
          "2020-10-31T00:00:00.000000000",
          "2020-11-30T00:00:00.000000000",
          "2020-12-31T00:00:00.000000000",
          "2021-01-31T00:00:00.000000000",
          "2021-02-28T00:00:00.000000000",
          "2021-03-31T00:00:00.000000000",
          "2021-04-30T00:00:00.000000000",
          "2021-05-31T00:00:00.000000000",
          "2021-06-30T00:00:00.000000000",
          "2021-07-31T00:00:00.000000000",
          "2021-08-31T00:00:00.000000000",
          "2021-09-30T00:00:00.000000000",
          "2021-10-31T00:00:00.000000000",
          "2021-11-30T00:00:00.000000000",
          "2021-12-31T00:00:00.000000000",
          "2022-01-31T00:00:00.000000000",
          "2022-02-28T00:00:00.000000000",
          "2022-03-31T00:00:00.000000000",
          "2022-04-30T00:00:00.000000000",
          "2022-05-31T00:00:00.000000000",
          "2022-06-30T00:00:00.000000000",
          "2022-07-31T00:00:00.000000000",
          "2022-08-31T00:00:00.000000000",
          "2022-09-30T00:00:00.000000000",
          "2022-10-31T00:00:00.000000000",
          "2022-11-30T00:00:00.000000000",
          "2022-12-31T00:00:00.000000000",
          "2023-01-31T00:00:00.000000000",
          "2023-02-28T00:00:00.000000000",
          "2023-03-31T00:00:00.000000000",
          "2023-04-30T00:00:00.000000000",
          "2023-05-31T00:00:00.000000000",
          "2023-06-30T00:00:00.000000000",
          "2023-07-31T00:00:00.000000000",
          "2023-08-31T00:00:00.000000000",
          "2023-09-30T00:00:00.000000000",
          "2023-10-31T00:00:00.000000000",
          "2023-11-30T00:00:00.000000000",
          "2023-12-31T00:00:00.000000000",
          "2024-01-31T00:00:00.000000000",
          "2024-02-29T00:00:00.000000000",
          "2024-03-31T00:00:00.000000000",
          "2024-04-30T00:00:00.000000000",
          "2024-05-31T00:00:00.000000000",
          "2024-06-30T00:00:00.000000000",
          "2024-07-31T00:00:00.000000000",
          "2024-08-31T00:00:00.000000000",
          "2024-09-30T00:00:00.000000000",
          "2024-10-31T00:00:00.000000000",
          "2024-11-30T00:00:00.000000000",
          "2024-12-31T00:00:00.000000000",
          "2025-01-31T00:00:00.000000000",
          "2025-02-28T00:00:00.000000000",
          "2025-03-31T00:00:00.000000000",
          "2025-04-30T00:00:00.000000000",
          "2025-05-31T00:00:00.000000000"
         ],
         "xaxis": "x2",
         "y": {
          "bdata": "OK2usWjM7j/qySfd4HfvP3Kke5mbbvI/RaSqCE/Y8z924o/33aj0P2reX8zX9vU/hXt2UqNZ9j+PwKQZ3cL2Py+BZHOTyvY/2yXnl5zf9j9emB6GnzL2P54yX5oVlfY/S6G1Yuza9T/YBZQ6DJL2P4kFdv5Yj/U/c5OM6dwh9j/SyOqD2zD0P/NZw8bRRPQ/+8QH5OZB9D+yb+VA0W7yPyOL1fRZYvI/HjyLpBSQ8D9EIBZYyknyP2VrINP7uvE/TAfZkofj7z9tFxskJqDxP4CqDFEpNPI/Aj15cvgK8T8BPLQifJ3yPyZYHLh+OvI/oiDptt9i8T8T6LfqtvvwPxYMD8aptPA/KTsQ6j4N8j8bs/CDoATzP5a/dVNaG/I/na1y/CH98D9mRGr5MNrvPwtqoZBOUfE/5sV0GeFO8z+SxEejM5HyPwh3PoMfZfM/ifcpqiwM9D+f2A9AbLvyP/UhdUkRmvM//xirAR9G8z+388sWlxD1P5Pd3DbZzPQ/4TOxDT3+9D/9191ce570P4n1mqhhzfY/S85emhzp9D8cba10bHP1P/lsNgd3SfQ/Evu6c3398j/46u2kwl/yP0jL5qZMV/M/",
          "dtype": "f8"
         },
         "yaxis": "y2"
        },
        {
         "mode": "lines",
         "name": "intl_developed_large_equity",
         "showlegend": false,
         "type": "scatter",
         "x": [
          "2020-09-30T00:00:00.000000000",
          "2020-10-31T00:00:00.000000000",
          "2020-11-30T00:00:00.000000000",
          "2020-12-31T00:00:00.000000000",
          "2021-01-31T00:00:00.000000000",
          "2021-02-28T00:00:00.000000000",
          "2021-03-31T00:00:00.000000000",
          "2021-04-30T00:00:00.000000000",
          "2021-05-31T00:00:00.000000000",
          "2021-06-30T00:00:00.000000000",
          "2021-07-31T00:00:00.000000000",
          "2021-08-31T00:00:00.000000000",
          "2021-09-30T00:00:00.000000000",
          "2021-10-31T00:00:00.000000000",
          "2021-11-30T00:00:00.000000000",
          "2021-12-31T00:00:00.000000000",
          "2022-01-31T00:00:00.000000000",
          "2022-02-28T00:00:00.000000000",
          "2022-03-31T00:00:00.000000000",
          "2022-04-30T00:00:00.000000000",
          "2022-05-31T00:00:00.000000000",
          "2022-06-30T00:00:00.000000000",
          "2022-07-31T00:00:00.000000000",
          "2022-08-31T00:00:00.000000000",
          "2022-09-30T00:00:00.000000000",
          "2022-10-31T00:00:00.000000000",
          "2022-11-30T00:00:00.000000000",
          "2022-12-31T00:00:00.000000000",
          "2023-01-31T00:00:00.000000000",
          "2023-02-28T00:00:00.000000000",
          "2023-03-31T00:00:00.000000000",
          "2023-04-30T00:00:00.000000000",
          "2023-05-31T00:00:00.000000000",
          "2023-06-30T00:00:00.000000000",
          "2023-07-31T00:00:00.000000000",
          "2023-08-31T00:00:00.000000000",
          "2023-09-30T00:00:00.000000000",
          "2023-10-31T00:00:00.000000000",
          "2023-11-30T00:00:00.000000000",
          "2023-12-31T00:00:00.000000000",
          "2024-01-31T00:00:00.000000000",
          "2024-02-29T00:00:00.000000000",
          "2024-03-31T00:00:00.000000000",
          "2024-04-30T00:00:00.000000000",
          "2024-05-31T00:00:00.000000000",
          "2024-06-30T00:00:00.000000000",
          "2024-07-31T00:00:00.000000000",
          "2024-08-31T00:00:00.000000000",
          "2024-09-30T00:00:00.000000000",
          "2024-10-31T00:00:00.000000000",
          "2024-11-30T00:00:00.000000000",
          "2024-12-31T00:00:00.000000000",
          "2025-01-31T00:00:00.000000000",
          "2025-02-28T00:00:00.000000000",
          "2025-03-31T00:00:00.000000000",
          "2025-04-30T00:00:00.000000000",
          "2025-05-31T00:00:00.000000000"
         ],
         "xaxis": "x2",
         "y": {
          "bdata": "kE0VWcxO7z9e6I/WsynuP1MlPxFGLfE/e8BCqTQC8j8iMs+7cNXxP5rsJKHGMvI/oId1ismT8j+bvPkQDgTzP0k4zwiVi/M/AQcbugwt8z8w9ve4OTrzPzqpMWIpc/M/73lS0ty58j93NwU7pSLzP/gB3r/1GvI/xIYcsXfA8j+MnxRIP+vxP0uhN4/NPfE/ZvSLwqUm8T82EBOFztvvP0SqpdOmD/A/Eu3OOr3h7D8gPJ5XGm3uP8C+ObZblOw/RyXAtcC76T+F58dVRx3rP0dQOheLje4/HhCaUCP27T/6YAR2TTvwP4TE6Q2yUe8/P3F1BCsZ8D8CK6akJnzwP5NnkDA8ou8/3kuuQu128D8GtKahV+zwP932x3H8LvA/TsrRzOkG7z/jiCVGmQfuP7puiZq0QvA/GFvyEwEf8T8HuO/4te/wP4UvF4/XWPE/2kOa3O3i8T82N9zxxz7xPyKnAdPZFvI/fQHczA/C8T+G4kV8LT3yP/WULVSqxvI/yPLYJj/r8j/UIYFMleDxP8Rvhjdg0vE/btOBzU4x8T+dKxUJROjxP7c/kS84U/I/oFGneuVd8j9rZvSXVgvzP5H9rtTY9/M/",
          "dtype": "f8"
         },
         "yaxis": "y2"
        },
        {
         "mode": "lines",
         "name": "emerging_equity",
         "showlegend": false,
         "type": "scatter",
         "x": [
          "2020-09-30T00:00:00.000000000",
          "2020-10-31T00:00:00.000000000",
          "2020-11-30T00:00:00.000000000",
          "2020-12-31T00:00:00.000000000",
          "2021-01-31T00:00:00.000000000",
          "2021-02-28T00:00:00.000000000",
          "2021-03-31T00:00:00.000000000",
          "2021-04-30T00:00:00.000000000",
          "2021-05-31T00:00:00.000000000",
          "2021-06-30T00:00:00.000000000",
          "2021-07-31T00:00:00.000000000",
          "2021-08-31T00:00:00.000000000",
          "2021-09-30T00:00:00.000000000",
          "2021-10-31T00:00:00.000000000",
          "2021-11-30T00:00:00.000000000",
          "2021-12-31T00:00:00.000000000",
          "2022-01-31T00:00:00.000000000",
          "2022-02-28T00:00:00.000000000",
          "2022-03-31T00:00:00.000000000",
          "2022-04-30T00:00:00.000000000",
          "2022-05-31T00:00:00.000000000",
          "2022-06-30T00:00:00.000000000",
          "2022-07-31T00:00:00.000000000",
          "2022-08-31T00:00:00.000000000",
          "2022-09-30T00:00:00.000000000",
          "2022-10-31T00:00:00.000000000",
          "2022-11-30T00:00:00.000000000",
          "2022-12-31T00:00:00.000000000",
          "2023-01-31T00:00:00.000000000",
          "2023-02-28T00:00:00.000000000",
          "2023-03-31T00:00:00.000000000",
          "2023-04-30T00:00:00.000000000",
          "2023-05-31T00:00:00.000000000",
          "2023-06-30T00:00:00.000000000",
          "2023-07-31T00:00:00.000000000",
          "2023-08-31T00:00:00.000000000",
          "2023-09-30T00:00:00.000000000",
          "2023-10-31T00:00:00.000000000",
          "2023-11-30T00:00:00.000000000",
          "2023-12-31T00:00:00.000000000",
          "2024-01-31T00:00:00.000000000",
          "2024-02-29T00:00:00.000000000",
          "2024-03-31T00:00:00.000000000",
          "2024-04-30T00:00:00.000000000",
          "2024-05-31T00:00:00.000000000",
          "2024-06-30T00:00:00.000000000",
          "2024-07-31T00:00:00.000000000",
          "2024-08-31T00:00:00.000000000",
          "2024-09-30T00:00:00.000000000",
          "2024-10-31T00:00:00.000000000",
          "2024-11-30T00:00:00.000000000",
          "2024-12-31T00:00:00.000000000",
          "2025-01-31T00:00:00.000000000",
          "2025-02-28T00:00:00.000000000",
          "2025-03-31T00:00:00.000000000",
          "2025-04-30T00:00:00.000000000",
          "2025-05-31T00:00:00.000000000"
         ],
         "xaxis": "x2",
         "y": {
          "bdata": "xL35QOmU7z9eqezWZfbvP9VZDLTFY/E/oachb3B78j/9jYH9YgHzP9BmGgT+LPM/UwvWhq708j+9EA9iBSDzP8PmregOU/M/fsPOgRVi8z8rq0zFTCPyP/LOQO5uZfI/36TY5xCn8T8C7UZwYrDxPz3LmLQc6/A/C/9SWEMS8T+6OQl1ffbwPxpy3IXkK/A/B6b7y5L97j8p/At/MQftP4f6Mm5D6+w/6hJGZMwo6z8usyCccRHrPzFDOUXHxuo//q6HJW+85z8HozkX2B3nP+YpNDAmfOo/s7eg6brT6T9DAQTuBfLrP/BoQjtf4+k/we6CeGmi6j9XMwA2a2HqP5//d/N7sOk/Ta94aj7M6j8E8CB51FjsP/knWkEydeo/yqgkMw6Z6T/nmojd4LjoP5CZ3Cegk+o/1X4NOTZ56z/MgrOwCELqP+Ep3S1FKes/f7Mn90q26z/2JtLvY7XrP8aHsVi6Puw/LiHto0vw7D/2oB8dnivtP0NFqZyPZu0/cWoO9MMj7z/4vN9NpybuP5vaRXnbWO0/djG0H5nN7D8zJ5e4DBjtPxYkX/PdS+0/YqdqxgCl7T83/hquiaDtP7CCAug41+4/",
          "dtype": "f8"
         },
         "yaxis": "y2"
        },
        {
         "mode": "lines",
         "name": "broad_ust",
         "showlegend": false,
         "type": "scatter",
         "x": [
          "2020-09-30T00:00:00.000000000",
          "2020-10-31T00:00:00.000000000",
          "2020-11-30T00:00:00.000000000",
          "2020-12-31T00:00:00.000000000",
          "2021-01-31T00:00:00.000000000",
          "2021-02-28T00:00:00.000000000",
          "2021-03-31T00:00:00.000000000",
          "2021-04-30T00:00:00.000000000",
          "2021-05-31T00:00:00.000000000",
          "2021-06-30T00:00:00.000000000",
          "2021-07-31T00:00:00.000000000",
          "2021-08-31T00:00:00.000000000",
          "2021-09-30T00:00:00.000000000",
          "2021-10-31T00:00:00.000000000",
          "2021-11-30T00:00:00.000000000",
          "2021-12-31T00:00:00.000000000",
          "2022-01-31T00:00:00.000000000",
          "2022-02-28T00:00:00.000000000",
          "2022-03-31T00:00:00.000000000",
          "2022-04-30T00:00:00.000000000",
          "2022-05-31T00:00:00.000000000",
          "2022-06-30T00:00:00.000000000",
          "2022-07-31T00:00:00.000000000",
          "2022-08-31T00:00:00.000000000",
          "2022-09-30T00:00:00.000000000",
          "2022-10-31T00:00:00.000000000",
          "2022-11-30T00:00:00.000000000",
          "2022-12-31T00:00:00.000000000",
          "2023-01-31T00:00:00.000000000",
          "2023-02-28T00:00:00.000000000",
          "2023-03-31T00:00:00.000000000",
          "2023-04-30T00:00:00.000000000",
          "2023-05-31T00:00:00.000000000",
          "2023-06-30T00:00:00.000000000",
          "2023-07-31T00:00:00.000000000",
          "2023-08-31T00:00:00.000000000",
          "2023-09-30T00:00:00.000000000",
          "2023-10-31T00:00:00.000000000",
          "2023-11-30T00:00:00.000000000",
          "2023-12-31T00:00:00.000000000",
          "2024-01-31T00:00:00.000000000",
          "2024-02-29T00:00:00.000000000",
          "2024-03-31T00:00:00.000000000",
          "2024-04-30T00:00:00.000000000",
          "2024-05-31T00:00:00.000000000",
          "2024-06-30T00:00:00.000000000",
          "2024-07-31T00:00:00.000000000",
          "2024-08-31T00:00:00.000000000",
          "2024-09-30T00:00:00.000000000",
          "2024-10-31T00:00:00.000000000",
          "2024-11-30T00:00:00.000000000",
          "2024-12-31T00:00:00.000000000",
          "2025-01-31T00:00:00.000000000",
          "2025-02-28T00:00:00.000000000",
          "2025-03-31T00:00:00.000000000",
          "2025-04-30T00:00:00.000000000",
          "2025-05-31T00:00:00.000000000"
         ],
         "xaxis": "x2",
         "y": {
          "bdata": "dnOBAw/97z++MnURXqPvP9DHH8Lbq+8/+aIAFBNw7z/iInuXZi3vP4NNbEiVhO4/oDM67j7l7T9NlR1m8untP3SBS/RQz+0/5jze/b267T9o9myKRwDuP+gSHOra1u0/JaAca1xd7T9KUpGxU/bsP7bEwvHx6ew/XOGSMAio7D8y37zuFeXrPy3ocgs0j+s/8KJSdyxT6j9GN8y1a2zpP2KNc3caTek/38sIAFjG6D8WtZS+o07pPygjL92bheg/7UjrXP6D5z+pizZN8CLnP03yUG6hvOc/o218wGWC5z9XMfBqQAjoP7FeDaS3VOc//CXFGm4P6D+Y4UPfLx3oP5J+ao0gzec/VGpTGAd75z+dR2dCMl/nP/who7vDKOc/AqH1b9KM5j8rQFVqCEHmP16eVZnSBOc/VTm0eHmv5z8FMKZI557nP2mcqOaZJ+c/nZADLvU45z8LqUQ6jJfmPzH+47RG7OY/koQaUt4p5z8c9GMRobHnP6fB4xwJ8+c/gOB8Xw8u6D+6g0gSmHznPw0isfr5nOc/0BWxfXdX5z8mBcBMXC/nP1wN4VJ1puc/fMkJSB/A5z/7c6QunfHnP7zZ0IDQrec/",
          "dtype": "f8"
         },
         "yaxis": "y2"
        },
        {
         "mode": "lines",
         "name": "real_estate",
         "showlegend": false,
         "type": "scatter",
         "x": [
          "2020-09-30T00:00:00.000000000",
          "2020-10-31T00:00:00.000000000",
          "2020-11-30T00:00:00.000000000",
          "2020-12-31T00:00:00.000000000",
          "2021-01-31T00:00:00.000000000",
          "2021-02-28T00:00:00.000000000",
          "2021-03-31T00:00:00.000000000",
          "2021-04-30T00:00:00.000000000",
          "2021-05-31T00:00:00.000000000",
          "2021-06-30T00:00:00.000000000",
          "2021-07-31T00:00:00.000000000",
          "2021-08-31T00:00:00.000000000",
          "2021-09-30T00:00:00.000000000",
          "2021-10-31T00:00:00.000000000",
          "2021-11-30T00:00:00.000000000",
          "2021-12-31T00:00:00.000000000",
          "2022-01-31T00:00:00.000000000",
          "2022-02-28T00:00:00.000000000",
          "2022-03-31T00:00:00.000000000",
          "2022-04-30T00:00:00.000000000",
          "2022-05-31T00:00:00.000000000",
          "2022-06-30T00:00:00.000000000",
          "2022-07-31T00:00:00.000000000",
          "2022-08-31T00:00:00.000000000",
          "2022-09-30T00:00:00.000000000",
          "2022-10-31T00:00:00.000000000",
          "2022-11-30T00:00:00.000000000",
          "2022-12-31T00:00:00.000000000",
          "2023-01-31T00:00:00.000000000",
          "2023-02-28T00:00:00.000000000",
          "2023-03-31T00:00:00.000000000",
          "2023-04-30T00:00:00.000000000",
          "2023-05-31T00:00:00.000000000",
          "2023-06-30T00:00:00.000000000",
          "2023-07-31T00:00:00.000000000",
          "2023-08-31T00:00:00.000000000",
          "2023-09-30T00:00:00.000000000",
          "2023-10-31T00:00:00.000000000",
          "2023-11-30T00:00:00.000000000",
          "2023-12-31T00:00:00.000000000",
          "2024-01-31T00:00:00.000000000",
          "2024-02-29T00:00:00.000000000",
          "2024-03-31T00:00:00.000000000",
          "2024-04-30T00:00:00.000000000",
          "2024-05-31T00:00:00.000000000",
          "2024-06-30T00:00:00.000000000",
          "2024-07-31T00:00:00.000000000",
          "2024-08-31T00:00:00.000000000",
          "2024-09-30T00:00:00.000000000",
          "2024-10-31T00:00:00.000000000",
          "2024-11-30T00:00:00.000000000",
          "2024-12-31T00:00:00.000000000",
          "2025-01-31T00:00:00.000000000",
          "2025-02-28T00:00:00.000000000",
          "2025-03-31T00:00:00.000000000",
          "2025-04-30T00:00:00.000000000",
          "2025-05-31T00:00:00.000000000"
         ],
         "xaxis": "x2",
         "y": {
          "bdata": "dm2JbB/77j9RhZFafQfuPy1LyUJrivA/0JOQXJvw8D/wp43NtObwP/gkrazVcfE/YzVrT6I/8j/2UCzOlojzP1LXFuISmvM/1byAch7l8z/rVUUn1rb0P813j9xEFfU/h23Jt1q78z9TkS9O/f30P7MKJiUxjfQ/tETnWb1C9j99s5j0uXT0P39jboZ7mPM/NNgYxIap9D9XUFGkCq3zPw8qg8pgdfI/MbhA8/TY8D/UkNWGlE7yPzh4NU+5LPE/nicbG0fl7T+l6IFKCMfuP3C+5Of4UvA/Mga8hsEa7z/R+WqHHwrxP05hzx04E/A/OlFO6TRs7z/6xnWIsZPvP3Y6JJamVO4/vX7/itW67z/fxR4CZjjwP8EMzbCENu8/QB8JdZPp7D9ZErOK48HrP7V9Bs3o5u4/pzXqj97e8D8obb7vLQvwPype/UzVPfA/ULm1cM6F8D8zfZ1IKnXuP/rB2moJ4e8/+T8GCps98D+BMz8j3lPxPwuAYMC/R/I/WkjhX3XP8j+rzxnukxjyP+AzLxSAxvI/zR5OBGo78T+4gSILZ2fxPyBA+Mtn/fE/6AcPCLSA8T+Q/cgihyXxP+o6SfPdbPE/",
          "dtype": "f8"
         },
         "yaxis": "y2"
        },
        {
         "mode": "lines",
         "name": "gold",
         "showlegend": false,
         "type": "scatter",
         "x": [
          "2020-09-30T00:00:00.000000000",
          "2020-10-31T00:00:00.000000000",
          "2020-11-30T00:00:00.000000000",
          "2020-12-31T00:00:00.000000000",
          "2021-01-31T00:00:00.000000000",
          "2021-02-28T00:00:00.000000000",
          "2021-03-31T00:00:00.000000000",
          "2021-04-30T00:00:00.000000000",
          "2021-05-31T00:00:00.000000000",
          "2021-06-30T00:00:00.000000000",
          "2021-07-31T00:00:00.000000000",
          "2021-08-31T00:00:00.000000000",
          "2021-09-30T00:00:00.000000000",
          "2021-10-31T00:00:00.000000000",
          "2021-11-30T00:00:00.000000000",
          "2021-12-31T00:00:00.000000000",
          "2022-01-31T00:00:00.000000000",
          "2022-02-28T00:00:00.000000000",
          "2022-03-31T00:00:00.000000000",
          "2022-04-30T00:00:00.000000000",
          "2022-05-31T00:00:00.000000000",
          "2022-06-30T00:00:00.000000000",
          "2022-07-31T00:00:00.000000000",
          "2022-08-31T00:00:00.000000000",
          "2022-09-30T00:00:00.000000000",
          "2022-10-31T00:00:00.000000000",
          "2022-11-30T00:00:00.000000000",
          "2022-12-31T00:00:00.000000000",
          "2023-01-31T00:00:00.000000000",
          "2023-02-28T00:00:00.000000000",
          "2023-03-31T00:00:00.000000000",
          "2023-04-30T00:00:00.000000000",
          "2023-05-31T00:00:00.000000000",
          "2023-06-30T00:00:00.000000000",
          "2023-07-31T00:00:00.000000000",
          "2023-08-31T00:00:00.000000000",
          "2023-09-30T00:00:00.000000000",
          "2023-10-31T00:00:00.000000000",
          "2023-11-30T00:00:00.000000000",
          "2023-12-31T00:00:00.000000000",
          "2024-01-31T00:00:00.000000000",
          "2024-02-29T00:00:00.000000000",
          "2024-03-31T00:00:00.000000000",
          "2024-04-30T00:00:00.000000000",
          "2024-05-31T00:00:00.000000000",
          "2024-06-30T00:00:00.000000000",
          "2024-07-31T00:00:00.000000000",
          "2024-08-31T00:00:00.000000000",
          "2024-09-30T00:00:00.000000000",
          "2024-10-31T00:00:00.000000000",
          "2024-11-30T00:00:00.000000000",
          "2024-12-31T00:00:00.000000000",
          "2025-01-31T00:00:00.000000000",
          "2025-02-28T00:00:00.000000000",
          "2025-03-31T00:00:00.000000000",
          "2025-04-30T00:00:00.000000000",
          "2025-05-31T00:00:00.000000000"
         ],
         "xaxis": "x2",
         "y": {
          "bdata": "jylhrUKX7j+pBj29DmXuP96QLczFs+w/mY1iPqKT7j+XjHRLQIjtPwfPFyUOlOs//kn1zMkj6z9aUqx7GezrP/fimfcf2e0/J88LpdeB6z/h0m4laxDsP1gdA0dv+us/wVozOZ7y6j9VZEUDfxrrP4azGjobseo/8Ak78pJg6z+GMzXA3cDqPz6TeujYMew/JGeiCGFI7D/5qmBcEZXrPxZ/IOKPcOo/w9Ie1O6v6T/k3ahFwQzpP3HZe0qUS+g/iMG86Tp+5z8sCuiB8fXmP3ZYGdyB1+g/W9L2Aj6R6T/GhC+FEeXqP/kcnk33Xek/nxy/WtFc6z9QvNZghoDrP/h+lnK2Fus/R4k8zYds6j+XBEvNSvvqP1kyiFKOguo/U/4nuYkl6T9xnXLQi/vqP2ihjv0coes/hL6V6Tnt6z//951bDHHrP0MzdCA3des/KqxTsVK87T/EpIdZFY3uP1grTv6aB+8/I2hv71v+7j8hgIVK2k7wP+8HU3D7nvA/0/kApSxu8T+ckC0eIiTyPxa6eYWah/E/+FldhkU48T+PkBBNeEzyPxUJCA4AmvI/m740I71e9D9RLHRvMm71P/vcZ2DjZ/U/",
          "dtype": "f8"
         },
         "yaxis": "y2"
        },
        {
         "mode": "lines",
         "name": "commodities",
         "showlegend": false,
         "type": "scatter",
         "x": [
          "2020-09-30T00:00:00.000000000",
          "2020-10-31T00:00:00.000000000",
          "2020-11-30T00:00:00.000000000",
          "2020-12-31T00:00:00.000000000",
          "2021-01-31T00:00:00.000000000",
          "2021-02-28T00:00:00.000000000",
          "2021-03-31T00:00:00.000000000",
          "2021-04-30T00:00:00.000000000",
          "2021-05-31T00:00:00.000000000",
          "2021-06-30T00:00:00.000000000",
          "2021-07-31T00:00:00.000000000",
          "2021-08-31T00:00:00.000000000",
          "2021-09-30T00:00:00.000000000",
          "2021-10-31T00:00:00.000000000",
          "2021-11-30T00:00:00.000000000",
          "2021-12-31T00:00:00.000000000",
          "2022-01-31T00:00:00.000000000",
          "2022-02-28T00:00:00.000000000",
          "2022-03-31T00:00:00.000000000",
          "2022-04-30T00:00:00.000000000",
          "2022-05-31T00:00:00.000000000",
          "2022-06-30T00:00:00.000000000",
          "2022-07-31T00:00:00.000000000",
          "2022-08-31T00:00:00.000000000",
          "2022-09-30T00:00:00.000000000",
          "2022-10-31T00:00:00.000000000",
          "2022-11-30T00:00:00.000000000",
          "2022-12-31T00:00:00.000000000",
          "2023-01-31T00:00:00.000000000",
          "2023-02-28T00:00:00.000000000",
          "2023-03-31T00:00:00.000000000",
          "2023-04-30T00:00:00.000000000",
          "2023-05-31T00:00:00.000000000",
          "2023-06-30T00:00:00.000000000",
          "2023-07-31T00:00:00.000000000",
          "2023-08-31T00:00:00.000000000",
          "2023-09-30T00:00:00.000000000",
          "2023-10-31T00:00:00.000000000",
          "2023-11-30T00:00:00.000000000",
          "2023-12-31T00:00:00.000000000",
          "2024-01-31T00:00:00.000000000",
          "2024-02-29T00:00:00.000000000",
          "2024-03-31T00:00:00.000000000",
          "2024-04-30T00:00:00.000000000",
          "2024-05-31T00:00:00.000000000",
          "2024-06-30T00:00:00.000000000",
          "2024-07-31T00:00:00.000000000",
          "2024-08-31T00:00:00.000000000",
          "2024-09-30T00:00:00.000000000",
          "2024-10-31T00:00:00.000000000",
          "2024-11-30T00:00:00.000000000",
          "2024-12-31T00:00:00.000000000",
          "2025-01-31T00:00:00.000000000",
          "2025-02-28T00:00:00.000000000",
          "2025-03-31T00:00:00.000000000",
          "2025-04-30T00:00:00.000000000",
          "2025-05-31T00:00:00.000000000"
         ],
         "xaxis": "x2",
         "y": {
          "bdata": "LR5KATmq7j8pR5ve+yvuP+/8EGjbQfA/I2gRXm0U8T+VlJqRiZPxP07rZjqLKPM/Ja/CGXjP8j8Fqk7k30j0P8f/d70L4fQ/DCZVMjtQ9T8UhRZoZJL1P3lg4Z7gNfU/aiwXAsBD9j//jyi3Mhv3P6KMrZ5f8fQ/4LkxtMD+9T8vp6/DGr/3P1HqQhroMfk/wpmWTVwt+z8tqTOB1oL8P0OLMqDKUv0/5e1HaK9b+j8WuH46Xln6P3spw4siD/o/HDfJiUP49z+3KWb/+8v4P8aAy0RIS/k/KS0A+02O+D9CY5ZlB4r4PwxsjUQsPPc/AGu5MTE19z/Lp1rn9fH2PxrBWYPXbfU/kKL7wdYa9j8h6XScReL3P/H2l+Iuo/c/3j8Ptuav9z97YCUlk2v3P7QQvqi8yPY/JYtbSW4A9j+ra7NdIiz2P71JFQ2UsfU/0hgyotKM9j+zF4BD7PL2Px9TKOn6Dfc/62OsNUPk9j+k4hOaJRb2PxtshjWBufU/vMnkYCQp9j+b04r6Qjj2P/dto3M64PU/NNS5I8gZ9j/9y0y7Rrn2P1A6pgoWyfY/V+MR+Nhv9z8/EhPgf5b1P7RXk2aCsfU/",
          "dtype": "f8"
         },
         "yaxis": "y2"
        },
        {
         "line": {
          "color": "red",
          "dash": "dash"
         },
         "mode": "lines",
         "name": "Cumulative Inflation",
         "showlegend": true,
         "type": "scatter",
         "x": [
          "2020-09-30T00:00:00.000000000",
          "2020-10-31T00:00:00.000000000",
          "2020-11-30T00:00:00.000000000",
          "2020-12-31T00:00:00.000000000",
          "2021-01-31T00:00:00.000000000",
          "2021-02-28T00:00:00.000000000",
          "2021-03-31T00:00:00.000000000",
          "2021-04-30T00:00:00.000000000",
          "2021-05-31T00:00:00.000000000",
          "2021-06-30T00:00:00.000000000",
          "2021-07-31T00:00:00.000000000",
          "2021-08-31T00:00:00.000000000",
          "2021-09-30T00:00:00.000000000",
          "2021-10-31T00:00:00.000000000",
          "2021-11-30T00:00:00.000000000",
          "2021-12-31T00:00:00.000000000",
          "2022-01-31T00:00:00.000000000",
          "2022-02-28T00:00:00.000000000",
          "2022-03-31T00:00:00.000000000",
          "2022-04-30T00:00:00.000000000",
          "2022-05-31T00:00:00.000000000",
          "2022-06-30T00:00:00.000000000",
          "2022-07-31T00:00:00.000000000",
          "2022-08-31T00:00:00.000000000",
          "2022-09-30T00:00:00.000000000",
          "2022-10-31T00:00:00.000000000",
          "2022-11-30T00:00:00.000000000",
          "2022-12-31T00:00:00.000000000",
          "2023-01-31T00:00:00.000000000",
          "2023-02-28T00:00:00.000000000",
          "2023-03-31T00:00:00.000000000",
          "2023-04-30T00:00:00.000000000",
          "2023-05-31T00:00:00.000000000",
          "2023-06-30T00:00:00.000000000",
          "2023-07-31T00:00:00.000000000",
          "2023-08-31T00:00:00.000000000",
          "2023-09-30T00:00:00.000000000",
          "2023-10-31T00:00:00.000000000",
          "2023-11-30T00:00:00.000000000",
          "2023-12-31T00:00:00.000000000",
          "2024-01-31T00:00:00.000000000",
          "2024-02-29T00:00:00.000000000",
          "2024-03-31T00:00:00.000000000",
          "2024-04-30T00:00:00.000000000",
          "2024-05-31T00:00:00.000000000",
          "2024-06-30T00:00:00.000000000",
          "2024-07-31T00:00:00.000000000",
          "2024-08-31T00:00:00.000000000",
          "2024-09-30T00:00:00.000000000",
          "2024-10-31T00:00:00.000000000",
          "2024-11-30T00:00:00.000000000",
          "2024-12-31T00:00:00.000000000",
          "2025-01-31T00:00:00.000000000",
          "2025-02-28T00:00:00.000000000",
          "2025-03-31T00:00:00.000000000",
          "2025-04-30T00:00:00.000000000",
          "2025-05-31T00:00:00.000000000"
         ],
         "xaxis": "x2",
         "y": {
          "bdata": "hMX2tMEK8D/ymNnA1w/wP22D65MxGfA/o0qxCxsr8D++4xj1fDTwP/NzZrM9Q/A/QvuZRl1X8D9TaSXWcnPwP7Wu23CMj/A/FzPDCPmz8D9qv8jHy8fwP1KsfBw61PA/K42hBQbn8D/BkWTU3g/xP/2sn/wiNPE/UK9OcnFT8T8mytIs3W7xP8qjrK0vjvE/hBQDBKi88T+94JqnRM7xP5YTSi0v+fE/FHOxw8c08j9/bZoBsjLyP2wlwbAzNvI/Ag9ynBZK8j/GcyyTsmLyP2mYK2A2bvI/6LPnvMpv8j8Hy7Gg0onyP1SwYx/vmfI/7iVWaJKc8j+nDapow6/yP+tDT2P/tvI/kNNXi13D8j8b0rENhMvyP9nGkH2S4/I/MFhoaBj38j8TARmUgPvyP8kHuoJbAvM/6Asrx5cM8z98vmP5UR3zP02V5Iq3MPM/FCZ339pB8z9qr5WGNlDzP3n6Ve8rUvM/o2jUigdS8z+pRqCE5ljzP6N7LSrTYfM/cA6rkjJt8z8IvvysdXjzP84XF0hwhvM/ULE1n6qY8z91AWNQF7DzP32BsF75uvM/F+/pY3K48z97uw8wmcPzPxCSZ3ywx/M/",
          "dtype": "f8"
         },
         "yaxis": "y2"
        }
       ],
       "layout": {
        "annotations": [
         {
          "font": {
           "size": 16
          },
          "showarrow": false,
          "text": "Nominal Cumulative Returns",
          "x": 0.5,
          "xanchor": "center",
          "xref": "paper",
          "y": 1,
          "yanchor": "bottom",
          "yref": "paper"
         },
         {
          "font": {
           "size": 16
          },
          "showarrow": false,
          "text": "Real Cumulative Returns",
          "x": 0.5,
          "xanchor": "center",
          "xref": "paper",
          "y": 0.45,
          "yanchor": "bottom",
          "yref": "paper"
         }
        ],
        "height": 800,
        "hovermode": "x unified",
        "template": {
         "data": {
          "bar": [
           {
            "error_x": {
             "color": "#2a3f5f"
            },
            "error_y": {
             "color": "#2a3f5f"
            },
            "marker": {
             "line": {
              "color": "#E5ECF6",
              "width": 0.5
             },
             "pattern": {
              "fillmode": "overlay",
              "size": 10,
              "solidity": 0.2
             }
            },
            "type": "bar"
           }
          ],
          "barpolar": [
           {
            "marker": {
             "line": {
              "color": "#E5ECF6",
              "width": 0.5
             },
             "pattern": {
              "fillmode": "overlay",
              "size": 10,
              "solidity": 0.2
             }
            },
            "type": "barpolar"
           }
          ],
          "carpet": [
           {
            "aaxis": {
             "endlinecolor": "#2a3f5f",
             "gridcolor": "white",
             "linecolor": "white",
             "minorgridcolor": "white",
             "startlinecolor": "#2a3f5f"
            },
            "baxis": {
             "endlinecolor": "#2a3f5f",
             "gridcolor": "white",
             "linecolor": "white",
             "minorgridcolor": "white",
             "startlinecolor": "#2a3f5f"
            },
            "type": "carpet"
           }
          ],
          "choropleth": [
           {
            "colorbar": {
             "outlinewidth": 0,
             "ticks": ""
            },
            "type": "choropleth"
           }
          ],
          "contour": [
           {
            "colorbar": {
             "outlinewidth": 0,
             "ticks": ""
            },
            "colorscale": [
             [
              0,
              "#0d0887"
             ],
             [
              0.1111111111111111,
              "#46039f"
             ],
             [
              0.2222222222222222,
              "#7201a8"
             ],
             [
              0.3333333333333333,
              "#9c179e"
             ],
             [
              0.4444444444444444,
              "#bd3786"
             ],
             [
              0.5555555555555556,
              "#d8576b"
             ],
             [
              0.6666666666666666,
              "#ed7953"
             ],
             [
              0.7777777777777778,
              "#fb9f3a"
             ],
             [
              0.8888888888888888,
              "#fdca26"
             ],
             [
              1,
              "#f0f921"
             ]
            ],
            "type": "contour"
           }
          ],
          "contourcarpet": [
           {
            "colorbar": {
             "outlinewidth": 0,
             "ticks": ""
            },
            "type": "contourcarpet"
           }
          ],
          "heatmap": [
           {
            "colorbar": {
             "outlinewidth": 0,
             "ticks": ""
            },
            "colorscale": [
             [
              0,
              "#0d0887"
             ],
             [
              0.1111111111111111,
              "#46039f"
             ],
             [
              0.2222222222222222,
              "#7201a8"
             ],
             [
              0.3333333333333333,
              "#9c179e"
             ],
             [
              0.4444444444444444,
              "#bd3786"
             ],
             [
              0.5555555555555556,
              "#d8576b"
             ],
             [
              0.6666666666666666,
              "#ed7953"
             ],
             [
              0.7777777777777778,
              "#fb9f3a"
             ],
             [
              0.8888888888888888,
              "#fdca26"
             ],
             [
              1,
              "#f0f921"
             ]
            ],
            "type": "heatmap"
           }
          ],
          "histogram": [
           {
            "marker": {
             "pattern": {
              "fillmode": "overlay",
              "size": 10,
              "solidity": 0.2
             }
            },
            "type": "histogram"
           }
          ],
          "histogram2d": [
           {
            "colorbar": {
             "outlinewidth": 0,
             "ticks": ""
            },
            "colorscale": [
             [
              0,
              "#0d0887"
             ],
             [
              0.1111111111111111,
              "#46039f"
             ],
             [
              0.2222222222222222,
              "#7201a8"
             ],
             [
              0.3333333333333333,
              "#9c179e"
             ],
             [
              0.4444444444444444,
              "#bd3786"
             ],
             [
              0.5555555555555556,
              "#d8576b"
             ],
             [
              0.6666666666666666,
              "#ed7953"
             ],
             [
              0.7777777777777778,
              "#fb9f3a"
             ],
             [
              0.8888888888888888,
              "#fdca26"
             ],
             [
              1,
              "#f0f921"
             ]
            ],
            "type": "histogram2d"
           }
          ],
          "histogram2dcontour": [
           {
            "colorbar": {
             "outlinewidth": 0,
             "ticks": ""
            },
            "colorscale": [
             [
              0,
              "#0d0887"
             ],
             [
              0.1111111111111111,
              "#46039f"
             ],
             [
              0.2222222222222222,
              "#7201a8"
             ],
             [
              0.3333333333333333,
              "#9c179e"
             ],
             [
              0.4444444444444444,
              "#bd3786"
             ],
             [
              0.5555555555555556,
              "#d8576b"
             ],
             [
              0.6666666666666666,
              "#ed7953"
             ],
             [
              0.7777777777777778,
              "#fb9f3a"
             ],
             [
              0.8888888888888888,
              "#fdca26"
             ],
             [
              1,
              "#f0f921"
             ]
            ],
            "type": "histogram2dcontour"
           }
          ],
          "mesh3d": [
           {
            "colorbar": {
             "outlinewidth": 0,
             "ticks": ""
            },
            "type": "mesh3d"
           }
          ],
          "parcoords": [
           {
            "line": {
             "colorbar": {
              "outlinewidth": 0,
              "ticks": ""
             }
            },
            "type": "parcoords"
           }
          ],
          "pie": [
           {
            "automargin": true,
            "type": "pie"
           }
          ],
          "scatter": [
           {
            "fillpattern": {
             "fillmode": "overlay",
             "size": 10,
             "solidity": 0.2
            },
            "type": "scatter"
           }
          ],
          "scatter3d": [
           {
            "line": {
             "colorbar": {
              "outlinewidth": 0,
              "ticks": ""
             }
            },
            "marker": {
             "colorbar": {
              "outlinewidth": 0,
              "ticks": ""
             }
            },
            "type": "scatter3d"
           }
          ],
          "scattercarpet": [
           {
            "marker": {
             "colorbar": {
              "outlinewidth": 0,
              "ticks": ""
             }
            },
            "type": "scattercarpet"
           }
          ],
          "scattergeo": [
           {
            "marker": {
             "colorbar": {
              "outlinewidth": 0,
              "ticks": ""
             }
            },
            "type": "scattergeo"
           }
          ],
          "scattergl": [
           {
            "marker": {
             "colorbar": {
              "outlinewidth": 0,
              "ticks": ""
             }
            },
            "type": "scattergl"
           }
          ],
          "scattermap": [
           {
            "marker": {
             "colorbar": {
              "outlinewidth": 0,
              "ticks": ""
             }
            },
            "type": "scattermap"
           }
          ],
          "scattermapbox": [
           {
            "marker": {
             "colorbar": {
              "outlinewidth": 0,
              "ticks": ""
             }
            },
            "type": "scattermapbox"
           }
          ],
          "scatterpolar": [
           {
            "marker": {
             "colorbar": {
              "outlinewidth": 0,
              "ticks": ""
             }
            },
            "type": "scatterpolar"
           }
          ],
          "scatterpolargl": [
           {
            "marker": {
             "colorbar": {
              "outlinewidth": 0,
              "ticks": ""
             }
            },
            "type": "scatterpolargl"
           }
          ],
          "scatterternary": [
           {
            "marker": {
             "colorbar": {
              "outlinewidth": 0,
              "ticks": ""
             }
            },
            "type": "scatterternary"
           }
          ],
          "surface": [
           {
            "colorbar": {
             "outlinewidth": 0,
             "ticks": ""
            },
            "colorscale": [
             [
              0,
              "#0d0887"
             ],
             [
              0.1111111111111111,
              "#46039f"
             ],
             [
              0.2222222222222222,
              "#7201a8"
             ],
             [
              0.3333333333333333,
              "#9c179e"
             ],
             [
              0.4444444444444444,
              "#bd3786"
             ],
             [
              0.5555555555555556,
              "#d8576b"
             ],
             [
              0.6666666666666666,
              "#ed7953"
             ],
             [
              0.7777777777777778,
              "#fb9f3a"
             ],
             [
              0.8888888888888888,
              "#fdca26"
             ],
             [
              1,
              "#f0f921"
             ]
            ],
            "type": "surface"
           }
          ],
          "table": [
           {
            "cells": {
             "fill": {
              "color": "#EBF0F8"
             },
             "line": {
              "color": "white"
             }
            },
            "header": {
             "fill": {
              "color": "#C8D4E3"
             },
             "line": {
              "color": "white"
             }
            },
            "type": "table"
           }
          ]
         },
         "layout": {
          "annotationdefaults": {
           "arrowcolor": "#2a3f5f",
           "arrowhead": 0,
           "arrowwidth": 1
          },
          "autotypenumbers": "strict",
          "coloraxis": {
           "colorbar": {
            "outlinewidth": 0,
            "ticks": ""
           }
          },
          "colorscale": {
           "diverging": [
            [
             0,
             "#8e0152"
            ],
            [
             0.1,
             "#c51b7d"
            ],
            [
             0.2,
             "#de77ae"
            ],
            [
             0.3,
             "#f1b6da"
            ],
            [
             0.4,
             "#fde0ef"
            ],
            [
             0.5,
             "#f7f7f7"
            ],
            [
             0.6,
             "#e6f5d0"
            ],
            [
             0.7,
             "#b8e186"
            ],
            [
             0.8,
             "#7fbc41"
            ],
            [
             0.9,
             "#4d9221"
            ],
            [
             1,
             "#276419"
            ]
           ],
           "sequential": [
            [
             0,
             "#0d0887"
            ],
            [
             0.1111111111111111,
             "#46039f"
            ],
            [
             0.2222222222222222,
             "#7201a8"
            ],
            [
             0.3333333333333333,
             "#9c179e"
            ],
            [
             0.4444444444444444,
             "#bd3786"
            ],
            [
             0.5555555555555556,
             "#d8576b"
            ],
            [
             0.6666666666666666,
             "#ed7953"
            ],
            [
             0.7777777777777778,
             "#fb9f3a"
            ],
            [
             0.8888888888888888,
             "#fdca26"
            ],
            [
             1,
             "#f0f921"
            ]
           ],
           "sequentialminus": [
            [
             0,
             "#0d0887"
            ],
            [
             0.1111111111111111,
             "#46039f"
            ],
            [
             0.2222222222222222,
             "#7201a8"
            ],
            [
             0.3333333333333333,
             "#9c179e"
            ],
            [
             0.4444444444444444,
             "#bd3786"
            ],
            [
             0.5555555555555556,
             "#d8576b"
            ],
            [
             0.6666666666666666,
             "#ed7953"
            ],
            [
             0.7777777777777778,
             "#fb9f3a"
            ],
            [
             0.8888888888888888,
             "#fdca26"
            ],
            [
             1,
             "#f0f921"
            ]
           ]
          },
          "colorway": [
           "#636efa",
           "#EF553B",
           "#00cc96",
           "#ab63fa",
           "#FFA15A",
           "#19d3f3",
           "#FF6692",
           "#B6E880",
           "#FF97FF",
           "#FECB52"
          ],
          "font": {
           "color": "#2a3f5f"
          },
          "geo": {
           "bgcolor": "white",
           "lakecolor": "white",
           "landcolor": "#E5ECF6",
           "showlakes": true,
           "showland": true,
           "subunitcolor": "white"
          },
          "hoverlabel": {
           "align": "left"
          },
          "hovermode": "closest",
          "mapbox": {
           "style": "light"
          },
          "paper_bgcolor": "white",
          "plot_bgcolor": "#E5ECF6",
          "polar": {
           "angularaxis": {
            "gridcolor": "white",
            "linecolor": "white",
            "ticks": ""
           },
           "bgcolor": "#E5ECF6",
           "radialaxis": {
            "gridcolor": "white",
            "linecolor": "white",
            "ticks": ""
           }
          },
          "scene": {
           "xaxis": {
            "backgroundcolor": "#E5ECF6",
            "gridcolor": "white",
            "gridwidth": 2,
            "linecolor": "white",
            "showbackground": true,
            "ticks": "",
            "zerolinecolor": "white"
           },
           "yaxis": {
            "backgroundcolor": "#E5ECF6",
            "gridcolor": "white",
            "gridwidth": 2,
            "linecolor": "white",
            "showbackground": true,
            "ticks": "",
            "zerolinecolor": "white"
           },
           "zaxis": {
            "backgroundcolor": "#E5ECF6",
            "gridcolor": "white",
            "gridwidth": 2,
            "linecolor": "white",
            "showbackground": true,
            "ticks": "",
            "zerolinecolor": "white"
           }
          },
          "shapedefaults": {
           "line": {
            "color": "#2a3f5f"
           }
          },
          "ternary": {
           "aaxis": {
            "gridcolor": "white",
            "linecolor": "white",
            "ticks": ""
           },
           "baxis": {
            "gridcolor": "white",
            "linecolor": "white",
            "ticks": ""
           },
           "bgcolor": "#E5ECF6",
           "caxis": {
            "gridcolor": "white",
            "linecolor": "white",
            "ticks": ""
           }
          },
          "title": {
           "x": 0.05
          },
          "xaxis": {
           "automargin": true,
           "gridcolor": "white",
           "linecolor": "white",
           "ticks": "",
           "title": {
            "standoff": 15
           },
           "zerolinecolor": "white",
           "zerolinewidth": 2
          },
          "yaxis": {
           "automargin": true,
           "gridcolor": "white",
           "linecolor": "white",
           "ticks": "",
           "title": {
            "standoff": 15
           },
           "zerolinecolor": "white",
           "zerolinewidth": 2
          }
         }
        },
        "title": {
         "font": {
          "size": 20
         },
         "text": "Cumulative Performance: Nominal vs Real Returns"
        },
        "xaxis": {
         "anchor": "y",
         "domain": [
          0,
          1
         ]
        },
        "xaxis2": {
         "anchor": "y2",
         "domain": [
          0,
          1
         ],
         "title": {
          "text": "Date"
         }
        },
        "yaxis": {
         "anchor": "x",
         "domain": [
          0.55,
          1
         ],
         "title": {
          "text": "Cumulative Return"
         },
         "type": "log"
        },
        "yaxis2": {
         "anchor": "x2",
         "domain": [
          0,
          0.45
         ],
         "title": {
          "text": "Cumulative Return"
         },
         "type": "log"
        }
       }
      }
     },
     "metadata": {},
     "output_type": "display_data"
    }
   ],
   "source": [
    "# Calculate cumulative returns\n",
    "def calculate_cumulative_returns(returns_df):\n",
    "    return (1 + returns_df).cumprod()\n",
    "\n",
    "# Select key exposures for comparison\n",
    "key_exposures = [\n",
    "    'us_large_equity', 'us_small_equity', 'intl_developed_large_equity',\n",
    "    'emerging_equity', 'broad_ust', 'real_estate', 'gold', 'commodities'\n",
    "]\n",
    "\n",
    "# Filter available exposures\n",
    "available_key_exposures = [exp for exp in key_exposures if exp in real_returns_df.columns]\n",
    "\n",
    "# Calculate cumulative returns for both nominal and real\n",
    "nominal_cumulative = calculate_cumulative_returns(nominal_returns_df[available_key_exposures])\n",
    "real_cumulative = calculate_cumulative_returns(real_returns_df[available_key_exposures])\n",
    "\n",
    "# Create the plot\n",
    "fig = make_subplots(\n",
    "    rows=2, cols=1,\n",
    "    subplot_titles=('Nominal Cumulative Returns', 'Real Cumulative Returns'),\n",
    "    vertical_spacing=0.1\n",
    ")\n",
    "\n",
    "# Add nominal returns\n",
    "for col in nominal_cumulative.columns:\n",
    "    fig.add_trace(\n",
    "        go.Scatter(\n",
    "            x=nominal_cumulative.index,\n",
    "            y=nominal_cumulative[col],\n",
    "            name=col,\n",
    "            mode='lines',\n",
    "            showlegend=True\n",
    "        ),\n",
    "        row=1, col=1\n",
    "    )\n",
    "\n",
    "# Add real returns\n",
    "for col in real_cumulative.columns:\n",
    "    fig.add_trace(\n",
    "        go.Scatter(\n",
    "            x=real_cumulative.index,\n",
    "            y=real_cumulative[col],\n",
    "            name=col,\n",
    "            mode='lines',\n",
    "            showlegend=False\n",
    "        ),\n",
    "        row=2, col=1\n",
    "    )\n",
    "\n",
    "# Add inflation cumulative impact\n",
    "inflation_cumulative = calculate_cumulative_returns(inflation_rates)\n",
    "fig.add_trace(\n",
    "    go.Scatter(\n",
    "        x=inflation_cumulative.index,\n",
    "        y=inflation_cumulative,\n",
    "        name='Cumulative Inflation',\n",
    "        mode='lines',\n",
    "        line=dict(dash='dash', color='red'),\n",
    "        showlegend=True\n",
    "    ),\n",
    "    row=2, col=1\n",
    ")\n",
    "\n",
    "fig.update_layout(\n",
    "    height=800,\n",
    "    title_text=\"Cumulative Performance: Nominal vs Real Returns\",\n",
    "    title_font_size=20,\n",
    "    hovermode='x unified'\n",
    ")\n",
    "\n",
    "fig.update_yaxes(title_text=\"Cumulative Return\", type=\"log\", row=1, col=1)\n",
    "fig.update_yaxes(title_text=\"Cumulative Return\", type=\"log\", row=2, col=1)\n",
    "fig.update_xaxes(title_text=\"Date\", row=2, col=1)\n",
    "\n",
    "fig.show()"
   ]
  },
  {
   "cell_type": "markdown",
   "metadata": {},
   "source": [
    "## 9. Correlation Analysis"
   ]
  },
  {
   "cell_type": "code",
   "execution_count": 12,
   "metadata": {},
   "outputs": [
    {
     "data": {
      "application/vnd.plotly.v1+json": {
       "config": {
        "plotlyServerURL": "https://plot.ly"
       },
       "data": [
        {
         "colorbar": {
          "title": {
           "text": "Correlation"
          }
         },
         "colorscale": [
          [
           0,
           "rgb(103,0,31)"
          ],
          [
           0.1,
           "rgb(178,24,43)"
          ],
          [
           0.2,
           "rgb(214,96,77)"
          ],
          [
           0.3,
           "rgb(244,165,130)"
          ],
          [
           0.4,
           "rgb(253,219,199)"
          ],
          [
           0.5,
           "rgb(247,247,247)"
          ],
          [
           0.6,
           "rgb(209,229,240)"
          ],
          [
           0.7,
           "rgb(146,197,222)"
          ],
          [
           0.8,
           "rgb(67,147,195)"
          ],
          [
           0.9,
           "rgb(33,102,172)"
          ],
          [
           1,
           "rgb(5,48,97)"
          ]
         ],
         "text": {
          "bdata": "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",
          "dtype": "f8",
          "shape": "16, 16"
         },
         "textfont": {
          "size": 10
         },
         "texttemplate": "%{text}",
         "type": "heatmap",
         "x": [
          "us_large_equity",
          "us_small_equity",
          "intl_developed_large_equity",
          "intl_developed_small_equity",
          "emerging_equity",
          "factor_style_equity",
          "factor_style_other",
          "trend_following",
          "cash_rate",
          "short_ust",
          "broad_ust",
          "dynamic_global_bonds",
          "real_estate",
          "commodities",
          "gold",
          "tips"
         ],
         "y": [
          "us_large_equity",
          "us_small_equity",
          "intl_developed_large_equity",
          "intl_developed_small_equity",
          "emerging_equity",
          "factor_style_equity",
          "factor_style_other",
          "trend_following",
          "cash_rate",
          "short_ust",
          "broad_ust",
          "dynamic_global_bonds",
          "real_estate",
          "commodities",
          "gold",
          "tips"
         ],
         "z": {
          "bdata": "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",
          "dtype": "f8",
          "shape": "16, 16"
         },
         "zmid": 0
        }
       ],
       "layout": {
        "height": 800,
        "template": {
         "data": {
          "bar": [
           {
            "error_x": {
             "color": "#2a3f5f"
            },
            "error_y": {
             "color": "#2a3f5f"
            },
            "marker": {
             "line": {
              "color": "#E5ECF6",
              "width": 0.5
             },
             "pattern": {
              "fillmode": "overlay",
              "size": 10,
              "solidity": 0.2
             }
            },
            "type": "bar"
           }
          ],
          "barpolar": [
           {
            "marker": {
             "line": {
              "color": "#E5ECF6",
              "width": 0.5
             },
             "pattern": {
              "fillmode": "overlay",
              "size": 10,
              "solidity": 0.2
             }
            },
            "type": "barpolar"
           }
          ],
          "carpet": [
           {
            "aaxis": {
             "endlinecolor": "#2a3f5f",
             "gridcolor": "white",
             "linecolor": "white",
             "minorgridcolor": "white",
             "startlinecolor": "#2a3f5f"
            },
            "baxis": {
             "endlinecolor": "#2a3f5f",
             "gridcolor": "white",
             "linecolor": "white",
             "minorgridcolor": "white",
             "startlinecolor": "#2a3f5f"
            },
            "type": "carpet"
           }
          ],
          "choropleth": [
           {
            "colorbar": {
             "outlinewidth": 0,
             "ticks": ""
            },
            "type": "choropleth"
           }
          ],
          "contour": [
           {
            "colorbar": {
             "outlinewidth": 0,
             "ticks": ""
            },
            "colorscale": [
             [
              0,
              "#0d0887"
             ],
             [
              0.1111111111111111,
              "#46039f"
             ],
             [
              0.2222222222222222,
              "#7201a8"
             ],
             [
              0.3333333333333333,
              "#9c179e"
             ],
             [
              0.4444444444444444,
              "#bd3786"
             ],
             [
              0.5555555555555556,
              "#d8576b"
             ],
             [
              0.6666666666666666,
              "#ed7953"
             ],
             [
              0.7777777777777778,
              "#fb9f3a"
             ],
             [
              0.8888888888888888,
              "#fdca26"
             ],
             [
              1,
              "#f0f921"
             ]
            ],
            "type": "contour"
           }
          ],
          "contourcarpet": [
           {
            "colorbar": {
             "outlinewidth": 0,
             "ticks": ""
            },
            "type": "contourcarpet"
           }
          ],
          "heatmap": [
           {
            "colorbar": {
             "outlinewidth": 0,
             "ticks": ""
            },
            "colorscale": [
             [
              0,
              "#0d0887"
             ],
             [
              0.1111111111111111,
              "#46039f"
             ],
             [
              0.2222222222222222,
              "#7201a8"
             ],
             [
              0.3333333333333333,
              "#9c179e"
             ],
             [
              0.4444444444444444,
              "#bd3786"
             ],
             [
              0.5555555555555556,
              "#d8576b"
             ],
             [
              0.6666666666666666,
              "#ed7953"
             ],
             [
              0.7777777777777778,
              "#fb9f3a"
             ],
             [
              0.8888888888888888,
              "#fdca26"
             ],
             [
              1,
              "#f0f921"
             ]
            ],
            "type": "heatmap"
           }
          ],
          "histogram": [
           {
            "marker": {
             "pattern": {
              "fillmode": "overlay",
              "size": 10,
              "solidity": 0.2
             }
            },
            "type": "histogram"
           }
          ],
          "histogram2d": [
           {
            "colorbar": {
             "outlinewidth": 0,
             "ticks": ""
            },
            "colorscale": [
             [
              0,
              "#0d0887"
             ],
             [
              0.1111111111111111,
              "#46039f"
             ],
             [
              0.2222222222222222,
              "#7201a8"
             ],
             [
              0.3333333333333333,
              "#9c179e"
             ],
             [
              0.4444444444444444,
              "#bd3786"
             ],
             [
              0.5555555555555556,
              "#d8576b"
             ],
             [
              0.6666666666666666,
              "#ed7953"
             ],
             [
              0.7777777777777778,
              "#fb9f3a"
             ],
             [
              0.8888888888888888,
              "#fdca26"
             ],
             [
              1,
              "#f0f921"
             ]
            ],
            "type": "histogram2d"
           }
          ],
          "histogram2dcontour": [
           {
            "colorbar": {
             "outlinewidth": 0,
             "ticks": ""
            },
            "colorscale": [
             [
              0,
              "#0d0887"
             ],
             [
              0.1111111111111111,
              "#46039f"
             ],
             [
              0.2222222222222222,
              "#7201a8"
             ],
             [
              0.3333333333333333,
              "#9c179e"
             ],
             [
              0.4444444444444444,
              "#bd3786"
             ],
             [
              0.5555555555555556,
              "#d8576b"
             ],
             [
              0.6666666666666666,
              "#ed7953"
             ],
             [
              0.7777777777777778,
              "#fb9f3a"
             ],
             [
              0.8888888888888888,
              "#fdca26"
             ],
             [
              1,
              "#f0f921"
             ]
            ],
            "type": "histogram2dcontour"
           }
          ],
          "mesh3d": [
           {
            "colorbar": {
             "outlinewidth": 0,
             "ticks": ""
            },
            "type": "mesh3d"
           }
          ],
          "parcoords": [
           {
            "line": {
             "colorbar": {
              "outlinewidth": 0,
              "ticks": ""
             }
            },
            "type": "parcoords"
           }
          ],
          "pie": [
           {
            "automargin": true,
            "type": "pie"
           }
          ],
          "scatter": [
           {
            "fillpattern": {
             "fillmode": "overlay",
             "size": 10,
             "solidity": 0.2
            },
            "type": "scatter"
           }
          ],
          "scatter3d": [
           {
            "line": {
             "colorbar": {
              "outlinewidth": 0,
              "ticks": ""
             }
            },
            "marker": {
             "colorbar": {
              "outlinewidth": 0,
              "ticks": ""
             }
            },
            "type": "scatter3d"
           }
          ],
          "scattercarpet": [
           {
            "marker": {
             "colorbar": {
              "outlinewidth": 0,
              "ticks": ""
             }
            },
            "type": "scattercarpet"
           }
          ],
          "scattergeo": [
           {
            "marker": {
             "colorbar": {
              "outlinewidth": 0,
              "ticks": ""
             }
            },
            "type": "scattergeo"
           }
          ],
          "scattergl": [
           {
            "marker": {
             "colorbar": {
              "outlinewidth": 0,
              "ticks": ""
             }
            },
            "type": "scattergl"
           }
          ],
          "scattermap": [
           {
            "marker": {
             "colorbar": {
              "outlinewidth": 0,
              "ticks": ""
             }
            },
            "type": "scattermap"
           }
          ],
          "scattermapbox": [
           {
            "marker": {
             "colorbar": {
              "outlinewidth": 0,
              "ticks": ""
             }
            },
            "type": "scattermapbox"
           }
          ],
          "scatterpolar": [
           {
            "marker": {
             "colorbar": {
              "outlinewidth": 0,
              "ticks": ""
             }
            },
            "type": "scatterpolar"
           }
          ],
          "scatterpolargl": [
           {
            "marker": {
             "colorbar": {
              "outlinewidth": 0,
              "ticks": ""
             }
            },
            "type": "scatterpolargl"
           }
          ],
          "scatterternary": [
           {
            "marker": {
             "colorbar": {
              "outlinewidth": 0,
              "ticks": ""
             }
            },
            "type": "scatterternary"
           }
          ],
          "surface": [
           {
            "colorbar": {
             "outlinewidth": 0,
             "ticks": ""
            },
            "colorscale": [
             [
              0,
              "#0d0887"
             ],
             [
              0.1111111111111111,
              "#46039f"
             ],
             [
              0.2222222222222222,
              "#7201a8"
             ],
             [
              0.3333333333333333,
              "#9c179e"
             ],
             [
              0.4444444444444444,
              "#bd3786"
             ],
             [
              0.5555555555555556,
              "#d8576b"
             ],
             [
              0.6666666666666666,
              "#ed7953"
             ],
             [
              0.7777777777777778,
              "#fb9f3a"
             ],
             [
              0.8888888888888888,
              "#fdca26"
             ],
             [
              1,
              "#f0f921"
             ]
            ],
            "type": "surface"
           }
          ],
          "table": [
           {
            "cells": {
             "fill": {
              "color": "#EBF0F8"
             },
             "line": {
              "color": "white"
             }
            },
            "header": {
             "fill": {
              "color": "#C8D4E3"
             },
             "line": {
              "color": "white"
             }
            },
            "type": "table"
           }
          ]
         },
         "layout": {
          "annotationdefaults": {
           "arrowcolor": "#2a3f5f",
           "arrowhead": 0,
           "arrowwidth": 1
          },
          "autotypenumbers": "strict",
          "coloraxis": {
           "colorbar": {
            "outlinewidth": 0,
            "ticks": ""
           }
          },
          "colorscale": {
           "diverging": [
            [
             0,
             "#8e0152"
            ],
            [
             0.1,
             "#c51b7d"
            ],
            [
             0.2,
             "#de77ae"
            ],
            [
             0.3,
             "#f1b6da"
            ],
            [
             0.4,
             "#fde0ef"
            ],
            [
             0.5,
             "#f7f7f7"
            ],
            [
             0.6,
             "#e6f5d0"
            ],
            [
             0.7,
             "#b8e186"
            ],
            [
             0.8,
             "#7fbc41"
            ],
            [
             0.9,
             "#4d9221"
            ],
            [
             1,
             "#276419"
            ]
           ],
           "sequential": [
            [
             0,
             "#0d0887"
            ],
            [
             0.1111111111111111,
             "#46039f"
            ],
            [
             0.2222222222222222,
             "#7201a8"
            ],
            [
             0.3333333333333333,
             "#9c179e"
            ],
            [
             0.4444444444444444,
             "#bd3786"
            ],
            [
             0.5555555555555556,
             "#d8576b"
            ],
            [
             0.6666666666666666,
             "#ed7953"
            ],
            [
             0.7777777777777778,
             "#fb9f3a"
            ],
            [
             0.8888888888888888,
             "#fdca26"
            ],
            [
             1,
             "#f0f921"
            ]
           ],
           "sequentialminus": [
            [
             0,
             "#0d0887"
            ],
            [
             0.1111111111111111,
             "#46039f"
            ],
            [
             0.2222222222222222,
             "#7201a8"
            ],
            [
             0.3333333333333333,
             "#9c179e"
            ],
            [
             0.4444444444444444,
             "#bd3786"
            ],
            [
             0.5555555555555556,
             "#d8576b"
            ],
            [
             0.6666666666666666,
             "#ed7953"
            ],
            [
             0.7777777777777778,
             "#fb9f3a"
            ],
            [
             0.8888888888888888,
             "#fdca26"
            ],
            [
             1,
             "#f0f921"
            ]
           ]
          },
          "colorway": [
           "#636efa",
           "#EF553B",
           "#00cc96",
           "#ab63fa",
           "#FFA15A",
           "#19d3f3",
           "#FF6692",
           "#B6E880",
           "#FF97FF",
           "#FECB52"
          ],
          "font": {
           "color": "#2a3f5f"
          },
          "geo": {
           "bgcolor": "white",
           "lakecolor": "white",
           "landcolor": "#E5ECF6",
           "showlakes": true,
           "showland": true,
           "subunitcolor": "white"
          },
          "hoverlabel": {
           "align": "left"
          },
          "hovermode": "closest",
          "mapbox": {
           "style": "light"
          },
          "paper_bgcolor": "white",
          "plot_bgcolor": "#E5ECF6",
          "polar": {
           "angularaxis": {
            "gridcolor": "white",
            "linecolor": "white",
            "ticks": ""
           },
           "bgcolor": "#E5ECF6",
           "radialaxis": {
            "gridcolor": "white",
            "linecolor": "white",
            "ticks": ""
           }
          },
          "scene": {
           "xaxis": {
            "backgroundcolor": "#E5ECF6",
            "gridcolor": "white",
            "gridwidth": 2,
            "linecolor": "white",
            "showbackground": true,
            "ticks": "",
            "zerolinecolor": "white"
           },
           "yaxis": {
            "backgroundcolor": "#E5ECF6",
            "gridcolor": "white",
            "gridwidth": 2,
            "linecolor": "white",
            "showbackground": true,
            "ticks": "",
            "zerolinecolor": "white"
           },
           "zaxis": {
            "backgroundcolor": "#E5ECF6",
            "gridcolor": "white",
            "gridwidth": 2,
            "linecolor": "white",
            "showbackground": true,
            "ticks": "",
            "zerolinecolor": "white"
           }
          },
          "shapedefaults": {
           "line": {
            "color": "#2a3f5f"
           }
          },
          "ternary": {
           "aaxis": {
            "gridcolor": "white",
            "linecolor": "white",
            "ticks": ""
           },
           "baxis": {
            "gridcolor": "white",
            "linecolor": "white",
            "ticks": ""
           },
           "bgcolor": "#E5ECF6",
           "caxis": {
            "gridcolor": "white",
            "linecolor": "white",
            "ticks": ""
           }
          },
          "title": {
           "x": 0.05
          },
          "xaxis": {
           "automargin": true,
           "gridcolor": "white",
           "linecolor": "white",
           "ticks": "",
           "title": {
            "standoff": 15
           },
           "zerolinecolor": "white",
           "zerolinewidth": 2
          },
          "yaxis": {
           "automargin": true,
           "gridcolor": "white",
           "linecolor": "white",
           "ticks": "",
           "title": {
            "standoff": 15
           },
           "zerolinecolor": "white",
           "zerolinewidth": 2
          }
         }
        },
        "title": {
         "text": "Real Return Correlation Matrix"
        },
        "width": 1000,
        "xaxis": {
         "tickangle": -45
        }
       }
      }
     },
     "metadata": {},
     "output_type": "display_data"
    },
    {
     "name": "stdout",
     "output_type": "stream",
     "text": [
      "\n",
      "🔝 Highest Correlations:\n",
      "intl_developed_large_equity  intl_developed_small_equity   0.9760\n",
      "us_large_equity              real_estate                   0.8630\n",
      "short_ust                    broad_ust                     0.8470\n",
      "factor_style_equity          factor_style_other            0.8450\n",
      "us_large_equity              us_small_equity               0.8430\n",
      "dtype: float64\n",
      "\n",
      "🔻 Lowest Correlations:\n",
      "trend_following              broad_ust              -0.7170\n",
      "                             short_ust              -0.6340\n",
      "                             tips                   -0.6120\n",
      "                             dynamic_global_bonds   -0.5390\n",
      "intl_developed_large_equity  trend_following        -0.3520\n",
      "dtype: float64\n"
     ]
    }
   ],
   "source": [
    "# Calculate correlation matrix for real returns\n",
    "correlation_matrix = real_returns_df.corr()\n",
    "\n",
    "# Create a heatmap\n",
    "fig = go.Figure(data=go.Heatmap(\n",
    "    z=correlation_matrix.values,\n",
    "    x=correlation_matrix.columns,\n",
    "    y=correlation_matrix.index,\n",
    "    colorscale='RdBu',\n",
    "    zmid=0,\n",
    "    text=correlation_matrix.round(2).values,\n",
    "    texttemplate='%{text}',\n",
    "    textfont={\"size\": 10},\n",
    "    colorbar=dict(title=\"Correlation\")\n",
    "))\n",
    "\n",
    "fig.update_layout(\n",
    "    title=\"Real Return Correlation Matrix\",\n",
    "    xaxis_tickangle=-45,\n",
    "    width=1000,\n",
    "    height=800\n",
    ")\n",
    "\n",
    "fig.show()\n",
    "\n",
    "# Show highest and lowest correlations\n",
    "# Get upper triangle of correlation matrix\n",
    "mask = np.triu(np.ones_like(correlation_matrix, dtype=bool), k=1)\n",
    "upper_triangle = correlation_matrix.where(mask)\n",
    "\n",
    "# Flatten and sort\n",
    "correlations = upper_triangle.stack()\n",
    "correlations = correlations[correlations != 1.0]  # Remove diagonal\n",
    "\n",
    "print(\"\\n🔝 Highest Correlations:\")\n",
    "print(correlations.nlargest(5).round(3))\n",
    "\n",
    "print(\"\\n🔻 Lowest Correlations:\")\n",
    "print(correlations.nsmallest(5).round(3))"
   ]
  },
  {
   "cell_type": "markdown",
   "metadata": {},
   "source": [
    "## 10. Inflation Impact Analysis"
   ]
  },
  {
   "cell_type": "code",
   "execution_count": 13,
   "metadata": {},
   "outputs": [
    {
     "data": {
      "application/vnd.plotly.v1+json": {
       "config": {
        "plotlyServerURL": "https://plot.ly"
       },
       "data": [
        {
         "marker": {
          "color": "lightblue"
         },
         "name": "Nominal Return",
         "type": "bar",
         "x": [
          "us_large_equity",
          "intl_developed_small_equity",
          "us_small_equity",
          "emerging_equity",
          "commodities",
          "intl_developed_large_equity",
          "dynamic_global_bonds",
          "tips",
          "trend_following",
          "broad_ust",
          "short_ust",
          "real_estate",
          "cash_rate",
          "factor_style_other",
          "gold",
          "factor_style_equity"
         ],
         "y": {
          "bdata": "6wMR1LiuL0CFZJyWU7wkQBzfyAijLSlA05pdzKnPGkC362O24JUrQEjM1YdeOCdA1rd6oTwVCEDZrng4tfD2Py7DdPpnaBFAvFm4lzs++r/4jIRgn6fsPzjmnZyQMCBAebyHdJeGB0Ay2PxeWQAzQCUN1dwrdSZAkn9SFaaSMUA=",
          "dtype": "f8"
         }
        },
        {
         "marker": {
          "color": "darkblue"
         },
         "name": "Real Return",
         "type": "bar",
         "x": [
          "us_large_equity",
          "intl_developed_small_equity",
          "us_small_equity",
          "emerging_equity",
          "commodities",
          "intl_developed_large_equity",
          "dynamic_global_bonds",
          "tips",
          "trend_following",
          "broad_ust",
          "short_ust",
          "real_estate",
          "cash_rate",
          "factor_style_other",
          "gold",
          "factor_style_equity"
         ],
         "y": {
          "bdata": "Rj89sM2+IkA2J8rJ6m8PQFpM3rKX2xhA0QRyRoW42T+g3rNN3U4eQFT4cffKJxhAVtR/LqvQ/L944t0uAScKwEC5itmjfce/qscUh/+DGMB28Pv4woYMwFqn9FY9VQ1AI+hcwD1897+uN1KMu9ctQCeQsFx2uxxAOQWum+fWLEA=",
          "dtype": "f8"
         }
        },
        {
         "marker": {
          "color": "red"
         },
         "mode": "lines+markers",
         "name": "Inflation Impact",
         "type": "scatter",
         "x": [
          "us_large_equity",
          "intl_developed_small_equity",
          "us_small_equity",
          "emerging_equity",
          "commodities",
          "intl_developed_large_equity",
          "dynamic_global_bonds",
          "tips",
          "trend_following",
          "broad_ust",
          "short_ust",
          "real_estate",
          "cash_rate",
          "factor_style_other",
          "gold",
          "factor_style_equity"
         ],
         "y": {
          "bdata": "TImnR9bfGUBvtVPIscAZQN9xs16ufxlAh3r2dyE0GUDP+BMf5NwYQDygORjySBZAAVFdHMk+E0DyHI3lrc8SQPgYQRlVJBJAO7EmoXD0EUDaiY5oVdgRQMR4wY2CthFARRhbKluiEUBq8U5j7lEQQCOK+VzhLhBAsOfbO5I5CUA=",
          "dtype": "f8"
         },
         "yaxis": "y2"
        }
       ],
       "layout": {
        "barmode": "group",
        "height": 600,
        "hovermode": "x unified",
        "template": {
         "data": {
          "bar": [
           {
            "error_x": {
             "color": "#2a3f5f"
            },
            "error_y": {
             "color": "#2a3f5f"
            },
            "marker": {
             "line": {
              "color": "#E5ECF6",
              "width": 0.5
             },
             "pattern": {
              "fillmode": "overlay",
              "size": 10,
              "solidity": 0.2
             }
            },
            "type": "bar"
           }
          ],
          "barpolar": [
           {
            "marker": {
             "line": {
              "color": "#E5ECF6",
              "width": 0.5
             },
             "pattern": {
              "fillmode": "overlay",
              "size": 10,
              "solidity": 0.2
             }
            },
            "type": "barpolar"
           }
          ],
          "carpet": [
           {
            "aaxis": {
             "endlinecolor": "#2a3f5f",
             "gridcolor": "white",
             "linecolor": "white",
             "minorgridcolor": "white",
             "startlinecolor": "#2a3f5f"
            },
            "baxis": {
             "endlinecolor": "#2a3f5f",
             "gridcolor": "white",
             "linecolor": "white",
             "minorgridcolor": "white",
             "startlinecolor": "#2a3f5f"
            },
            "type": "carpet"
           }
          ],
          "choropleth": [
           {
            "colorbar": {
             "outlinewidth": 0,
             "ticks": ""
            },
            "type": "choropleth"
           }
          ],
          "contour": [
           {
            "colorbar": {
             "outlinewidth": 0,
             "ticks": ""
            },
            "colorscale": [
             [
              0,
              "#0d0887"
             ],
             [
              0.1111111111111111,
              "#46039f"
             ],
             [
              0.2222222222222222,
              "#7201a8"
             ],
             [
              0.3333333333333333,
              "#9c179e"
             ],
             [
              0.4444444444444444,
              "#bd3786"
             ],
             [
              0.5555555555555556,
              "#d8576b"
             ],
             [
              0.6666666666666666,
              "#ed7953"
             ],
             [
              0.7777777777777778,
              "#fb9f3a"
             ],
             [
              0.8888888888888888,
              "#fdca26"
             ],
             [
              1,
              "#f0f921"
             ]
            ],
            "type": "contour"
           }
          ],
          "contourcarpet": [
           {
            "colorbar": {
             "outlinewidth": 0,
             "ticks": ""
            },
            "type": "contourcarpet"
           }
          ],
          "heatmap": [
           {
            "colorbar": {
             "outlinewidth": 0,
             "ticks": ""
            },
            "colorscale": [
             [
              0,
              "#0d0887"
             ],
             [
              0.1111111111111111,
              "#46039f"
             ],
             [
              0.2222222222222222,
              "#7201a8"
             ],
             [
              0.3333333333333333,
              "#9c179e"
             ],
             [
              0.4444444444444444,
              "#bd3786"
             ],
             [
              0.5555555555555556,
              "#d8576b"
             ],
             [
              0.6666666666666666,
              "#ed7953"
             ],
             [
              0.7777777777777778,
              "#fb9f3a"
             ],
             [
              0.8888888888888888,
              "#fdca26"
             ],
             [
              1,
              "#f0f921"
             ]
            ],
            "type": "heatmap"
           }
          ],
          "histogram": [
           {
            "marker": {
             "pattern": {
              "fillmode": "overlay",
              "size": 10,
              "solidity": 0.2
             }
            },
            "type": "histogram"
           }
          ],
          "histogram2d": [
           {
            "colorbar": {
             "outlinewidth": 0,
             "ticks": ""
            },
            "colorscale": [
             [
              0,
              "#0d0887"
             ],
             [
              0.1111111111111111,
              "#46039f"
             ],
             [
              0.2222222222222222,
              "#7201a8"
             ],
             [
              0.3333333333333333,
              "#9c179e"
             ],
             [
              0.4444444444444444,
              "#bd3786"
             ],
             [
              0.5555555555555556,
              "#d8576b"
             ],
             [
              0.6666666666666666,
              "#ed7953"
             ],
             [
              0.7777777777777778,
              "#fb9f3a"
             ],
             [
              0.8888888888888888,
              "#fdca26"
             ],
             [
              1,
              "#f0f921"
             ]
            ],
            "type": "histogram2d"
           }
          ],
          "histogram2dcontour": [
           {
            "colorbar": {
             "outlinewidth": 0,
             "ticks": ""
            },
            "colorscale": [
             [
              0,
              "#0d0887"
             ],
             [
              0.1111111111111111,
              "#46039f"
             ],
             [
              0.2222222222222222,
              "#7201a8"
             ],
             [
              0.3333333333333333,
              "#9c179e"
             ],
             [
              0.4444444444444444,
              "#bd3786"
             ],
             [
              0.5555555555555556,
              "#d8576b"
             ],
             [
              0.6666666666666666,
              "#ed7953"
             ],
             [
              0.7777777777777778,
              "#fb9f3a"
             ],
             [
              0.8888888888888888,
              "#fdca26"
             ],
             [
              1,
              "#f0f921"
             ]
            ],
            "type": "histogram2dcontour"
           }
          ],
          "mesh3d": [
           {
            "colorbar": {
             "outlinewidth": 0,
             "ticks": ""
            },
            "type": "mesh3d"
           }
          ],
          "parcoords": [
           {
            "line": {
             "colorbar": {
              "outlinewidth": 0,
              "ticks": ""
             }
            },
            "type": "parcoords"
           }
          ],
          "pie": [
           {
            "automargin": true,
            "type": "pie"
           }
          ],
          "scatter": [
           {
            "fillpattern": {
             "fillmode": "overlay",
             "size": 10,
             "solidity": 0.2
            },
            "type": "scatter"
           }
          ],
          "scatter3d": [
           {
            "line": {
             "colorbar": {
              "outlinewidth": 0,
              "ticks": ""
             }
            },
            "marker": {
             "colorbar": {
              "outlinewidth": 0,
              "ticks": ""
             }
            },
            "type": "scatter3d"
           }
          ],
          "scattercarpet": [
           {
            "marker": {
             "colorbar": {
              "outlinewidth": 0,
              "ticks": ""
             }
            },
            "type": "scattercarpet"
           }
          ],
          "scattergeo": [
           {
            "marker": {
             "colorbar": {
              "outlinewidth": 0,
              "ticks": ""
             }
            },
            "type": "scattergeo"
           }
          ],
          "scattergl": [
           {
            "marker": {
             "colorbar": {
              "outlinewidth": 0,
              "ticks": ""
             }
            },
            "type": "scattergl"
           }
          ],
          "scattermap": [
           {
            "marker": {
             "colorbar": {
              "outlinewidth": 0,
              "ticks": ""
             }
            },
            "type": "scattermap"
           }
          ],
          "scattermapbox": [
           {
            "marker": {
             "colorbar": {
              "outlinewidth": 0,
              "ticks": ""
             }
            },
            "type": "scattermapbox"
           }
          ],
          "scatterpolar": [
           {
            "marker": {
             "colorbar": {
              "outlinewidth": 0,
              "ticks": ""
             }
            },
            "type": "scatterpolar"
           }
          ],
          "scatterpolargl": [
           {
            "marker": {
             "colorbar": {
              "outlinewidth": 0,
              "ticks": ""
             }
            },
            "type": "scatterpolargl"
           }
          ],
          "scatterternary": [
           {
            "marker": {
             "colorbar": {
              "outlinewidth": 0,
              "ticks": ""
             }
            },
            "type": "scatterternary"
           }
          ],
          "surface": [
           {
            "colorbar": {
             "outlinewidth": 0,
             "ticks": ""
            },
            "colorscale": [
             [
              0,
              "#0d0887"
             ],
             [
              0.1111111111111111,
              "#46039f"
             ],
             [
              0.2222222222222222,
              "#7201a8"
             ],
             [
              0.3333333333333333,
              "#9c179e"
             ],
             [
              0.4444444444444444,
              "#bd3786"
             ],
             [
              0.5555555555555556,
              "#d8576b"
             ],
             [
              0.6666666666666666,
              "#ed7953"
             ],
             [
              0.7777777777777778,
              "#fb9f3a"
             ],
             [
              0.8888888888888888,
              "#fdca26"
             ],
             [
              1,
              "#f0f921"
             ]
            ],
            "type": "surface"
           }
          ],
          "table": [
           {
            "cells": {
             "fill": {
              "color": "#EBF0F8"
             },
             "line": {
              "color": "white"
             }
            },
            "header": {
             "fill": {
              "color": "#C8D4E3"
             },
             "line": {
              "color": "white"
             }
            },
            "type": "table"
           }
          ]
         },
         "layout": {
          "annotationdefaults": {
           "arrowcolor": "#2a3f5f",
           "arrowhead": 0,
           "arrowwidth": 1
          },
          "autotypenumbers": "strict",
          "coloraxis": {
           "colorbar": {
            "outlinewidth": 0,
            "ticks": ""
           }
          },
          "colorscale": {
           "diverging": [
            [
             0,
             "#8e0152"
            ],
            [
             0.1,
             "#c51b7d"
            ],
            [
             0.2,
             "#de77ae"
            ],
            [
             0.3,
             "#f1b6da"
            ],
            [
             0.4,
             "#fde0ef"
            ],
            [
             0.5,
             "#f7f7f7"
            ],
            [
             0.6,
             "#e6f5d0"
            ],
            [
             0.7,
             "#b8e186"
            ],
            [
             0.8,
             "#7fbc41"
            ],
            [
             0.9,
             "#4d9221"
            ],
            [
             1,
             "#276419"
            ]
           ],
           "sequential": [
            [
             0,
             "#0d0887"
            ],
            [
             0.1111111111111111,
             "#46039f"
            ],
            [
             0.2222222222222222,
             "#7201a8"
            ],
            [
             0.3333333333333333,
             "#9c179e"
            ],
            [
             0.4444444444444444,
             "#bd3786"
            ],
            [
             0.5555555555555556,
             "#d8576b"
            ],
            [
             0.6666666666666666,
             "#ed7953"
            ],
            [
             0.7777777777777778,
             "#fb9f3a"
            ],
            [
             0.8888888888888888,
             "#fdca26"
            ],
            [
             1,
             "#f0f921"
            ]
           ],
           "sequentialminus": [
            [
             0,
             "#0d0887"
            ],
            [
             0.1111111111111111,
             "#46039f"
            ],
            [
             0.2222222222222222,
             "#7201a8"
            ],
            [
             0.3333333333333333,
             "#9c179e"
            ],
            [
             0.4444444444444444,
             "#bd3786"
            ],
            [
             0.5555555555555556,
             "#d8576b"
            ],
            [
             0.6666666666666666,
             "#ed7953"
            ],
            [
             0.7777777777777778,
             "#fb9f3a"
            ],
            [
             0.8888888888888888,
             "#fdca26"
            ],
            [
             1,
             "#f0f921"
            ]
           ]
          },
          "colorway": [
           "#636efa",
           "#EF553B",
           "#00cc96",
           "#ab63fa",
           "#FFA15A",
           "#19d3f3",
           "#FF6692",
           "#B6E880",
           "#FF97FF",
           "#FECB52"
          ],
          "font": {
           "color": "#2a3f5f"
          },
          "geo": {
           "bgcolor": "white",
           "lakecolor": "white",
           "landcolor": "#E5ECF6",
           "showlakes": true,
           "showland": true,
           "subunitcolor": "white"
          },
          "hoverlabel": {
           "align": "left"
          },
          "hovermode": "closest",
          "mapbox": {
           "style": "light"
          },
          "paper_bgcolor": "white",
          "plot_bgcolor": "#E5ECF6",
          "polar": {
           "angularaxis": {
            "gridcolor": "white",
            "linecolor": "white",
            "ticks": ""
           },
           "bgcolor": "#E5ECF6",
           "radialaxis": {
            "gridcolor": "white",
            "linecolor": "white",
            "ticks": ""
           }
          },
          "scene": {
           "xaxis": {
            "backgroundcolor": "#E5ECF6",
            "gridcolor": "white",
            "gridwidth": 2,
            "linecolor": "white",
            "showbackground": true,
            "ticks": "",
            "zerolinecolor": "white"
           },
           "yaxis": {
            "backgroundcolor": "#E5ECF6",
            "gridcolor": "white",
            "gridwidth": 2,
            "linecolor": "white",
            "showbackground": true,
            "ticks": "",
            "zerolinecolor": "white"
           },
           "zaxis": {
            "backgroundcolor": "#E5ECF6",
            "gridcolor": "white",
            "gridwidth": 2,
            "linecolor": "white",
            "showbackground": true,
            "ticks": "",
            "zerolinecolor": "white"
           }
          },
          "shapedefaults": {
           "line": {
            "color": "#2a3f5f"
           }
          },
          "ternary": {
           "aaxis": {
            "gridcolor": "white",
            "linecolor": "white",
            "ticks": ""
           },
           "baxis": {
            "gridcolor": "white",
            "linecolor": "white",
            "ticks": ""
           },
           "bgcolor": "#E5ECF6",
           "caxis": {
            "gridcolor": "white",
            "linecolor": "white",
            "ticks": ""
           }
          },
          "title": {
           "x": 0.05
          },
          "xaxis": {
           "automargin": true,
           "gridcolor": "white",
           "linecolor": "white",
           "ticks": "",
           "title": {
            "standoff": 15
           },
           "zerolinecolor": "white",
           "zerolinewidth": 2
          },
          "yaxis": {
           "automargin": true,
           "gridcolor": "white",
           "linecolor": "white",
           "ticks": "",
           "title": {
            "standoff": 15
           },
           "zerolinecolor": "white",
           "zerolinewidth": 2
          }
         }
        },
        "title": {
         "text": "Inflation Impact on Asset Returns"
        },
        "xaxis": {
         "tickangle": -45
        },
        "yaxis": {
         "title": {
          "text": "Annual Return (%)"
         }
        },
        "yaxis2": {
         "overlaying": "y",
         "side": "right",
         "title": {
          "text": "Inflation Impact (%)"
         }
        }
       }
      }
     },
     "metadata": {},
     "output_type": "display_data"
    },
    {
     "name": "stdout",
     "output_type": "stream",
     "text": [
      "\n",
      "📊 Inflation Impact Summary:\n",
      "Average inflation impact: 5.03%\n",
      "\n",
      "Most affected by inflation:\n",
      "                             Inflation Impact     Category\n",
      "us_large_equity                        6.4700  equity_beta\n",
      "intl_developed_small_equity            6.4400  equity_beta\n",
      "us_small_equity                        6.3700  equity_beta\n",
      "\n",
      "Least affected by inflation:\n",
      "                     Inflation Impact      Category\n",
      "factor_style_other             4.0800  factor_style\n",
      "gold                           4.0500   real_assets\n",
      "factor_style_equity            3.1500  factor_style\n"
     ]
    }
   ],
   "source": [
    "# Calculate inflation impact on returns\n",
    "inflation_impact = pd.DataFrame({\n",
    "    'Nominal Return': nominal_stats['Ann. Return'] * 100,\n",
    "    'Real Return': real_stats['Ann. Return'] * 100,\n",
    "    'Inflation Impact': (nominal_stats['Ann. Return'] - real_stats['Ann. Return']) * 100,\n",
    "    'Category': real_stats['Category']\n",
    "})\n",
    "\n",
    "# Sort by inflation impact\n",
    "inflation_impact = inflation_impact.sort_values('Inflation Impact', ascending=False)\n",
    "\n",
    "# Create visualization\n",
    "fig = go.Figure()\n",
    "\n",
    "# Add bars for nominal returns\n",
    "fig.add_trace(go.Bar(\n",
    "    name='Nominal Return',\n",
    "    x=inflation_impact.index,\n",
    "    y=inflation_impact['Nominal Return'],\n",
    "    marker_color='lightblue'\n",
    "))\n",
    "\n",
    "# Add bars for real returns\n",
    "fig.add_trace(go.Bar(\n",
    "    name='Real Return',\n",
    "    x=inflation_impact.index,\n",
    "    y=inflation_impact['Real Return'],\n",
    "    marker_color='darkblue'\n",
    "))\n",
    "\n",
    "# Add line for inflation impact\n",
    "fig.add_trace(go.Scatter(\n",
    "    name='Inflation Impact',\n",
    "    x=inflation_impact.index,\n",
    "    y=inflation_impact['Inflation Impact'],\n",
    "    mode='lines+markers',\n",
    "    marker_color='red',\n",
    "    yaxis='y2'\n",
    "))\n",
    "\n",
    "fig.update_layout(\n",
    "    title='Inflation Impact on Asset Returns',\n",
    "    xaxis_tickangle=-45,\n",
    "    yaxis=dict(title='Annual Return (%)'),\n",
    "    yaxis2=dict(title='Inflation Impact (%)', overlaying='y', side='right'),\n",
    "    barmode='group',\n",
    "    height=600,\n",
    "    hovermode='x unified'\n",
    ")\n",
    "\n",
    "fig.show()\n",
    "\n",
    "# Summary statistics\n",
    "print(\"\\n📊 Inflation Impact Summary:\")\n",
    "print(f\"Average inflation impact: {inflation_impact['Inflation Impact'].mean():.2f}%\")\n",
    "print(f\"\\nMost affected by inflation:\")\n",
    "print(inflation_impact.head(3)[['Inflation Impact', 'Category']].round(2))\n",
    "print(f\"\\nLeast affected by inflation:\")\n",
    "print(inflation_impact.tail(3)[['Inflation Impact', 'Category']].round(2))"
   ]
  },
  {
   "cell_type": "markdown",
   "metadata": {},
   "source": [
    "## 11. Rolling Performance Analysis"
   ]
  },
  {
   "cell_type": "code",
   "execution_count": 14,
   "metadata": {},
   "outputs": [
    {
     "data": {
      "application/vnd.plotly.v1+json": {
       "config": {
        "plotlyServerURL": "https://plot.ly"
       },
       "data": [
        {
         "mode": "lines",
         "name": "us_large_equity",
         "type": "scatter",
         "x": [
          "2020-09-30T00:00:00.000000000",
          "2020-10-31T00:00:00.000000000",
          "2020-11-30T00:00:00.000000000",
          "2020-12-31T00:00:00.000000000",
          "2021-01-31T00:00:00.000000000",
          "2021-02-28T00:00:00.000000000",
          "2021-03-31T00:00:00.000000000",
          "2021-04-30T00:00:00.000000000",
          "2021-05-31T00:00:00.000000000",
          "2021-06-30T00:00:00.000000000",
          "2021-07-31T00:00:00.000000000",
          "2021-08-31T00:00:00.000000000",
          "2021-09-30T00:00:00.000000000",
          "2021-10-31T00:00:00.000000000",
          "2021-11-30T00:00:00.000000000",
          "2021-12-31T00:00:00.000000000",
          "2022-01-31T00:00:00.000000000",
          "2022-02-28T00:00:00.000000000",
          "2022-03-31T00:00:00.000000000",
          "2022-04-30T00:00:00.000000000",
          "2022-05-31T00:00:00.000000000",
          "2022-06-30T00:00:00.000000000",
          "2022-07-31T00:00:00.000000000",
          "2022-08-31T00:00:00.000000000",
          "2022-09-30T00:00:00.000000000",
          "2022-10-31T00:00:00.000000000",
          "2022-11-30T00:00:00.000000000",
          "2022-12-31T00:00:00.000000000",
          "2023-01-31T00:00:00.000000000",
          "2023-02-28T00:00:00.000000000",
          "2023-03-31T00:00:00.000000000",
          "2023-04-30T00:00:00.000000000",
          "2023-05-31T00:00:00.000000000",
          "2023-06-30T00:00:00.000000000",
          "2023-07-31T00:00:00.000000000",
          "2023-08-31T00:00:00.000000000",
          "2023-09-30T00:00:00.000000000",
          "2023-10-31T00:00:00.000000000",
          "2023-11-30T00:00:00.000000000",
          "2023-12-31T00:00:00.000000000",
          "2024-01-31T00:00:00.000000000",
          "2024-02-29T00:00:00.000000000",
          "2024-03-31T00:00:00.000000000",
          "2024-04-30T00:00:00.000000000",
          "2024-05-31T00:00:00.000000000",
          "2024-06-30T00:00:00.000000000",
          "2024-07-31T00:00:00.000000000",
          "2024-08-31T00:00:00.000000000",
          "2024-09-30T00:00:00.000000000",
          "2024-10-31T00:00:00.000000000",
          "2024-11-30T00:00:00.000000000",
          "2024-12-31T00:00:00.000000000",
          "2025-01-31T00:00:00.000000000",
          "2025-02-28T00:00:00.000000000",
          "2025-03-31T00:00:00.000000000",
          "2025-04-30T00:00:00.000000000",
          "2025-05-31T00:00:00.000000000"
         ],
         "xaxis": "x",
         "y": {
          "bdata": "AAAAAAAA+H8AAAAAAAD4fwAAAAAAAPh/AAAAAAAA+H8AAAAAAAD4fwAAAAAAAPh/AAAAAAAA+H8AAAAAAAD4fwAAAAAAAPh/AAAAAAAA+H8AAAAAAAD4f8RVOTFqIzdApNUrIlwPNkCLBcSZN7c+QC/sHiLPfDJA7sdXkeIJM0BKaoUsnN8sQMlo1aHK1CBAtKul0FFFHEAWn4pObrQawCS4tvMFWx3AF8NJgiQsMsCCyuR3nLwlwO3j4+srvTHAGf7xempENsBY06JQS7o0wGpcVixfvyvAREhskqR9N8AG5ly/fuEnwExhXnxIVibAwLIveTJvJMBQmKlfNxzAP1IRM9xOkfE/MPbPBt/NMEAMTA27dUAlQLS/vLc/YylAAyat8igxMUCtFU2brHEdQDhphnQKKiZAC+G2unU4NUCPTP2ha8QwQLmG1yYaaDhASR5qqEiuN0CwGy6f+C4yQCgSP1Ou4jZAviyckC0wNEAKKsENLR0yQNwkxZKZbjZAkWT+6UB2PUBF8/6eSZM+QBhm3+mjMztAiw8C2c4cNEBUHSsIARY1QAlduYuloC1A8JDhLKVaGUDmCggnWkUjQEZXGdPBjCVA",
          "dtype": "f8"
         },
         "yaxis": "y"
        },
        {
         "mode": "lines",
         "name": "us_large_equity",
         "showlegend": false,
         "type": "scatter",
         "x": [
          "2020-09-30T00:00:00.000000000",
          "2020-10-31T00:00:00.000000000",
          "2020-11-30T00:00:00.000000000",
          "2020-12-31T00:00:00.000000000",
          "2021-01-31T00:00:00.000000000",
          "2021-02-28T00:00:00.000000000",
          "2021-03-31T00:00:00.000000000",
          "2021-04-30T00:00:00.000000000",
          "2021-05-31T00:00:00.000000000",
          "2021-06-30T00:00:00.000000000",
          "2021-07-31T00:00:00.000000000",
          "2021-08-31T00:00:00.000000000",
          "2021-09-30T00:00:00.000000000",
          "2021-10-31T00:00:00.000000000",
          "2021-11-30T00:00:00.000000000",
          "2021-12-31T00:00:00.000000000",
          "2022-01-31T00:00:00.000000000",
          "2022-02-28T00:00:00.000000000",
          "2022-03-31T00:00:00.000000000",
          "2022-04-30T00:00:00.000000000",
          "2022-05-31T00:00:00.000000000",
          "2022-06-30T00:00:00.000000000",
          "2022-07-31T00:00:00.000000000",
          "2022-08-31T00:00:00.000000000",
          "2022-09-30T00:00:00.000000000",
          "2022-10-31T00:00:00.000000000",
          "2022-11-30T00:00:00.000000000",
          "2022-12-31T00:00:00.000000000",
          "2023-01-31T00:00:00.000000000",
          "2023-02-28T00:00:00.000000000",
          "2023-03-31T00:00:00.000000000",
          "2023-04-30T00:00:00.000000000",
          "2023-05-31T00:00:00.000000000",
          "2023-06-30T00:00:00.000000000",
          "2023-07-31T00:00:00.000000000",
          "2023-08-31T00:00:00.000000000",
          "2023-09-30T00:00:00.000000000",
          "2023-10-31T00:00:00.000000000",
          "2023-11-30T00:00:00.000000000",
          "2023-12-31T00:00:00.000000000",
          "2024-01-31T00:00:00.000000000",
          "2024-02-29T00:00:00.000000000",
          "2024-03-31T00:00:00.000000000",
          "2024-04-30T00:00:00.000000000",
          "2024-05-31T00:00:00.000000000",
          "2024-06-30T00:00:00.000000000",
          "2024-07-31T00:00:00.000000000",
          "2024-08-31T00:00:00.000000000",
          "2024-09-30T00:00:00.000000000",
          "2024-10-31T00:00:00.000000000",
          "2024-11-30T00:00:00.000000000",
          "2024-12-31T00:00:00.000000000",
          "2025-01-31T00:00:00.000000000",
          "2025-02-28T00:00:00.000000000",
          "2025-03-31T00:00:00.000000000",
          "2025-04-30T00:00:00.000000000",
          "2025-05-31T00:00:00.000000000"
         ],
         "xaxis": "x2",
         "y": {
          "bdata": "AAAAAAAA+H8AAAAAAAD4fwAAAAAAAPh/AAAAAAAA+H8AAAAAAAD4fwAAAAAAAPh/AAAAAAAA+H8AAAAAAAD4fwAAAAAAAPh/AAAAAAAA+H8AAAAAAAD4f8Qg2mr6eCpApaviEGeXK0C8HoV18uIqQI0GpL7aYCVAY2yItUmaJUBYjQTHqsopQEe1/AFHVStAeRWgova8KkCiMGdYlnkvQCL754XFcy9A1qqsN+fRMUCbl+rEWqY0QHol0MIKfTRAcwLm063QNUB4EXkeSnc2QFW8VBKQiTdA/C8Vb5NFN0BUe6xi1gQ4QLsNI+5y8DdAVfinxHsdOECw2dxj5WI2QDftzqYRYDZAhUMh5HOANEBYs/2CfMUyQESeTaTyRDJAhgFsm+eTL0ClXWSPkUstQAWFoOaLUTBAQk1UAq26LUC/FxxUTncsQCHBim2/lStAVJkMVbRvK0DEpHVOBjAuQH/+dNOH0i5AD1gc0EKcLUAC43QvBXgtQDjWIr11ZSxAfxQUZfT9J0BNbTHFQR8nQI6IaD5pwCNA3LIq+GB6JUDGrDORRnslQG4R+Dj6RSVAhhPf70PJKEAnqD8gKcYmQMGUwyaKyCdA",
          "dtype": "f8"
         },
         "yaxis": "y2"
        },
        {
         "mode": "lines",
         "name": "us_large_equity",
         "showlegend": false,
         "type": "scatter",
         "x": [
          "2020-09-30T00:00:00.000000000",
          "2020-10-31T00:00:00.000000000",
          "2020-11-30T00:00:00.000000000",
          "2020-12-31T00:00:00.000000000",
          "2021-01-31T00:00:00.000000000",
          "2021-02-28T00:00:00.000000000",
          "2021-03-31T00:00:00.000000000",
          "2021-04-30T00:00:00.000000000",
          "2021-05-31T00:00:00.000000000",
          "2021-06-30T00:00:00.000000000",
          "2021-07-31T00:00:00.000000000",
          "2021-08-31T00:00:00.000000000",
          "2021-09-30T00:00:00.000000000",
          "2021-10-31T00:00:00.000000000",
          "2021-11-30T00:00:00.000000000",
          "2021-12-31T00:00:00.000000000",
          "2022-01-31T00:00:00.000000000",
          "2022-02-28T00:00:00.000000000",
          "2022-03-31T00:00:00.000000000",
          "2022-04-30T00:00:00.000000000",
          "2022-05-31T00:00:00.000000000",
          "2022-06-30T00:00:00.000000000",
          "2022-07-31T00:00:00.000000000",
          "2022-08-31T00:00:00.000000000",
          "2022-09-30T00:00:00.000000000",
          "2022-10-31T00:00:00.000000000",
          "2022-11-30T00:00:00.000000000",
          "2022-12-31T00:00:00.000000000",
          "2023-01-31T00:00:00.000000000",
          "2023-02-28T00:00:00.000000000",
          "2023-03-31T00:00:00.000000000",
          "2023-04-30T00:00:00.000000000",
          "2023-05-31T00:00:00.000000000",
          "2023-06-30T00:00:00.000000000",
          "2023-07-31T00:00:00.000000000",
          "2023-08-31T00:00:00.000000000",
          "2023-09-30T00:00:00.000000000",
          "2023-10-31T00:00:00.000000000",
          "2023-11-30T00:00:00.000000000",
          "2023-12-31T00:00:00.000000000",
          "2024-01-31T00:00:00.000000000",
          "2024-02-29T00:00:00.000000000",
          "2024-03-31T00:00:00.000000000",
          "2024-04-30T00:00:00.000000000",
          "2024-05-31T00:00:00.000000000",
          "2024-06-30T00:00:00.000000000",
          "2024-07-31T00:00:00.000000000",
          "2024-08-31T00:00:00.000000000",
          "2024-09-30T00:00:00.000000000",
          "2024-10-31T00:00:00.000000000",
          "2024-11-30T00:00:00.000000000",
          "2024-12-31T00:00:00.000000000",
          "2025-01-31T00:00:00.000000000",
          "2025-02-28T00:00:00.000000000",
          "2025-03-31T00:00:00.000000000",
          "2025-04-30T00:00:00.000000000",
          "2025-05-31T00:00:00.000000000"
         ],
         "xaxis": "x3",
         "y": {
          "bdata": "AAAAAAAA+H8AAAAAAAD4fwAAAAAAAPh/AAAAAAAA+H8AAAAAAAD4fwAAAAAAAPh/AAAAAAAA+H8AAAAAAAD4fwAAAAAAAPh/AAAAAAAA+H8AAAAAAAD4f7Nu4cg2+Ps/xhKpWrOV+T/g1S9PWkcCQPSRG9FErPs/ZQtNF6wz/D93AcrMbOnxP9KJZ616tOM/O6/N0Mjq4D+ub+QNeSbbv6RHEVzn3d2/1BkK+gVR8L8fBsCnmdfgvxq2cd6ntOu/D0cfsuJU8L81p+bDKIbtv+dJeayp3OK/LxUGL4wm8L+JWTL56dDfv9/V2nq5292/HLrwVp4d279V/DABVwd3P7Nnp6rTH6k/aONsbIk66j8w+sy2OR3iP/SOnZPxO+Y/rBDGwwJs8T/DHs/czxTgP94TJFJIu+U/XlvK7mfX9j8QxwpJT9nyP6rHRc8gUPw/d1MKE6me+z8QWQRMckbzP9pIRkOFwvc/3o3HEkLR9T8DBChKeqvzPxeWODJfR/k/6rUp7telA0DTGKgRUSgFQGtp1q/4CAZAKe3kOi33/T/rd+QBJGn/P/xoOlKGSPY/Zw4yf9hd4D9oS7JW4xPrPyizt8et/uw/",
          "dtype": "f8"
         },
         "yaxis": "y3"
        },
        {
         "mode": "lines",
         "name": "broad_ust",
         "type": "scatter",
         "x": [
          "2020-09-30T00:00:00.000000000",
          "2020-10-31T00:00:00.000000000",
          "2020-11-30T00:00:00.000000000",
          "2020-12-31T00:00:00.000000000",
          "2021-01-31T00:00:00.000000000",
          "2021-02-28T00:00:00.000000000",
          "2021-03-31T00:00:00.000000000",
          "2021-04-30T00:00:00.000000000",
          "2021-05-31T00:00:00.000000000",
          "2021-06-30T00:00:00.000000000",
          "2021-07-31T00:00:00.000000000",
          "2021-08-31T00:00:00.000000000",
          "2021-09-30T00:00:00.000000000",
          "2021-10-31T00:00:00.000000000",
          "2021-11-30T00:00:00.000000000",
          "2021-12-31T00:00:00.000000000",
          "2022-01-31T00:00:00.000000000",
          "2022-02-28T00:00:00.000000000",
          "2022-03-31T00:00:00.000000000",
          "2022-04-30T00:00:00.000000000",
          "2022-05-31T00:00:00.000000000",
          "2022-06-30T00:00:00.000000000",
          "2022-07-31T00:00:00.000000000",
          "2022-08-31T00:00:00.000000000",
          "2022-09-30T00:00:00.000000000",
          "2022-10-31T00:00:00.000000000",
          "2022-11-30T00:00:00.000000000",
          "2022-12-31T00:00:00.000000000",
          "2023-01-31T00:00:00.000000000",
          "2023-02-28T00:00:00.000000000",
          "2023-03-31T00:00:00.000000000",
          "2023-04-30T00:00:00.000000000",
          "2023-05-31T00:00:00.000000000",
          "2023-06-30T00:00:00.000000000",
          "2023-07-31T00:00:00.000000000",
          "2023-08-31T00:00:00.000000000",
          "2023-09-30T00:00:00.000000000",
          "2023-10-31T00:00:00.000000000",
          "2023-11-30T00:00:00.000000000",
          "2023-12-31T00:00:00.000000000",
          "2024-01-31T00:00:00.000000000",
          "2024-02-29T00:00:00.000000000",
          "2024-03-31T00:00:00.000000000",
          "2024-04-30T00:00:00.000000000",
          "2024-05-31T00:00:00.000000000",
          "2024-06-30T00:00:00.000000000",
          "2024-07-31T00:00:00.000000000",
          "2024-08-31T00:00:00.000000000",
          "2024-09-30T00:00:00.000000000",
          "2024-10-31T00:00:00.000000000",
          "2024-11-30T00:00:00.000000000",
          "2024-12-31T00:00:00.000000000",
          "2025-01-31T00:00:00.000000000",
          "2025-02-28T00:00:00.000000000",
          "2025-03-31T00:00:00.000000000",
          "2025-04-30T00:00:00.000000000",
          "2025-05-31T00:00:00.000000000"
         ],
         "xaxis": "x",
         "y": {
          "bdata": "AAAAAAAA+H8AAAAAAAD4fwAAAAAAAPh/AAAAAAAA+H8AAAAAAAD4fwAAAAAAAPh/AAAAAAAA+H8AAAAAAAD4fwAAAAAAAPh/AAAAAAAA+H8AAAAAAAD4f5kPAuCnthvAqaqIlkT3IMBtGb1jQIQhwCrpyjBuDyLAq8XEuNRdIsDuFvIrPwYmwMhIiMkNMyTAvVaZt0YUKcDTM6HAawYwwBSYNj+UKDDAA1M45C74McCymvSh8bswwAYir/M6TDPAD8UTrZ7PNcBDzoDUdw02wPsaZ7duSjPA538o98tbM8D3wjyrSPQswDsbRsBRMTDATBBpZKIsIcArFVZ2VMITwNKtQBOfBRfAtsdG7+EWFMBe3hz/jokewNNNl6qvwxXAMEp7rMG9D8A/pzjdsFgNwOHTFSObnAbAJlsVA8Fx8D8Y1xKTf4P3v2ALNDKXx+C/bBSv+HbcCsBEE1jJLC8ZwJP48VABRgzAcBaC+u8x8r+QKhZ1E9j5P3l9qZCT0wxArBlMrAHJHEC6r19AnpEWQJaKP8zi8wVAEndPJ9bT9L8y+JJfljH7v8OOBahHPQJA4VXgyLhJA0AwikwfoMIXQKvNPWmp8wpA",
          "dtype": "f8"
         },
         "yaxis": "y"
        },
        {
         "mode": "lines",
         "name": "broad_ust",
         "showlegend": false,
         "type": "scatter",
         "x": [
          "2020-09-30T00:00:00.000000000",
          "2020-10-31T00:00:00.000000000",
          "2020-11-30T00:00:00.000000000",
          "2020-12-31T00:00:00.000000000",
          "2021-01-31T00:00:00.000000000",
          "2021-02-28T00:00:00.000000000",
          "2021-03-31T00:00:00.000000000",
          "2021-04-30T00:00:00.000000000",
          "2021-05-31T00:00:00.000000000",
          "2021-06-30T00:00:00.000000000",
          "2021-07-31T00:00:00.000000000",
          "2021-08-31T00:00:00.000000000",
          "2021-09-30T00:00:00.000000000",
          "2021-10-31T00:00:00.000000000",
          "2021-11-30T00:00:00.000000000",
          "2021-12-31T00:00:00.000000000",
          "2022-01-31T00:00:00.000000000",
          "2022-02-28T00:00:00.000000000",
          "2022-03-31T00:00:00.000000000",
          "2022-04-30T00:00:00.000000000",
          "2022-05-31T00:00:00.000000000",
          "2022-06-30T00:00:00.000000000",
          "2022-07-31T00:00:00.000000000",
          "2022-08-31T00:00:00.000000000",
          "2022-09-30T00:00:00.000000000",
          "2022-10-31T00:00:00.000000000",
          "2022-11-30T00:00:00.000000000",
          "2022-12-31T00:00:00.000000000",
          "2023-01-31T00:00:00.000000000",
          "2023-02-28T00:00:00.000000000",
          "2023-03-31T00:00:00.000000000",
          "2023-04-30T00:00:00.000000000",
          "2023-05-31T00:00:00.000000000",
          "2023-06-30T00:00:00.000000000",
          "2023-07-31T00:00:00.000000000",
          "2023-08-31T00:00:00.000000000",
          "2023-09-30T00:00:00.000000000",
          "2023-10-31T00:00:00.000000000",
          "2023-11-30T00:00:00.000000000",
          "2023-12-31T00:00:00.000000000",
          "2024-01-31T00:00:00.000000000",
          "2024-02-29T00:00:00.000000000",
          "2024-03-31T00:00:00.000000000",
          "2024-04-30T00:00:00.000000000",
          "2024-05-31T00:00:00.000000000",
          "2024-06-30T00:00:00.000000000",
          "2024-07-31T00:00:00.000000000",
          "2024-08-31T00:00:00.000000000",
          "2024-09-30T00:00:00.000000000",
          "2024-10-31T00:00:00.000000000",
          "2024-11-30T00:00:00.000000000",
          "2024-12-31T00:00:00.000000000",
          "2025-01-31T00:00:00.000000000",
          "2025-02-28T00:00:00.000000000",
          "2025-03-31T00:00:00.000000000",
          "2025-04-30T00:00:00.000000000",
          "2025-05-31T00:00:00.000000000"
         ],
         "xaxis": "x2",
         "y": {
          "bdata": "AAAAAAAA+H8AAAAAAAD4fwAAAAAAAPh/AAAAAAAA+H8AAAAAAAD4fwAAAAAAAPh/AAAAAAAA+H8AAAAAAAD4fwAAAAAAAPh/AAAAAAAA+H8AAAAAAAD4fw4SXLnpNghAaw6toC34CEBIyE+HzlwJQCD7+LFR0whADi27BWLZCEAYlMITfR0NQF999NdmWwtAn8rtOQSbE0AQHVZKERMVQMYcdabK+BRATsIj7aeYFEAtlr9n6IEXQCu13yjMGxhAswCGn0UXGkCZZvxkWAkaQHsiB2UbAB9AhExEumX5HkChCHXqpAwhQN/RJoW7YyFACTggCVIOIkAThNUDIh4hQJn1eF+sNSFAww++nA/5IECC43SGuQYgQPg+iPWxQR5A/8TuFcKcG0BqiEx5GmUbQCQxBcm1Gh1AQ0N3AapsH0A0TccDpwMeQFdRDjOtrxxA83La6VNBGUAT6R+O+ekaQMTcQFa6yBtAN76qOVXaG0CrB9tCcFodQMpw8DwIMh1AYfbRVSpLGkAMCgQV9t8cQLbSxn6W2BlA6R6X1jGFF0CEXlmiYZ8XQJetEufVmRdAB/0VaeCdF0AgoPdkwvETQJQreSpxaBRA",
          "dtype": "f8"
         },
         "yaxis": "y2"
        },
        {
         "mode": "lines",
         "name": "broad_ust",
         "showlegend": false,
         "type": "scatter",
         "x": [
          "2020-09-30T00:00:00.000000000",
          "2020-10-31T00:00:00.000000000",
          "2020-11-30T00:00:00.000000000",
          "2020-12-31T00:00:00.000000000",
          "2021-01-31T00:00:00.000000000",
          "2021-02-28T00:00:00.000000000",
          "2021-03-31T00:00:00.000000000",
          "2021-04-30T00:00:00.000000000",
          "2021-05-31T00:00:00.000000000",
          "2021-06-30T00:00:00.000000000",
          "2021-07-31T00:00:00.000000000",
          "2021-08-31T00:00:00.000000000",
          "2021-09-30T00:00:00.000000000",
          "2021-10-31T00:00:00.000000000",
          "2021-11-30T00:00:00.000000000",
          "2021-12-31T00:00:00.000000000",
          "2022-01-31T00:00:00.000000000",
          "2022-02-28T00:00:00.000000000",
          "2022-03-31T00:00:00.000000000",
          "2022-04-30T00:00:00.000000000",
          "2022-05-31T00:00:00.000000000",
          "2022-06-30T00:00:00.000000000",
          "2022-07-31T00:00:00.000000000",
          "2022-08-31T00:00:00.000000000",
          "2022-09-30T00:00:00.000000000",
          "2022-10-31T00:00:00.000000000",
          "2022-11-30T00:00:00.000000000",
          "2022-12-31T00:00:00.000000000",
          "2023-01-31T00:00:00.000000000",
          "2023-02-28T00:00:00.000000000",
          "2023-03-31T00:00:00.000000000",
          "2023-04-30T00:00:00.000000000",
          "2023-05-31T00:00:00.000000000",
          "2023-06-30T00:00:00.000000000",
          "2023-07-31T00:00:00.000000000",
          "2023-08-31T00:00:00.000000000",
          "2023-09-30T00:00:00.000000000",
          "2023-10-31T00:00:00.000000000",
          "2023-11-30T00:00:00.000000000",
          "2023-12-31T00:00:00.000000000",
          "2024-01-31T00:00:00.000000000",
          "2024-02-29T00:00:00.000000000",
          "2024-03-31T00:00:00.000000000",
          "2024-04-30T00:00:00.000000000",
          "2024-05-31T00:00:00.000000000",
          "2024-06-30T00:00:00.000000000",
          "2024-07-31T00:00:00.000000000",
          "2024-08-31T00:00:00.000000000",
          "2024-09-30T00:00:00.000000000",
          "2024-10-31T00:00:00.000000000",
          "2024-11-30T00:00:00.000000000",
          "2024-12-31T00:00:00.000000000",
          "2025-01-31T00:00:00.000000000",
          "2025-02-28T00:00:00.000000000",
          "2025-03-31T00:00:00.000000000",
          "2025-04-30T00:00:00.000000000",
          "2025-05-31T00:00:00.000000000"
         ],
         "xaxis": "x3",
         "y": {
          "bdata": "AAAAAAAA+H8AAAAAAAD4fwAAAAAAAPh/AAAAAAAA+H8AAAAAAAD4fwAAAAAAAPh/AAAAAAAA+H8AAAAAAAD4fwAAAAAAAPh/AAAAAAAA+H8AAAAAAAD4fzYJ8DTfTwLAwXRqhy++BcAt2cZDzBkGwBPnquKYRwfACaZi1uCmB8As+Xky5jQIwBfQzciroAfAIrhJCpB3BMAOPd3eNlUIwA5+zGHSpwjAlAH67THrC8AnWrgrm8cGwGt7+mdOnQnAguZqGDTACsDEVhHFhhoLwMLBfAOr6QPAzgxzvOv/A8AMoTykDiz7v3+5ZdUkzP2/Fz1y9QVw7r+vxf9mC3jiv+eZOlVcZ+W/UTTjDRfw4r/qdgi1vnzuvyH+Sqm5BOe/C3r/mnpk4r8WFb+pyCPhv6CZmWuH3Ni/IHAfwNq+wD/6RLMBvxHJvwjifYHOt7K/izjyCngE4b9fmbvDhfHtv9+8X68kSOC/TYVbf3rnxL/F77pMoizMP9Y16X14mN8/aSebbSKE8T/fwl9h7wLpPx7p7KH7Lds/LpZwARxWzL/ffy9JNWvSv5Q5Vuv6utg/SHzo53oi2j/aVrkurA/zP2uNYV5iIeU/",
          "dtype": "f8"
         },
         "yaxis": "y3"
        },
        {
         "mode": "lines",
         "name": "real_estate",
         "type": "scatter",
         "x": [
          "2020-09-30T00:00:00.000000000",
          "2020-10-31T00:00:00.000000000",
          "2020-11-30T00:00:00.000000000",
          "2020-12-31T00:00:00.000000000",
          "2021-01-31T00:00:00.000000000",
          "2021-02-28T00:00:00.000000000",
          "2021-03-31T00:00:00.000000000",
          "2021-04-30T00:00:00.000000000",
          "2021-05-31T00:00:00.000000000",
          "2021-06-30T00:00:00.000000000",
          "2021-07-31T00:00:00.000000000",
          "2021-08-31T00:00:00.000000000",
          "2021-09-30T00:00:00.000000000",
          "2021-10-31T00:00:00.000000000",
          "2021-11-30T00:00:00.000000000",
          "2021-12-31T00:00:00.000000000",
          "2022-01-31T00:00:00.000000000",
          "2022-02-28T00:00:00.000000000",
          "2022-03-31T00:00:00.000000000",
          "2022-04-30T00:00:00.000000000",
          "2022-05-31T00:00:00.000000000",
          "2022-06-30T00:00:00.000000000",
          "2022-07-31T00:00:00.000000000",
          "2022-08-31T00:00:00.000000000",
          "2022-09-30T00:00:00.000000000",
          "2022-10-31T00:00:00.000000000",
          "2022-11-30T00:00:00.000000000",
          "2022-12-31T00:00:00.000000000",
          "2023-01-31T00:00:00.000000000",
          "2023-02-28T00:00:00.000000000",
          "2023-03-31T00:00:00.000000000",
          "2023-04-30T00:00:00.000000000",
          "2023-05-31T00:00:00.000000000",
          "2023-06-30T00:00:00.000000000",
          "2023-07-31T00:00:00.000000000",
          "2023-08-31T00:00:00.000000000",
          "2023-09-30T00:00:00.000000000",
          "2023-10-31T00:00:00.000000000",
          "2023-11-30T00:00:00.000000000",
          "2023-12-31T00:00:00.000000000",
          "2024-01-31T00:00:00.000000000",
          "2024-02-29T00:00:00.000000000",
          "2024-03-31T00:00:00.000000000",
          "2024-04-30T00:00:00.000000000",
          "2024-05-31T00:00:00.000000000",
          "2024-06-30T00:00:00.000000000",
          "2024-07-31T00:00:00.000000000",
          "2024-08-31T00:00:00.000000000",
          "2024-09-30T00:00:00.000000000",
          "2024-10-31T00:00:00.000000000",
          "2024-11-30T00:00:00.000000000",
          "2024-12-31T00:00:00.000000000",
          "2025-01-31T00:00:00.000000000",
          "2025-02-28T00:00:00.000000000",
          "2025-03-31T00:00:00.000000000",
          "2025-04-30T00:00:00.000000000",
          "2025-05-31T00:00:00.000000000"
         ],
         "xaxis": "x",
         "y": {
          "bdata": "AAAAAAAA+H8AAAAAAAD4fwAAAAAAAPh/AAAAAAAA+H8AAAAAAAD4fwAAAAAAAPh/AAAAAAAA+H8AAAAAAAD4fwAAAAAAAPh/AAAAAAAA+H8AAAAAAAD4f/I9ktGUszxA8+s19Rl6OUCelWJBzHdBQFdoFJNOrDZAyFenkomTPEBbmERnhLI0QKk+kYRQjSpAgtP3/KQ4LEA/eYZByV0CQE+GxJkU9xDADpXhit3tLMBpjLYXwNYjwL6gMgeS4jHAylZevi1xOMCIWLw1IuE7wMx9TfjAszPAKnhz3ZxfQMAkM/CkLycuwLOtMu/shzDAQZIXvJI8OMDhs0wN8vgywK5tzW9UuzDA8GdW2LAgC8Bw1zHMlKAjwHd2aY8Jpx3ATvjk6oAU/b+0n1SsP4YhwKn8cXK/FwzAW3q87AvPJEC8y8L3uD0QwOzYUxtlqgZAcmNkHctOG0AYCPQGBur3v7IHAsuteRxAwlwkT3WUEUB6DFi6A7IhQD9qUdRCITJARRtTtn5mPEDgzDht9pg8QJmrWEzeBTVAQfLOL1vsDEDAYw5DNAcjQFFkIBCKSydA2w0ENMnVHEBIBs0JYAIqQEfb0uAf7SNA",
          "dtype": "f8"
         },
         "yaxis": "y"
        },
        {
         "mode": "lines",
         "name": "real_estate",
         "showlegend": false,
         "type": "scatter",
         "x": [
          "2020-09-30T00:00:00.000000000",
          "2020-10-31T00:00:00.000000000",
          "2020-11-30T00:00:00.000000000",
          "2020-12-31T00:00:00.000000000",
          "2021-01-31T00:00:00.000000000",
          "2021-02-28T00:00:00.000000000",
          "2021-03-31T00:00:00.000000000",
          "2021-04-30T00:00:00.000000000",
          "2021-05-31T00:00:00.000000000",
          "2021-06-30T00:00:00.000000000",
          "2021-07-31T00:00:00.000000000",
          "2021-08-31T00:00:00.000000000",
          "2021-09-30T00:00:00.000000000",
          "2021-10-31T00:00:00.000000000",
          "2021-11-30T00:00:00.000000000",
          "2021-12-31T00:00:00.000000000",
          "2022-01-31T00:00:00.000000000",
          "2022-02-28T00:00:00.000000000",
          "2022-03-31T00:00:00.000000000",
          "2022-04-30T00:00:00.000000000",
          "2022-05-31T00:00:00.000000000",
          "2022-06-30T00:00:00.000000000",
          "2022-07-31T00:00:00.000000000",
          "2022-08-31T00:00:00.000000000",
          "2022-09-30T00:00:00.000000000",
          "2022-10-31T00:00:00.000000000",
          "2022-11-30T00:00:00.000000000",
          "2022-12-31T00:00:00.000000000",
          "2023-01-31T00:00:00.000000000",
          "2023-02-28T00:00:00.000000000",
          "2023-03-31T00:00:00.000000000",
          "2023-04-30T00:00:00.000000000",
          "2023-05-31T00:00:00.000000000",
          "2023-06-30T00:00:00.000000000",
          "2023-07-31T00:00:00.000000000",
          "2023-08-31T00:00:00.000000000",
          "2023-09-30T00:00:00.000000000",
          "2023-10-31T00:00:00.000000000",
          "2023-11-30T00:00:00.000000000",
          "2023-12-31T00:00:00.000000000",
          "2024-01-31T00:00:00.000000000",
          "2024-02-29T00:00:00.000000000",
          "2024-03-31T00:00:00.000000000",
          "2024-04-30T00:00:00.000000000",
          "2024-05-31T00:00:00.000000000",
          "2024-06-30T00:00:00.000000000",
          "2024-07-31T00:00:00.000000000",
          "2024-08-31T00:00:00.000000000",
          "2024-09-30T00:00:00.000000000",
          "2024-10-31T00:00:00.000000000",
          "2024-11-30T00:00:00.000000000",
          "2024-12-31T00:00:00.000000000",
          "2025-01-31T00:00:00.000000000",
          "2025-02-28T00:00:00.000000000",
          "2025-03-31T00:00:00.000000000",
          "2025-04-30T00:00:00.000000000",
          "2025-05-31T00:00:00.000000000"
         ],
         "xaxis": "x2",
         "y": {
          "bdata": "AAAAAAAA+H8AAAAAAAD4fwAAAAAAAPh/AAAAAAAA+H8AAAAAAAD4fwAAAAAAAPh/AAAAAAAA+H8AAAAAAAD4fwAAAAAAAPh/AAAAAAAA+H8AAAAAAAD4f1QcscQ9uypAQ6p83J83LkAd54B99gQtQFyWQI7N1SlAHW0uL1HgLEA3Hj1QbcIxQIT59GAwnDJAaXmXlJjMMkBoCxmk3HwyQKOl/9xAjTNAHpqcmqMbNUASUvLgCMg2QP6SezoOLTdAffPyBzSBOUBYrkRyI3o4QKitbJVj4jlAm53rtWOYN0BiCTnh2bg5QC8WJsq08TlAKTrlBRLbOEBsI9gH4cY4QP21n/jSazhAtsmEOQKvN0B2wHgZBtY1QD7Gt6V0UTVA1pZsjbRNMkBk4KkXXFYyQGbJkKAFBTVA1ZXmIe1gNkAPtqPp5d40QDrZnKCSEzRAFFDStE7uM0CE/7n1kaE1QKEFKWSGrzVAVZaT2HFNNUDESsq/XS02QHVPjJIKDjZArZlCYj/SM0AGpxdszMAzQHNygTr4TzFAHNjXcdLlMUABuF8vtPkwQCEmieYzKzFARFfRfz+GMUBYTHmDYZkuQMezXWRuoi1A",
          "dtype": "f8"
         },
         "yaxis": "y2"
        },
        {
         "mode": "lines",
         "name": "real_estate",
         "showlegend": false,
         "type": "scatter",
         "x": [
          "2020-09-30T00:00:00.000000000",
          "2020-10-31T00:00:00.000000000",
          "2020-11-30T00:00:00.000000000",
          "2020-12-31T00:00:00.000000000",
          "2021-01-31T00:00:00.000000000",
          "2021-02-28T00:00:00.000000000",
          "2021-03-31T00:00:00.000000000",
          "2021-04-30T00:00:00.000000000",
          "2021-05-31T00:00:00.000000000",
          "2021-06-30T00:00:00.000000000",
          "2021-07-31T00:00:00.000000000",
          "2021-08-31T00:00:00.000000000",
          "2021-09-30T00:00:00.000000000",
          "2021-10-31T00:00:00.000000000",
          "2021-11-30T00:00:00.000000000",
          "2021-12-31T00:00:00.000000000",
          "2022-01-31T00:00:00.000000000",
          "2022-02-28T00:00:00.000000000",
          "2022-03-31T00:00:00.000000000",
          "2022-04-30T00:00:00.000000000",
          "2022-05-31T00:00:00.000000000",
          "2022-06-30T00:00:00.000000000",
          "2022-07-31T00:00:00.000000000",
          "2022-08-31T00:00:00.000000000",
          "2022-09-30T00:00:00.000000000",
          "2022-10-31T00:00:00.000000000",
          "2022-11-30T00:00:00.000000000",
          "2022-12-31T00:00:00.000000000",
          "2023-01-31T00:00:00.000000000",
          "2023-02-28T00:00:00.000000000",
          "2023-03-31T00:00:00.000000000",
          "2023-04-30T00:00:00.000000000",
          "2023-05-31T00:00:00.000000000",
          "2023-06-30T00:00:00.000000000",
          "2023-07-31T00:00:00.000000000",
          "2023-08-31T00:00:00.000000000",
          "2023-09-30T00:00:00.000000000",
          "2023-10-31T00:00:00.000000000",
          "2023-11-30T00:00:00.000000000",
          "2023-12-31T00:00:00.000000000",
          "2024-01-31T00:00:00.000000000",
          "2024-02-29T00:00:00.000000000",
          "2024-03-31T00:00:00.000000000",
          "2024-04-30T00:00:00.000000000",
          "2024-05-31T00:00:00.000000000",
          "2024-06-30T00:00:00.000000000",
          "2024-07-31T00:00:00.000000000",
          "2024-08-31T00:00:00.000000000",
          "2024-09-30T00:00:00.000000000",
          "2024-10-31T00:00:00.000000000",
          "2024-11-30T00:00:00.000000000",
          "2024-12-31T00:00:00.000000000",
          "2025-01-31T00:00:00.000000000",
          "2025-02-28T00:00:00.000000000",
          "2025-03-31T00:00:00.000000000",
          "2025-04-30T00:00:00.000000000",
          "2025-05-31T00:00:00.000000000"
         ],
         "xaxis": "x3",
         "y": {
          "bdata": "AAAAAAAA+H8AAAAAAAD4fwAAAAAAAPh/AAAAAAAA+H8AAAAAAAD4fwAAAAAAAPh/AAAAAAAA+H8AAAAAAAD4fwAAAAAAAPh/AAAAAAAA+H8AAAAAAAD4f7bwtQDfLQFA5hO8GeL6+j/GU/nsGUMDQGL/jzRXFfw/pu2kF+qq/z/MhSgclKXyP5EFxIv50+Y/0KdH6+QE6D+gfcA1Nsq/Pwf6/g48xMu/mIYb9bPt5b/gkKId5d3bvy/X807Psei/pqWZ4bKq7r9hkMxiWDnyv0IrOt5vW+i/GsyLhK409r/m8kFAmMHiv4xo/q27Y+S/IwO0NPIz778i32Br4IDov/S4s6Wb7OW/ud/g0KNTwr/+w++xXMPcv1k/S8BSQda/FMR2G5lrub+KyZjD1JTev2ajrSdQYsW/9K2za1bB3T+AP5NI1ObIv+yvewc9EMI/XDbzCwfs1T9yI+gpTrCxv7I5msBvAtU/VIOY1nNoyj8AOZ7bdYjZP4YzjNciTuo/nRExDNfs9j/5oplI+Cn3P/IWnwfkbfM/1Leu+EDbyT8fOUwaTu/hP3SXp4KSteU/oFWzdalT2j9s4F6RMzPrP9bOlUNPhOU/",
          "dtype": "f8"
         },
         "yaxis": "y3"
        },
        {
         "mode": "lines",
         "name": "gold",
         "type": "scatter",
         "x": [
          "2020-09-30T00:00:00.000000000",
          "2020-10-31T00:00:00.000000000",
          "2020-11-30T00:00:00.000000000",
          "2020-12-31T00:00:00.000000000",
          "2021-01-31T00:00:00.000000000",
          "2021-02-28T00:00:00.000000000",
          "2021-03-31T00:00:00.000000000",
          "2021-04-30T00:00:00.000000000",
          "2021-05-31T00:00:00.000000000",
          "2021-06-30T00:00:00.000000000",
          "2021-07-31T00:00:00.000000000",
          "2021-08-31T00:00:00.000000000",
          "2021-09-30T00:00:00.000000000",
          "2021-10-31T00:00:00.000000000",
          "2021-11-30T00:00:00.000000000",
          "2021-12-31T00:00:00.000000000",
          "2022-01-31T00:00:00.000000000",
          "2022-02-28T00:00:00.000000000",
          "2022-03-31T00:00:00.000000000",
          "2022-04-30T00:00:00.000000000",
          "2022-05-31T00:00:00.000000000",
          "2022-06-30T00:00:00.000000000",
          "2022-07-31T00:00:00.000000000",
          "2022-08-31T00:00:00.000000000",
          "2022-09-30T00:00:00.000000000",
          "2022-10-31T00:00:00.000000000",
          "2022-11-30T00:00:00.000000000",
          "2022-12-31T00:00:00.000000000",
          "2023-01-31T00:00:00.000000000",
          "2023-02-28T00:00:00.000000000",
          "2023-03-31T00:00:00.000000000",
          "2023-04-30T00:00:00.000000000",
          "2023-05-31T00:00:00.000000000",
          "2023-06-30T00:00:00.000000000",
          "2023-07-31T00:00:00.000000000",
          "2023-08-31T00:00:00.000000000",
          "2023-09-30T00:00:00.000000000",
          "2023-10-31T00:00:00.000000000",
          "2023-11-30T00:00:00.000000000",
          "2023-12-31T00:00:00.000000000",
          "2024-01-31T00:00:00.000000000",
          "2024-02-29T00:00:00.000000000",
          "2024-03-31T00:00:00.000000000",
          "2024-04-30T00:00:00.000000000",
          "2024-05-31T00:00:00.000000000",
          "2024-06-30T00:00:00.000000000",
          "2024-07-31T00:00:00.000000000",
          "2024-08-31T00:00:00.000000000",
          "2024-09-30T00:00:00.000000000",
          "2024-10-31T00:00:00.000000000",
          "2024-11-30T00:00:00.000000000",
          "2024-12-31T00:00:00.000000000",
          "2025-01-31T00:00:00.000000000",
          "2025-02-28T00:00:00.000000000",
          "2025-03-31T00:00:00.000000000",
          "2025-04-30T00:00:00.000000000",
          "2025-05-31T00:00:00.000000000"
         ],
         "xaxis": "x",
         "y": {
          "bdata": "AAAAAAAA+H8AAAAAAAD4fwAAAAAAAPh/AAAAAAAA+H8AAAAAAAD4fwAAAAAAAPh/AAAAAAAA+H8AAAAAAAD4fwAAAAAAAPh/AAAAAAAA+H8AAAAAAAD4f2nxoQG9GCjAshQKG/ynJsByLL8QzDckwN7Xa3LcPBjA5WGp+GELJMDCNZfYK8UhwN/iY6Oy8ghAdoiO5FcVFEDQ4648067Vv3Q9JzPYwSbA8zbVLdiGGcCRh8ockcYlwLYto946MCvAtoi3M89sKsDP9MiFgA4wwDq70pRJYRnA6Ghz5yP4F8DOVp7cc6f3P0uM9/PXLSPAG512AfpHAMDwL+vO02/uP88h2urhuQxAR8Z5pnHcD0AyrIlCKCYhQJY2Z3eJrSNAJPchKcL9H0CcTqq0n5AxQI4KAvXIiSdATFiv1GbZI0AhZDwfOPcHQGO+6e2PeCFA331rQSxUIkA2eQQXSssmQKKts9La7ixAFvo2hN7NMEBUOy/wsu0zQB0YaHeGmDdAaqQmltLNQEDW3n9xfmI+QHVkXS8LnjhAt4UY2wHGNUBqVq8Vn8Y9QEO/XPsgXz9Ahm6G0q1KQECBMRDK94VBQDzFBJS6rkBA",
          "dtype": "f8"
         },
         "yaxis": "y"
        },
        {
         "mode": "lines",
         "name": "gold",
         "showlegend": false,
         "type": "scatter",
         "x": [
          "2020-09-30T00:00:00.000000000",
          "2020-10-31T00:00:00.000000000",
          "2020-11-30T00:00:00.000000000",
          "2020-12-31T00:00:00.000000000",
          "2021-01-31T00:00:00.000000000",
          "2021-02-28T00:00:00.000000000",
          "2021-03-31T00:00:00.000000000",
          "2021-04-30T00:00:00.000000000",
          "2021-05-31T00:00:00.000000000",
          "2021-06-30T00:00:00.000000000",
          "2021-07-31T00:00:00.000000000",
          "2021-08-31T00:00:00.000000000",
          "2021-09-30T00:00:00.000000000",
          "2021-10-31T00:00:00.000000000",
          "2021-11-30T00:00:00.000000000",
          "2021-12-31T00:00:00.000000000",
          "2022-01-31T00:00:00.000000000",
          "2022-02-28T00:00:00.000000000",
          "2022-03-31T00:00:00.000000000",
          "2022-04-30T00:00:00.000000000",
          "2022-05-31T00:00:00.000000000",
          "2022-06-30T00:00:00.000000000",
          "2022-07-31T00:00:00.000000000",
          "2022-08-31T00:00:00.000000000",
          "2022-09-30T00:00:00.000000000",
          "2022-10-31T00:00:00.000000000",
          "2022-11-30T00:00:00.000000000",
          "2022-12-31T00:00:00.000000000",
          "2023-01-31T00:00:00.000000000",
          "2023-02-28T00:00:00.000000000",
          "2023-03-31T00:00:00.000000000",
          "2023-04-30T00:00:00.000000000",
          "2023-05-31T00:00:00.000000000",
          "2023-06-30T00:00:00.000000000",
          "2023-07-31T00:00:00.000000000",
          "2023-08-31T00:00:00.000000000",
          "2023-09-30T00:00:00.000000000",
          "2023-10-31T00:00:00.000000000",
          "2023-11-30T00:00:00.000000000",
          "2023-12-31T00:00:00.000000000",
          "2024-01-31T00:00:00.000000000",
          "2024-02-29T00:00:00.000000000",
          "2024-03-31T00:00:00.000000000",
          "2024-04-30T00:00:00.000000000",
          "2024-05-31T00:00:00.000000000",
          "2024-06-30T00:00:00.000000000",
          "2024-07-31T00:00:00.000000000",
          "2024-08-31T00:00:00.000000000",
          "2024-09-30T00:00:00.000000000",
          "2024-10-31T00:00:00.000000000",
          "2024-11-30T00:00:00.000000000",
          "2024-12-31T00:00:00.000000000",
          "2025-01-31T00:00:00.000000000",
          "2025-02-28T00:00:00.000000000",
          "2025-03-31T00:00:00.000000000",
          "2025-04-30T00:00:00.000000000",
          "2025-05-31T00:00:00.000000000"
         ],
         "xaxis": "x2",
         "y": {
          "bdata": "AAAAAAAA+H8AAAAAAAD4fwAAAAAAAPh/AAAAAAAA+H8AAAAAAAD4fwAAAAAAAPh/AAAAAAAA+H8AAAAAAAD4fwAAAAAAAPh/AAAAAAAA+H8AAAAAAAD4f/81mW8P3zBAbuBDfU+6MEC8llE+0MswQNFoYgQFBjBA2CVS9j8YLUAXlxsxyL0sQKiJRoUmDSxATO4YxqnCK0BTbtaQ5cArQNxJaJjnTChApxoOYb+9I0CH791k6D4jQP5A3JxMoiNA3ObjunFuI0D8fiQ5qDAjQPzJ5/qnBStAYGlR8v80K0A8FUDUbhwtQJaw382oyixA/ALO1bvPMEDrQvdi76AwQPXvsJg/GTBAetn85gkFMED0LMy10JcvQGQ3hQrbCS9AUFcX/iomMEDmv+012w8xQHcmTPJt9S5AzV7TR0CsLkDIV22bNHotQIgmV0O4hipAfvoJB/MJK0BaDvTdjVArQJ2QKZoDzCpAdiHskfrKKUAIDP/lvOYqQPH53+pi2ilAus758oYrJUDjhUJOVQ4jQAOXrtFkbSZAzq/FZ5inJ0A4jbD0adMnQOza7DOWUydAIH972SuzKEB97IjQrDIpQPWZli4rzylA",
          "dtype": "f8"
         },
         "yaxis": "y2"
        },
        {
         "mode": "lines",
         "name": "gold",
         "showlegend": false,
         "type": "scatter",
         "x": [
          "2020-09-30T00:00:00.000000000",
          "2020-10-31T00:00:00.000000000",
          "2020-11-30T00:00:00.000000000",
          "2020-12-31T00:00:00.000000000",
          "2021-01-31T00:00:00.000000000",
          "2021-02-28T00:00:00.000000000",
          "2021-03-31T00:00:00.000000000",
          "2021-04-30T00:00:00.000000000",
          "2021-05-31T00:00:00.000000000",
          "2021-06-30T00:00:00.000000000",
          "2021-07-31T00:00:00.000000000",
          "2021-08-31T00:00:00.000000000",
          "2021-09-30T00:00:00.000000000",
          "2021-10-31T00:00:00.000000000",
          "2021-11-30T00:00:00.000000000",
          "2021-12-31T00:00:00.000000000",
          "2022-01-31T00:00:00.000000000",
          "2022-02-28T00:00:00.000000000",
          "2022-03-31T00:00:00.000000000",
          "2022-04-30T00:00:00.000000000",
          "2022-05-31T00:00:00.000000000",
          "2022-06-30T00:00:00.000000000",
          "2022-07-31T00:00:00.000000000",
          "2022-08-31T00:00:00.000000000",
          "2022-09-30T00:00:00.000000000",
          "2022-10-31T00:00:00.000000000",
          "2022-11-30T00:00:00.000000000",
          "2022-12-31T00:00:00.000000000",
          "2023-01-31T00:00:00.000000000",
          "2023-02-28T00:00:00.000000000",
          "2023-03-31T00:00:00.000000000",
          "2023-04-30T00:00:00.000000000",
          "2023-05-31T00:00:00.000000000",
          "2023-06-30T00:00:00.000000000",
          "2023-07-31T00:00:00.000000000",
          "2023-08-31T00:00:00.000000000",
          "2023-09-30T00:00:00.000000000",
          "2023-10-31T00:00:00.000000000",
          "2023-11-30T00:00:00.000000000",
          "2023-12-31T00:00:00.000000000",
          "2024-01-31T00:00:00.000000000",
          "2024-02-29T00:00:00.000000000",
          "2024-03-31T00:00:00.000000000",
          "2024-04-30T00:00:00.000000000",
          "2024-05-31T00:00:00.000000000",
          "2024-06-30T00:00:00.000000000",
          "2024-07-31T00:00:00.000000000",
          "2024-08-31T00:00:00.000000000",
          "2024-09-30T00:00:00.000000000",
          "2024-10-31T00:00:00.000000000",
          "2024-11-30T00:00:00.000000000",
          "2024-12-31T00:00:00.000000000",
          "2025-01-31T00:00:00.000000000",
          "2025-02-28T00:00:00.000000000",
          "2025-03-31T00:00:00.000000000",
          "2025-04-30T00:00:00.000000000",
          "2025-05-31T00:00:00.000000000"
         ],
         "xaxis": "x3",
         "y": {
          "bdata": "AAAAAAAA+H8AAAAAAAD4fwAAAAAAAPh/AAAAAAAA+H8AAAAAAAD4fwAAAAAAAPh/AAAAAAAA+H8AAAAAAAD4fwAAAAAAAPh/AAAAAAAA+H8AAAAAAAD4f8CIR30m2ua/g2jmEqWr5b+SC4AqdkLjvxNxEnPBM9i/yZ8mzccL5r/PtTSo88jjv0PGUH63dcw/anOK1Ygm1z9+XJzEJACZvymstdPD9+2/+EdiJWmw5L9gGGrwbhryv7Y0bI/8J/a/mBeptDPC9b++knACYsb6v8COIksxDt6/rHrrgx8x3L/Okt65YgC6PzSB4lL3UOW/qH/OWpf9vr/8xpMYQUmtP8v2A2TUjMw/80vlMmzSzz/PlJC8tV7hP8E2npuWSeQ/sU4m5CWy3z9WlynHwHjwP33sYRZ2VOg//TkYJUO15D/fGPBqQwTKPzsGTUZ8E+U/uWOMuRmx5T9gw107OrTqP3yHY2yCRvE/89xdlh/Z9D8Buo9Io7T3P7K+Coy+NP0/ezM9n4JmCUA5Q+efEIMJQL9bUvP5jwFAWDqCJYJ0/T+kITYK5f4DQNFleaarhAVAkK+lVlUbBUCrZVVH7kAGQOTqVAYhrwRA",
          "dtype": "f8"
         },
         "yaxis": "y3"
        }
       ],
       "layout": {
        "annotations": [
         {
          "font": {
           "size": 16
          },
          "showarrow": false,
          "text": "Rolling 12-Month Returns",
          "x": 0.5,
          "xanchor": "center",
          "xref": "paper",
          "y": 1,
          "yanchor": "bottom",
          "yref": "paper"
         },
         {
          "font": {
           "size": 16
          },
          "showarrow": false,
          "text": "Rolling Volatility",
          "x": 0.5,
          "xanchor": "center",
          "xref": "paper",
          "y": 0.6399999999999999,
          "yanchor": "bottom",
          "yref": "paper"
         },
         {
          "font": {
           "size": 16
          },
          "showarrow": false,
          "text": "Rolling Sharpe Ratio",
          "x": 0.5,
          "xanchor": "center",
          "xref": "paper",
          "y": 0.27999999999999997,
          "yanchor": "bottom",
          "yref": "paper"
         }
        ],
        "height": 900,
        "hovermode": "x unified",
        "shapes": [
         {
          "line": {
           "color": "gray",
           "dash": "dash"
          },
          "type": "line",
          "x0": 0,
          "x1": 1,
          "xref": "x domain",
          "y0": 0,
          "y1": 0,
          "yref": "y"
         },
         {
          "line": {
           "color": "gray",
           "dash": "dash"
          },
          "type": "line",
          "x0": 0,
          "x1": 1,
          "xref": "x3 domain",
          "y0": 0,
          "y1": 0,
          "yref": "y3"
         }
        ],
        "template": {
         "data": {
          "bar": [
           {
            "error_x": {
             "color": "#2a3f5f"
            },
            "error_y": {
             "color": "#2a3f5f"
            },
            "marker": {
             "line": {
              "color": "#E5ECF6",
              "width": 0.5
             },
             "pattern": {
              "fillmode": "overlay",
              "size": 10,
              "solidity": 0.2
             }
            },
            "type": "bar"
           }
          ],
          "barpolar": [
           {
            "marker": {
             "line": {
              "color": "#E5ECF6",
              "width": 0.5
             },
             "pattern": {
              "fillmode": "overlay",
              "size": 10,
              "solidity": 0.2
             }
            },
            "type": "barpolar"
           }
          ],
          "carpet": [
           {
            "aaxis": {
             "endlinecolor": "#2a3f5f",
             "gridcolor": "white",
             "linecolor": "white",
             "minorgridcolor": "white",
             "startlinecolor": "#2a3f5f"
            },
            "baxis": {
             "endlinecolor": "#2a3f5f",
             "gridcolor": "white",
             "linecolor": "white",
             "minorgridcolor": "white",
             "startlinecolor": "#2a3f5f"
            },
            "type": "carpet"
           }
          ],
          "choropleth": [
           {
            "colorbar": {
             "outlinewidth": 0,
             "ticks": ""
            },
            "type": "choropleth"
           }
          ],
          "contour": [
           {
            "colorbar": {
             "outlinewidth": 0,
             "ticks": ""
            },
            "colorscale": [
             [
              0,
              "#0d0887"
             ],
             [
              0.1111111111111111,
              "#46039f"
             ],
             [
              0.2222222222222222,
              "#7201a8"
             ],
             [
              0.3333333333333333,
              "#9c179e"
             ],
             [
              0.4444444444444444,
              "#bd3786"
             ],
             [
              0.5555555555555556,
              "#d8576b"
             ],
             [
              0.6666666666666666,
              "#ed7953"
             ],
             [
              0.7777777777777778,
              "#fb9f3a"
             ],
             [
              0.8888888888888888,
              "#fdca26"
             ],
             [
              1,
              "#f0f921"
             ]
            ],
            "type": "contour"
           }
          ],
          "contourcarpet": [
           {
            "colorbar": {
             "outlinewidth": 0,
             "ticks": ""
            },
            "type": "contourcarpet"
           }
          ],
          "heatmap": [
           {
            "colorbar": {
             "outlinewidth": 0,
             "ticks": ""
            },
            "colorscale": [
             [
              0,
              "#0d0887"
             ],
             [
              0.1111111111111111,
              "#46039f"
             ],
             [
              0.2222222222222222,
              "#7201a8"
             ],
             [
              0.3333333333333333,
              "#9c179e"
             ],
             [
              0.4444444444444444,
              "#bd3786"
             ],
             [
              0.5555555555555556,
              "#d8576b"
             ],
             [
              0.6666666666666666,
              "#ed7953"
             ],
             [
              0.7777777777777778,
              "#fb9f3a"
             ],
             [
              0.8888888888888888,
              "#fdca26"
             ],
             [
              1,
              "#f0f921"
             ]
            ],
            "type": "heatmap"
           }
          ],
          "histogram": [
           {
            "marker": {
             "pattern": {
              "fillmode": "overlay",
              "size": 10,
              "solidity": 0.2
             }
            },
            "type": "histogram"
           }
          ],
          "histogram2d": [
           {
            "colorbar": {
             "outlinewidth": 0,
             "ticks": ""
            },
            "colorscale": [
             [
              0,
              "#0d0887"
             ],
             [
              0.1111111111111111,
              "#46039f"
             ],
             [
              0.2222222222222222,
              "#7201a8"
             ],
             [
              0.3333333333333333,
              "#9c179e"
             ],
             [
              0.4444444444444444,
              "#bd3786"
             ],
             [
              0.5555555555555556,
              "#d8576b"
             ],
             [
              0.6666666666666666,
              "#ed7953"
             ],
             [
              0.7777777777777778,
              "#fb9f3a"
             ],
             [
              0.8888888888888888,
              "#fdca26"
             ],
             [
              1,
              "#f0f921"
             ]
            ],
            "type": "histogram2d"
           }
          ],
          "histogram2dcontour": [
           {
            "colorbar": {
             "outlinewidth": 0,
             "ticks": ""
            },
            "colorscale": [
             [
              0,
              "#0d0887"
             ],
             [
              0.1111111111111111,
              "#46039f"
             ],
             [
              0.2222222222222222,
              "#7201a8"
             ],
             [
              0.3333333333333333,
              "#9c179e"
             ],
             [
              0.4444444444444444,
              "#bd3786"
             ],
             [
              0.5555555555555556,
              "#d8576b"
             ],
             [
              0.6666666666666666,
              "#ed7953"
             ],
             [
              0.7777777777777778,
              "#fb9f3a"
             ],
             [
              0.8888888888888888,
              "#fdca26"
             ],
             [
              1,
              "#f0f921"
             ]
            ],
            "type": "histogram2dcontour"
           }
          ],
          "mesh3d": [
           {
            "colorbar": {
             "outlinewidth": 0,
             "ticks": ""
            },
            "type": "mesh3d"
           }
          ],
          "parcoords": [
           {
            "line": {
             "colorbar": {
              "outlinewidth": 0,
              "ticks": ""
             }
            },
            "type": "parcoords"
           }
          ],
          "pie": [
           {
            "automargin": true,
            "type": "pie"
           }
          ],
          "scatter": [
           {
            "fillpattern": {
             "fillmode": "overlay",
             "size": 10,
             "solidity": 0.2
            },
            "type": "scatter"
           }
          ],
          "scatter3d": [
           {
            "line": {
             "colorbar": {
              "outlinewidth": 0,
              "ticks": ""
             }
            },
            "marker": {
             "colorbar": {
              "outlinewidth": 0,
              "ticks": ""
             }
            },
            "type": "scatter3d"
           }
          ],
          "scattercarpet": [
           {
            "marker": {
             "colorbar": {
              "outlinewidth": 0,
              "ticks": ""
             }
            },
            "type": "scattercarpet"
           }
          ],
          "scattergeo": [
           {
            "marker": {
             "colorbar": {
              "outlinewidth": 0,
              "ticks": ""
             }
            },
            "type": "scattergeo"
           }
          ],
          "scattergl": [
           {
            "marker": {
             "colorbar": {
              "outlinewidth": 0,
              "ticks": ""
             }
            },
            "type": "scattergl"
           }
          ],
          "scattermap": [
           {
            "marker": {
             "colorbar": {
              "outlinewidth": 0,
              "ticks": ""
             }
            },
            "type": "scattermap"
           }
          ],
          "scattermapbox": [
           {
            "marker": {
             "colorbar": {
              "outlinewidth": 0,
              "ticks": ""
             }
            },
            "type": "scattermapbox"
           }
          ],
          "scatterpolar": [
           {
            "marker": {
             "colorbar": {
              "outlinewidth": 0,
              "ticks": ""
             }
            },
            "type": "scatterpolar"
           }
          ],
          "scatterpolargl": [
           {
            "marker": {
             "colorbar": {
              "outlinewidth": 0,
              "ticks": ""
             }
            },
            "type": "scatterpolargl"
           }
          ],
          "scatterternary": [
           {
            "marker": {
             "colorbar": {
              "outlinewidth": 0,
              "ticks": ""
             }
            },
            "type": "scatterternary"
           }
          ],
          "surface": [
           {
            "colorbar": {
             "outlinewidth": 0,
             "ticks": ""
            },
            "colorscale": [
             [
              0,
              "#0d0887"
             ],
             [
              0.1111111111111111,
              "#46039f"
             ],
             [
              0.2222222222222222,
              "#7201a8"
             ],
             [
              0.3333333333333333,
              "#9c179e"
             ],
             [
              0.4444444444444444,
              "#bd3786"
             ],
             [
              0.5555555555555556,
              "#d8576b"
             ],
             [
              0.6666666666666666,
              "#ed7953"
             ],
             [
              0.7777777777777778,
              "#fb9f3a"
             ],
             [
              0.8888888888888888,
              "#fdca26"
             ],
             [
              1,
              "#f0f921"
             ]
            ],
            "type": "surface"
           }
          ],
          "table": [
           {
            "cells": {
             "fill": {
              "color": "#EBF0F8"
             },
             "line": {
              "color": "white"
             }
            },
            "header": {
             "fill": {
              "color": "#C8D4E3"
             },
             "line": {
              "color": "white"
             }
            },
            "type": "table"
           }
          ]
         },
         "layout": {
          "annotationdefaults": {
           "arrowcolor": "#2a3f5f",
           "arrowhead": 0,
           "arrowwidth": 1
          },
          "autotypenumbers": "strict",
          "coloraxis": {
           "colorbar": {
            "outlinewidth": 0,
            "ticks": ""
           }
          },
          "colorscale": {
           "diverging": [
            [
             0,
             "#8e0152"
            ],
            [
             0.1,
             "#c51b7d"
            ],
            [
             0.2,
             "#de77ae"
            ],
            [
             0.3,
             "#f1b6da"
            ],
            [
             0.4,
             "#fde0ef"
            ],
            [
             0.5,
             "#f7f7f7"
            ],
            [
             0.6,
             "#e6f5d0"
            ],
            [
             0.7,
             "#b8e186"
            ],
            [
             0.8,
             "#7fbc41"
            ],
            [
             0.9,
             "#4d9221"
            ],
            [
             1,
             "#276419"
            ]
           ],
           "sequential": [
            [
             0,
             "#0d0887"
            ],
            [
             0.1111111111111111,
             "#46039f"
            ],
            [
             0.2222222222222222,
             "#7201a8"
            ],
            [
             0.3333333333333333,
             "#9c179e"
            ],
            [
             0.4444444444444444,
             "#bd3786"
            ],
            [
             0.5555555555555556,
             "#d8576b"
            ],
            [
             0.6666666666666666,
             "#ed7953"
            ],
            [
             0.7777777777777778,
             "#fb9f3a"
            ],
            [
             0.8888888888888888,
             "#fdca26"
            ],
            [
             1,
             "#f0f921"
            ]
           ],
           "sequentialminus": [
            [
             0,
             "#0d0887"
            ],
            [
             0.1111111111111111,
             "#46039f"
            ],
            [
             0.2222222222222222,
             "#7201a8"
            ],
            [
             0.3333333333333333,
             "#9c179e"
            ],
            [
             0.4444444444444444,
             "#bd3786"
            ],
            [
             0.5555555555555556,
             "#d8576b"
            ],
            [
             0.6666666666666666,
             "#ed7953"
            ],
            [
             0.7777777777777778,
             "#fb9f3a"
            ],
            [
             0.8888888888888888,
             "#fdca26"
            ],
            [
             1,
             "#f0f921"
            ]
           ]
          },
          "colorway": [
           "#636efa",
           "#EF553B",
           "#00cc96",
           "#ab63fa",
           "#FFA15A",
           "#19d3f3",
           "#FF6692",
           "#B6E880",
           "#FF97FF",
           "#FECB52"
          ],
          "font": {
           "color": "#2a3f5f"
          },
          "geo": {
           "bgcolor": "white",
           "lakecolor": "white",
           "landcolor": "#E5ECF6",
           "showlakes": true,
           "showland": true,
           "subunitcolor": "white"
          },
          "hoverlabel": {
           "align": "left"
          },
          "hovermode": "closest",
          "mapbox": {
           "style": "light"
          },
          "paper_bgcolor": "white",
          "plot_bgcolor": "#E5ECF6",
          "polar": {
           "angularaxis": {
            "gridcolor": "white",
            "linecolor": "white",
            "ticks": ""
           },
           "bgcolor": "#E5ECF6",
           "radialaxis": {
            "gridcolor": "white",
            "linecolor": "white",
            "ticks": ""
           }
          },
          "scene": {
           "xaxis": {
            "backgroundcolor": "#E5ECF6",
            "gridcolor": "white",
            "gridwidth": 2,
            "linecolor": "white",
            "showbackground": true,
            "ticks": "",
            "zerolinecolor": "white"
           },
           "yaxis": {
            "backgroundcolor": "#E5ECF6",
            "gridcolor": "white",
            "gridwidth": 2,
            "linecolor": "white",
            "showbackground": true,
            "ticks": "",
            "zerolinecolor": "white"
           },
           "zaxis": {
            "backgroundcolor": "#E5ECF6",
            "gridcolor": "white",
            "gridwidth": 2,
            "linecolor": "white",
            "showbackground": true,
            "ticks": "",
            "zerolinecolor": "white"
           }
          },
          "shapedefaults": {
           "line": {
            "color": "#2a3f5f"
           }
          },
          "ternary": {
           "aaxis": {
            "gridcolor": "white",
            "linecolor": "white",
            "ticks": ""
           },
           "baxis": {
            "gridcolor": "white",
            "linecolor": "white",
            "ticks": ""
           },
           "bgcolor": "#E5ECF6",
           "caxis": {
            "gridcolor": "white",
            "linecolor": "white",
            "ticks": ""
           }
          },
          "title": {
           "x": 0.05
          },
          "xaxis": {
           "automargin": true,
           "gridcolor": "white",
           "linecolor": "white",
           "ticks": "",
           "title": {
            "standoff": 15
           },
           "zerolinecolor": "white",
           "zerolinewidth": 2
          },
          "yaxis": {
           "automargin": true,
           "gridcolor": "white",
           "linecolor": "white",
           "ticks": "",
           "title": {
            "standoff": 15
           },
           "zerolinecolor": "white",
           "zerolinewidth": 2
          }
         }
        },
        "title": {
         "text": "Rolling Performance Metrics (12-Month Window)"
        },
        "xaxis": {
         "anchor": "y",
         "domain": [
          0,
          1
         ],
         "matches": "x3",
         "showticklabels": false
        },
        "xaxis2": {
         "anchor": "y2",
         "domain": [
          0,
          1
         ],
         "matches": "x3",
         "showticklabels": false
        },
        "xaxis3": {
         "anchor": "y3",
         "domain": [
          0,
          1
         ],
         "title": {
          "text": "Date"
         }
        },
        "yaxis": {
         "anchor": "x",
         "domain": [
          0.72,
          1
         ],
         "title": {
          "text": "Annual Return (%)"
         }
        },
        "yaxis2": {
         "anchor": "x2",
         "domain": [
          0.36,
          0.6399999999999999
         ],
         "title": {
          "text": "Annual Volatility (%)"
         }
        },
        "yaxis3": {
         "anchor": "x3",
         "domain": [
          0,
          0.27999999999999997
         ],
         "title": {
          "text": "Sharpe Ratio"
         }
        }
       }
      }
     },
     "metadata": {},
     "output_type": "display_data"
    }
   ],
   "source": [
    "# Calculate rolling statistics\n",
    "rolling_window = 12  # 12 months\n",
    "\n",
    "# Select a few key exposures for clarity\n",
    "selected_exposures = ['us_large_equity', 'broad_ust', 'real_estate', 'gold']\n",
    "selected_exposures = [exp for exp in selected_exposures if exp in real_returns_df.columns]\n",
    "\n",
    "# Create subplots\n",
    "fig = make_subplots(\n",
    "    rows=3, cols=1,\n",
    "    subplot_titles=('Rolling 12-Month Returns', 'Rolling Volatility', 'Rolling Sharpe Ratio'),\n",
    "    vertical_spacing=0.08,\n",
    "    shared_xaxes=True\n",
    ")\n",
    "\n",
    "for exp_id in selected_exposures:\n",
    "    # Rolling returns\n",
    "    rolling_returns = real_returns_df[exp_id].rolling(rolling_window).mean() * 12 * 100\n",
    "    fig.add_trace(\n",
    "        go.Scatter(x=rolling_returns.index, y=rolling_returns, name=exp_id, mode='lines'),\n",
    "        row=1, col=1\n",
    "    )\n",
    "    \n",
    "    # Rolling volatility\n",
    "    rolling_vol = real_returns_df[exp_id].rolling(rolling_window).std() * np.sqrt(12) * 100\n",
    "    fig.add_trace(\n",
    "        go.Scatter(x=rolling_vol.index, y=rolling_vol, name=exp_id, mode='lines', showlegend=False),\n",
    "        row=2, col=1\n",
    "    )\n",
    "    \n",
    "    # Rolling Sharpe ratio\n",
    "    rolling_sharpe = (rolling_returns / 100) / (rolling_vol / 100)\n",
    "    fig.add_trace(\n",
    "        go.Scatter(x=rolling_sharpe.index, y=rolling_sharpe, name=exp_id, mode='lines', showlegend=False),\n",
    "        row=3, col=1\n",
    "    )\n",
    "\n",
    "# Add zero line to returns and Sharpe\n",
    "fig.add_hline(y=0, line_dash=\"dash\", line_color=\"gray\", row=1)\n",
    "fig.add_hline(y=0, line_dash=\"dash\", line_color=\"gray\", row=3)\n",
    "\n",
    "fig.update_layout(\n",
    "    height=900,\n",
    "    title_text=\"Rolling Performance Metrics (12-Month Window)\",\n",
    "    hovermode='x unified'\n",
    ")\n",
    "\n",
    "fig.update_yaxes(title_text=\"Annual Return (%)\", row=1)\n",
    "fig.update_yaxes(title_text=\"Annual Volatility (%)\", row=2)\n",
    "fig.update_yaxes(title_text=\"Sharpe Ratio\", row=3)\n",
    "fig.update_xaxes(title_text=\"Date\", row=3)\n",
    "\n",
    "fig.show()"
   ]
  },
  {
   "cell_type": "markdown",
   "metadata": {},
   "source": [
    "## 12. Drawdown Analysis"
   ]
  },
  {
   "cell_type": "code",
   "execution_count": 15,
   "metadata": {},
   "outputs": [],
   "source": [
    "# Calculate drawdownsdef calculate_drawdown(returns):    \"\"\"Calculate drawdown series from returns.\"\"\"    cumulative = (1 + returns).cumprod()    running_max = cumulative.expanding().max()    drawdown = (cumulative - running_max) / running_max    return drawdown# Calculate drawdowns for selected exposuresdrawdowns = {}for exp_id in selected_exposures:    if exp_id in real_returns_df.columns:        drawdowns[exp_id] = calculate_drawdown(real_returns_df[exp_id])# Create the plotfig = go.Figure()for exp_id, dd in drawdowns.items():    fig.add_trace(        go.Scatter(            x=dd.index,            y=dd * 100,            name=exp_id,            mode='lines',            fill='tozeroy'        )    )fig.update_layout(    title=\"Drawdown Analysis (Real Returns)\",    xaxis_title=\"Date\",    yaxis_title=\"Drawdown (%)\",    height=500,    hovermode='x unified')fig.update_yaxes(autorange=\"reversed\")  # Drawdowns are negativefig.show()# Calculate maximum drawdownsprint(\"\\n📉 Maximum Drawdowns:\")max_drawdowns = pd.DataFrame({    exp_id: {        'Max Drawdown': dd.min() * 100,        'Max DD Date': dd.idxmin(),        'Recovery Days': len(dd[dd < 0]) if len(dd[dd < 0]) > 0 else 0    }    for exp_id, dd in drawdowns.items()}).Tprint(max_drawdowns.round(1))"
   ]
  },
  {
   "cell_type": "markdown",
   "metadata": {},
   "source": [
    "## 13. Efficient Frontier Preview"
   ]
  },
  {
   "cell_type": "code",
   "execution_count": 16,
   "metadata": {},
   "outputs": [
    {
     "data": {
      "application/vnd.plotly.v1+json": {
       "config": {
        "plotlyServerURL": "https://plot.ly"
       },
       "data": [
        {
         "hovertemplate": "Risk: %{x:.1f}%<br>Return: %{y:.1f}%<br>%{text}",
         "marker": {
          "color": {
           "bdata": "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",
           "dtype": "f8"
          },
          "colorbar": {
           "title": {
            "text": "Sharpe<br>Ratio"
           }
          },
          "colorscale": [
           [
            0,
            "#440154"
           ],
           [
            0.1111111111111111,
            "#482878"
           ],
           [
            0.2222222222222222,
            "#3e4989"
           ],
           [
            0.3333333333333333,
            "#31688e"
           ],
           [
            0.4444444444444444,
            "#26828e"
           ],
           [
            0.5555555555555556,
            "#1f9e89"
           ],
           [
            0.6666666666666666,
            "#35b779"
           ],
           [
            0.7777777777777778,
            "#6ece58"
           ],
           [
            0.8888888888888888,
            "#b5de2b"
           ],
           [
            1,
            "#fde725"
           ]
          ],
          "showscale": true,
          "size": 3
         },
         "mode": "markers",
         "name": "Random Portfolios",
         "text": [
          "Sharpe: 0.24",
          "Sharpe: -0.26",
          "Sharpe: 0.18",
          "Sharpe: 0.29",
          "Sharpe: 0.39",
          "Sharpe: 0.38",
          "Sharpe: 0.39",
          "Sharpe: 0.35",
          "Sharpe: 0.15",
          "Sharpe: 0.13",
          "Sharpe: 0.30",
          "Sharpe: 0.18",
          "Sharpe: 0.45",
          "Sharpe: 0.35",
          "Sharpe: 0.32",
          "Sharpe: 0.50",
          "Sharpe: 0.32",
          "Sharpe: 0.49",
          "Sharpe: 0.36",
          "Sharpe: 0.43",
          "Sharpe: 0.25",
          "Sharpe: 0.22",
          "Sharpe: 0.11",
          "Sharpe: 0.42",
          "Sharpe: 0.24",
          "Sharpe: -0.09",
          "Sharpe: -0.06",
          "Sharpe: 0.50",
          "Sharpe: 0.45",
          "Sharpe: 0.27",
          "Sharpe: 0.11",
          "Sharpe: 0.31",
          "Sharpe: 0.39",
          "Sharpe: 0.23",
          "Sharpe: 0.37",
          "Sharpe: 0.26",
          "Sharpe: 0.30",
          "Sharpe: 0.06",
          "Sharpe: 0.35",
          "Sharpe: 0.32",
          "Sharpe: 0.27",
          "Sharpe: 0.43",
          "Sharpe: 0.48",
          "Sharpe: 0.51",
          "Sharpe: 0.29",
          "Sharpe: 0.35",
          "Sharpe: 0.45",
          "Sharpe: 0.24",
          "Sharpe: 0.44",
          "Sharpe: 0.27",
          "Sharpe: 0.26",
          "Sharpe: 0.15",
          "Sharpe: 0.48",
          "Sharpe: 0.42",
          "Sharpe: 0.31",
          "Sharpe: 0.35",
          "Sharpe: 0.56",
          "Sharpe: 0.02",
          "Sharpe: 0.33",
          "Sharpe: 0.26",
          "Sharpe: -0.11",
          "Sharpe: 0.27",
          "Sharpe: 0.46",
          "Sharpe: 0.14",
          "Sharpe: 0.22",
          "Sharpe: 0.13",
          "Sharpe: 0.19",
          "Sharpe: 0.49",
          "Sharpe: 0.25",
          "Sharpe: 0.49",
          "Sharpe: 0.52",
          "Sharpe: 0.34",
          "Sharpe: 0.23",
          "Sharpe: 0.53",
          "Sharpe: 0.44",
          "Sharpe: 0.11",
          "Sharpe: 0.28",
          "Sharpe: 0.66",
          "Sharpe: 0.30",
          "Sharpe: 0.32",
          "Sharpe: 0.44",
          "Sharpe: 0.34",
          "Sharpe: 0.45",
          "Sharpe: 0.38",
          "Sharpe: 0.29",
          "Sharpe: 0.38",
          "Sharpe: 0.38",
          "Sharpe: 0.16",
          "Sharpe: 0.39",
          "Sharpe: 0.48",
          "Sharpe: 0.58",
          "Sharpe: 0.21",
          "Sharpe: -0.32",
          "Sharpe: 0.36",
          "Sharpe: 0.08",
          "Sharpe: 0.25",
          "Sharpe: 0.38",
          "Sharpe: 0.20",
          "Sharpe: 0.22",
          "Sharpe: 0.22",
          "Sharpe: 0.26",
          "Sharpe: 0.18",
          "Sharpe: 0.38",
          "Sharpe: 0.50",
          "Sharpe: 0.46",
          "Sharpe: -0.45",
          "Sharpe: 0.67",
          "Sharpe: 0.10",
          "Sharpe: 0.33",
          "Sharpe: 0.45",
          "Sharpe: 0.43",
          "Sharpe: 0.24",
          "Sharpe: 0.47",
          "Sharpe: 0.44",
          "Sharpe: 0.45",
          "Sharpe: 0.36",
          "Sharpe: 0.11",
          "Sharpe: 0.42",
          "Sharpe: 0.43",
          "Sharpe: 0.36",
          "Sharpe: 0.25",
          "Sharpe: 0.39",
          "Sharpe: 0.45",
          "Sharpe: 0.50",
          "Sharpe: 0.44",
          "Sharpe: 0.27",
          "Sharpe: 0.52",
          "Sharpe: 0.23",
          "Sharpe: 0.32",
          "Sharpe: 0.07",
          "Sharpe: 0.43",
          "Sharpe: 0.53",
          "Sharpe: 0.28",
          "Sharpe: 0.57",
          "Sharpe: 0.57",
          "Sharpe: 0.20",
          "Sharpe: 0.40",
          "Sharpe: 0.37",
          "Sharpe: 0.24",
          "Sharpe: 0.12",
          "Sharpe: -0.01",
          "Sharpe: 0.57",
          "Sharpe: 0.40",
          "Sharpe: 0.47",
          "Sharpe: -0.20",
          "Sharpe: 0.41",
          "Sharpe: 0.47",
          "Sharpe: 0.27",
          "Sharpe: 0.26",
          "Sharpe: 0.25",
          "Sharpe: 0.45",
          "Sharpe: 0.34",
          "Sharpe: 0.25",
          "Sharpe: 0.12",
          "Sharpe: 0.40",
          "Sharpe: 0.46",
          "Sharpe: 0.34",
          "Sharpe: 0.47",
          "Sharpe: 0.49",
          "Sharpe: 0.34",
          "Sharpe: 0.33",
          "Sharpe: -0.01",
          "Sharpe: 0.38",
          "Sharpe: 0.22",
          "Sharpe: 0.30",
          "Sharpe: 0.49",
          "Sharpe: 0.35",
          "Sharpe: 0.20",
          "Sharpe: 0.37",
          "Sharpe: 0.13",
          "Sharpe: 0.16",
          "Sharpe: 0.21",
          "Sharpe: 0.48",
          "Sharpe: 0.44",
          "Sharpe: 0.23",
          "Sharpe: 0.28",
          "Sharpe: 0.15",
          "Sharpe: 0.59",
          "Sharpe: 0.46",
          "Sharpe: 0.35",
          "Sharpe: 0.55",
          "Sharpe: -0.26",
          "Sharpe: 0.22",
          "Sharpe: 0.33",
          "Sharpe: 0.28",
          "Sharpe: 0.40",
          "Sharpe: 0.18",
          "Sharpe: 0.40",
          "Sharpe: 0.33",
          "Sharpe: 0.41",
          "Sharpe: 0.24",
          "Sharpe: 0.26",
          "Sharpe: 0.34",
          "Sharpe: 0.30",
          "Sharpe: 0.26",
          "Sharpe: 0.17",
          "Sharpe: 0.37",
          "Sharpe: 0.26",
          "Sharpe: 0.32",
          "Sharpe: 0.31",
          "Sharpe: 0.38",
          "Sharpe: 0.39",
          "Sharpe: 0.45",
          "Sharpe: 0.32",
          "Sharpe: 0.47",
          "Sharpe: 0.48",
          "Sharpe: 0.14",
          "Sharpe: 0.45",
          "Sharpe: 0.34",
          "Sharpe: 0.22",
          "Sharpe: 0.52",
          "Sharpe: 0.47",
          "Sharpe: 0.20",
          "Sharpe: 0.27",
          "Sharpe: 0.45",
          "Sharpe: 0.41",
          "Sharpe: 0.29",
          "Sharpe: 0.25",
          "Sharpe: 0.24",
          "Sharpe: 0.15",
          "Sharpe: 0.45",
          "Sharpe: 0.22",
          "Sharpe: 0.38",
          "Sharpe: 0.36",
          "Sharpe: 0.15",
          "Sharpe: 0.17",
          "Sharpe: 0.46",
          "Sharpe: 0.22",
          "Sharpe: 0.17",
          "Sharpe: 0.50",
          "Sharpe: 0.22",
          "Sharpe: 0.37",
          "Sharpe: 0.35",
          "Sharpe: 0.25",
          "Sharpe: -0.07",
          "Sharpe: 0.12",
          "Sharpe: 0.39",
          "Sharpe: 0.27",
          "Sharpe: 0.57",
          "Sharpe: 0.51",
          "Sharpe: 0.36",
          "Sharpe: 0.26",
          "Sharpe: 0.20",
          "Sharpe: 0.48",
          "Sharpe: 0.49",
          "Sharpe: 0.34",
          "Sharpe: 0.34",
          "Sharpe: 0.29",
          "Sharpe: 0.16",
          "Sharpe: 0.33",
          "Sharpe: 0.42",
          "Sharpe: 0.34",
          "Sharpe: 0.42",
          "Sharpe: 0.41",
          "Sharpe: 0.15",
          "Sharpe: 0.33",
          "Sharpe: 0.20",
          "Sharpe: 0.41",
          "Sharpe: 0.34",
          "Sharpe: 0.45",
          "Sharpe: 0.27",
          "Sharpe: 0.53",
          "Sharpe: 0.27",
          "Sharpe: 0.13",
          "Sharpe: -0.24",
          "Sharpe: 0.28",
          "Sharpe: 0.31",
          "Sharpe: 0.32",
          "Sharpe: 0.48",
          "Sharpe: 0.43",
          "Sharpe: 0.49",
          "Sharpe: 0.48",
          "Sharpe: 0.41",
          "Sharpe: 0.42",
          "Sharpe: 0.55",
          "Sharpe: 0.52",
          "Sharpe: 0.52",
          "Sharpe: 0.30",
          "Sharpe: 0.19",
          "Sharpe: 0.31",
          "Sharpe: -0.00",
          "Sharpe: 0.42",
          "Sharpe: -0.26",
          "Sharpe: 0.28",
          "Sharpe: 0.29",
          "Sharpe: 0.34",
          "Sharpe: -0.05",
          "Sharpe: 0.39",
          "Sharpe: 0.56",
          "Sharpe: 0.34",
          "Sharpe: 0.44",
          "Sharpe: 0.13",
          "Sharpe: 0.28",
          "Sharpe: 0.25",
          "Sharpe: 0.54",
          "Sharpe: 0.25",
          "Sharpe: 0.31",
          "Sharpe: 0.49",
          "Sharpe: 0.36",
          "Sharpe: 0.39",
          "Sharpe: 0.16",
          "Sharpe: 0.22",
          "Sharpe: 0.36",
          "Sharpe: 0.14",
          "Sharpe: 0.34",
          "Sharpe: 0.47",
          "Sharpe: 0.31",
          "Sharpe: 0.02",
          "Sharpe: 0.01",
          "Sharpe: 0.52",
          "Sharpe: 0.36",
          "Sharpe: 0.44",
          "Sharpe: 0.14",
          "Sharpe: 0.44",
          "Sharpe: -0.10",
          "Sharpe: 0.32",
          "Sharpe: 0.05",
          "Sharpe: 0.47",
          "Sharpe: 0.34",
          "Sharpe: 0.29",
          "Sharpe: 0.46",
          "Sharpe: 0.30",
          "Sharpe: 0.13",
          "Sharpe: 0.43",
          "Sharpe: 0.39",
          "Sharpe: 0.30",
          "Sharpe: 0.41",
          "Sharpe: 0.45",
          "Sharpe: 0.25",
          "Sharpe: 0.20",
          "Sharpe: 0.57",
          "Sharpe: 0.28",
          "Sharpe: 0.30",
          "Sharpe: 0.37",
          "Sharpe: 0.30",
          "Sharpe: 0.35",
          "Sharpe: 0.37",
          "Sharpe: 0.26",
          "Sharpe: 0.40",
          "Sharpe: 0.20",
          "Sharpe: 0.32",
          "Sharpe: 0.27",
          "Sharpe: 0.45",
          "Sharpe: 0.15",
          "Sharpe: 0.50",
          "Sharpe: 0.36",
          "Sharpe: 0.29",
          "Sharpe: 0.24",
          "Sharpe: 0.47",
          "Sharpe: 0.44",
          "Sharpe: 0.38",
          "Sharpe: 0.51",
          "Sharpe: 0.36",
          "Sharpe: 0.34",
          "Sharpe: -0.27",
          "Sharpe: 0.22",
          "Sharpe: 0.35",
          "Sharpe: 0.15",
          "Sharpe: 0.26",
          "Sharpe: -0.10",
          "Sharpe: 0.42",
          "Sharpe: 0.36",
          "Sharpe: 0.22",
          "Sharpe: 0.46",
          "Sharpe: 0.49",
          "Sharpe: 0.24",
          "Sharpe: 0.36",
          "Sharpe: 0.31",
          "Sharpe: 0.25",
          "Sharpe: 0.10",
          "Sharpe: 0.51",
          "Sharpe: 0.29",
          "Sharpe: 0.15",
          "Sharpe: -0.01",
          "Sharpe: 0.40",
          "Sharpe: 0.22",
          "Sharpe: 0.19",
          "Sharpe: 0.28",
          "Sharpe: 0.47",
          "Sharpe: -0.61",
          "Sharpe: 0.31",
          "Sharpe: 0.34",
          "Sharpe: 0.22",
          "Sharpe: 0.24",
          "Sharpe: 0.21",
          "Sharpe: 0.00",
          "Sharpe: 0.31",
          "Sharpe: 0.13",
          "Sharpe: 0.47",
          "Sharpe: 0.27",
          "Sharpe: 0.29",
          "Sharpe: 0.25",
          "Sharpe: 0.25",
          "Sharpe: 0.37",
          "Sharpe: 0.35",
          "Sharpe: 0.16",
          "Sharpe: 0.18",
          "Sharpe: 0.25",
          "Sharpe: 0.26",
          "Sharpe: 0.15",
          "Sharpe: 0.04",
          "Sharpe: 0.26",
          "Sharpe: 0.54",
          "Sharpe: 0.45",
          "Sharpe: 0.29",
          "Sharpe: 0.20",
          "Sharpe: 0.48",
          "Sharpe: 0.09",
          "Sharpe: 0.25",
          "Sharpe: 0.21",
          "Sharpe: 0.43",
          "Sharpe: 0.40",
          "Sharpe: 0.17",
          "Sharpe: 0.05",
          "Sharpe: 0.29",
          "Sharpe: 0.32",
          "Sharpe: 0.10",
          "Sharpe: 0.32",
          "Sharpe: 0.21",
          "Sharpe: 0.28",
          "Sharpe: -0.18",
          "Sharpe: 0.14",
          "Sharpe: 0.52",
          "Sharpe: 0.33",
          "Sharpe: 0.46",
          "Sharpe: 0.07",
          "Sharpe: 0.44",
          "Sharpe: 0.27",
          "Sharpe: 0.41",
          "Sharpe: 0.12",
          "Sharpe: 0.28",
          "Sharpe: 0.04",
          "Sharpe: 0.36",
          "Sharpe: -0.02",
          "Sharpe: 0.49",
          "Sharpe: 0.37",
          "Sharpe: 0.57",
          "Sharpe: 0.55",
          "Sharpe: 0.35",
          "Sharpe: 0.39",
          "Sharpe: -0.03",
          "Sharpe: 0.36",
          "Sharpe: 0.49",
          "Sharpe: 0.16",
          "Sharpe: 0.03",
          "Sharpe: -0.04",
          "Sharpe: 0.27",
          "Sharpe: 0.44",
          "Sharpe: 0.49",
          "Sharpe: 0.01",
          "Sharpe: 0.35",
          "Sharpe: 0.24",
          "Sharpe: 0.36",
          "Sharpe: 0.36",
          "Sharpe: 0.38",
          "Sharpe: 0.44",
          "Sharpe: 0.32",
          "Sharpe: 0.24",
          "Sharpe: 0.47",
          "Sharpe: 0.12",
          "Sharpe: 0.39",
          "Sharpe: 0.16",
          "Sharpe: 0.50",
          "Sharpe: 0.11",
          "Sharpe: 0.38",
          "Sharpe: 0.31",
          "Sharpe: 0.24",
          "Sharpe: 0.26",
          "Sharpe: 0.56",
          "Sharpe: 0.03",
          "Sharpe: 0.24",
          "Sharpe: 0.02",
          "Sharpe: 0.33",
          "Sharpe: 0.51",
          "Sharpe: 0.47",
          "Sharpe: 0.59",
          "Sharpe: 0.53",
          "Sharpe: -0.08",
          "Sharpe: 0.35",
          "Sharpe: 0.29",
          "Sharpe: 0.32",
          "Sharpe: 0.53",
          "Sharpe: 0.38",
          "Sharpe: 0.34",
          "Sharpe: -0.03",
          "Sharpe: 0.43",
          "Sharpe: 0.38",
          "Sharpe: 0.18",
          "Sharpe: 0.25",
          "Sharpe: 0.57",
          "Sharpe: -0.06",
          "Sharpe: 0.13",
          "Sharpe: 0.17",
          "Sharpe: 0.45",
          "Sharpe: 0.37",
          "Sharpe: 0.08",
          "Sharpe: 0.43",
          "Sharpe: 0.35",
          "Sharpe: 0.45",
          "Sharpe: 0.38",
          "Sharpe: -0.34",
          "Sharpe: 0.20",
          "Sharpe: 0.22",
          "Sharpe: 0.57",
          "Sharpe: 0.57",
          "Sharpe: 0.40",
          "Sharpe: 0.25",
          "Sharpe: 0.57",
          "Sharpe: 0.27",
          "Sharpe: 0.33",
          "Sharpe: 0.45",
          "Sharpe: -0.57",
          "Sharpe: 0.23",
          "Sharpe: 0.46",
          "Sharpe: 0.28",
          "Sharpe: 0.41",
          "Sharpe: 0.41",
          "Sharpe: 0.30",
          "Sharpe: 0.64",
          "Sharpe: 0.27",
          "Sharpe: 0.32",
          "Sharpe: 0.36",
          "Sharpe: -0.12",
          "Sharpe: 0.46",
          "Sharpe: -0.38",
          "Sharpe: 0.59",
          "Sharpe: 0.18",
          "Sharpe: 0.27",
          "Sharpe: 0.29",
          "Sharpe: 0.38",
          "Sharpe: 0.54",
          "Sharpe: 0.26",
          "Sharpe: 0.42",
          "Sharpe: 0.51",
          "Sharpe: 0.37",
          "Sharpe: 0.33",
          "Sharpe: 0.38",
          "Sharpe: 0.36",
          "Sharpe: 0.47",
          "Sharpe: 0.40",
          "Sharpe: 0.41",
          "Sharpe: 0.23",
          "Sharpe: 0.52",
          "Sharpe: 0.29",
          "Sharpe: 0.13",
          "Sharpe: 0.32",
          "Sharpe: 0.35",
          "Sharpe: 0.27",
          "Sharpe: 0.27",
          "Sharpe: 0.45",
          "Sharpe: 0.27",
          "Sharpe: 0.48",
          "Sharpe: 0.36",
          "Sharpe: 0.23",
          "Sharpe: 0.38",
          "Sharpe: 0.25",
          "Sharpe: 0.48",
          "Sharpe: 0.44",
          "Sharpe: 0.45",
          "Sharpe: 0.51",
          "Sharpe: 0.23",
          "Sharpe: -0.10",
          "Sharpe: 0.35",
          "Sharpe: 0.47",
          "Sharpe: 0.53",
          "Sharpe: 0.20",
          "Sharpe: 0.56",
          "Sharpe: 0.40",
          "Sharpe: 0.27",
          "Sharpe: 0.27",
          "Sharpe: -0.06",
          "Sharpe: 0.26",
          "Sharpe: 0.35",
          "Sharpe: 0.32",
          "Sharpe: 0.49",
          "Sharpe: 0.21",
          "Sharpe: 0.20",
          "Sharpe: 0.17",
          "Sharpe: 0.09",
          "Sharpe: 0.33",
          "Sharpe: 0.23",
          "Sharpe: 0.38",
          "Sharpe: 0.26",
          "Sharpe: 0.25",
          "Sharpe: 0.08",
          "Sharpe: 0.15",
          "Sharpe: 0.25",
          "Sharpe: 0.17",
          "Sharpe: 0.37",
          "Sharpe: -0.08",
          "Sharpe: 0.33",
          "Sharpe: 0.20",
          "Sharpe: 0.35",
          "Sharpe: -0.36",
          "Sharpe: 0.38",
          "Sharpe: 0.53",
          "Sharpe: 0.43",
          "Sharpe: 0.42",
          "Sharpe: 0.38",
          "Sharpe: 0.32",
          "Sharpe: 0.36",
          "Sharpe: 0.41",
          "Sharpe: 0.35",
          "Sharpe: 0.41",
          "Sharpe: 0.19",
          "Sharpe: 0.31",
          "Sharpe: 0.37",
          "Sharpe: 0.37",
          "Sharpe: 0.31",
          "Sharpe: 0.07",
          "Sharpe: 0.46",
          "Sharpe: 0.25",
          "Sharpe: -0.12",
          "Sharpe: 0.24",
          "Sharpe: 0.34",
          "Sharpe: 0.23",
          "Sharpe: 0.47",
          "Sharpe: 0.28",
          "Sharpe: 0.45",
          "Sharpe: 0.49",
          "Sharpe: 0.33",
          "Sharpe: -0.22",
          "Sharpe: 0.50",
          "Sharpe: 0.42",
          "Sharpe: 0.29",
          "Sharpe: 0.34",
          "Sharpe: 0.27",
          "Sharpe: -0.01",
          "Sharpe: 0.24",
          "Sharpe: 0.30",
          "Sharpe: 0.47",
          "Sharpe: 0.26",
          "Sharpe: 0.32",
          "Sharpe: 0.55",
          "Sharpe: 0.33",
          "Sharpe: 0.41",
          "Sharpe: -0.20",
          "Sharpe: 0.09",
          "Sharpe: 0.17",
          "Sharpe: 0.21",
          "Sharpe: 0.12",
          "Sharpe: 0.44",
          "Sharpe: 0.35",
          "Sharpe: 0.52",
          "Sharpe: 0.22",
          "Sharpe: 0.33",
          "Sharpe: 0.26",
          "Sharpe: 0.23",
          "Sharpe: 0.47",
          "Sharpe: 0.34",
          "Sharpe: 0.17",
          "Sharpe: 0.50",
          "Sharpe: 0.36",
          "Sharpe: 0.31",
          "Sharpe: 0.27",
          "Sharpe: 0.22",
          "Sharpe: 0.37",
          "Sharpe: 0.24",
          "Sharpe: 0.26",
          "Sharpe: 0.37",
          "Sharpe: -0.09",
          "Sharpe: 0.00",
          "Sharpe: 0.18",
          "Sharpe: 0.29",
          "Sharpe: 0.28",
          "Sharpe: 0.37",
          "Sharpe: 0.43",
          "Sharpe: 0.38",
          "Sharpe: 0.30",
          "Sharpe: 0.47",
          "Sharpe: 0.14",
          "Sharpe: 0.29",
          "Sharpe: 0.16",
          "Sharpe: 0.34",
          "Sharpe: 0.40",
          "Sharpe: 0.25",
          "Sharpe: 0.16",
          "Sharpe: 0.34",
          "Sharpe: 0.22",
          "Sharpe: 0.14",
          "Sharpe: 0.34",
          "Sharpe: 0.48",
          "Sharpe: 0.11",
          "Sharpe: 0.37",
          "Sharpe: 0.08",
          "Sharpe: 0.35",
          "Sharpe: 0.49",
          "Sharpe: 0.44",
          "Sharpe: 0.30",
          "Sharpe: 0.07",
          "Sharpe: 0.21",
          "Sharpe: 0.44",
          "Sharpe: 0.44",
          "Sharpe: 0.32",
          "Sharpe: 0.20",
          "Sharpe: 0.37",
          "Sharpe: 0.42",
          "Sharpe: 0.48",
          "Sharpe: 0.44",
          "Sharpe: 0.00",
          "Sharpe: 0.46",
          "Sharpe: 0.34",
          "Sharpe: -0.08",
          "Sharpe: -0.08",
          "Sharpe: 0.40",
          "Sharpe: -0.09",
          "Sharpe: 0.26",
          "Sharpe: 0.44",
          "Sharpe: 0.15",
          "Sharpe: 0.24",
          "Sharpe: 0.33",
          "Sharpe: 0.49",
          "Sharpe: 0.33",
          "Sharpe: 0.40",
          "Sharpe: 0.32",
          "Sharpe: 0.25",
          "Sharpe: 0.29",
          "Sharpe: 0.05",
          "Sharpe: 0.41",
          "Sharpe: 0.24",
          "Sharpe: -0.13",
          "Sharpe: 0.39",
          "Sharpe: 0.44",
          "Sharpe: 0.22",
          "Sharpe: 0.11",
          "Sharpe: 0.44",
          "Sharpe: 0.31",
          "Sharpe: -0.27",
          "Sharpe: -0.01",
          "Sharpe: 0.31",
          "Sharpe: 0.39",
          "Sharpe: 0.52",
          "Sharpe: 0.27",
          "Sharpe: 0.38",
          "Sharpe: 0.26",
          "Sharpe: 0.20",
          "Sharpe: -0.27",
          "Sharpe: 0.47",
          "Sharpe: 0.29",
          "Sharpe: 0.56",
          "Sharpe: 0.34",
          "Sharpe: 0.29",
          "Sharpe: 0.48",
          "Sharpe: 0.33",
          "Sharpe: 0.45",
          "Sharpe: -0.03",
          "Sharpe: 0.29",
          "Sharpe: 0.23",
          "Sharpe: 0.34",
          "Sharpe: 0.33",
          "Sharpe: 0.16",
          "Sharpe: 0.27",
          "Sharpe: 0.22",
          "Sharpe: 0.35",
          "Sharpe: 0.33",
          "Sharpe: 0.46",
          "Sharpe: 0.43",
          "Sharpe: 0.11",
          "Sharpe: 0.27",
          "Sharpe: 0.08",
          "Sharpe: 0.25",
          "Sharpe: 0.29",
          "Sharpe: 0.25",
          "Sharpe: 0.43",
          "Sharpe: 0.36",
          "Sharpe: 0.41",
          "Sharpe: 0.39",
          "Sharpe: 0.49",
          "Sharpe: 0.33",
          "Sharpe: 0.38",
          "Sharpe: 0.33",
          "Sharpe: 0.33",
          "Sharpe: 0.30",
          "Sharpe: 0.15",
          "Sharpe: 0.24",
          "Sharpe: 0.32",
          "Sharpe: 0.06",
          "Sharpe: 0.40",
          "Sharpe: 0.44",
          "Sharpe: 0.26",
          "Sharpe: 0.23",
          "Sharpe: 0.37",
          "Sharpe: 0.04",
          "Sharpe: 0.49",
          "Sharpe: 0.21",
          "Sharpe: 0.35",
          "Sharpe: 0.42",
          "Sharpe: 0.02",
          "Sharpe: 0.29",
          "Sharpe: 0.02",
          "Sharpe: 0.32",
          "Sharpe: -0.01",
          "Sharpe: 0.21",
          "Sharpe: 0.23",
          "Sharpe: 0.52",
          "Sharpe: 0.32",
          "Sharpe: -0.37",
          "Sharpe: 0.35",
          "Sharpe: 0.53",
          "Sharpe: 0.53",
          "Sharpe: -0.18",
          "Sharpe: 0.23",
          "Sharpe: 0.66",
          "Sharpe: 0.53",
          "Sharpe: 0.29",
          "Sharpe: 0.41",
          "Sharpe: 0.51",
          "Sharpe: 0.31",
          "Sharpe: 0.30",
          "Sharpe: 0.06",
          "Sharpe: 0.14",
          "Sharpe: 0.47",
          "Sharpe: 0.34",
          "Sharpe: 0.23",
          "Sharpe: 0.13",
          "Sharpe: 0.28",
          "Sharpe: 0.50",
          "Sharpe: 0.24",
          "Sharpe: 0.17",
          "Sharpe: 0.38",
          "Sharpe: 0.31",
          "Sharpe: 0.36",
          "Sharpe: 0.26",
          "Sharpe: 0.37",
          "Sharpe: 0.22",
          "Sharpe: 0.50",
          "Sharpe: 0.46",
          "Sharpe: 0.55",
          "Sharpe: 0.52",
          "Sharpe: 0.31",
          "Sharpe: 0.27",
          "Sharpe: 0.33",
          "Sharpe: 0.42",
          "Sharpe: 0.25",
          "Sharpe: 0.49",
          "Sharpe: 0.10",
          "Sharpe: 0.37",
          "Sharpe: 0.25",
          "Sharpe: 0.43",
          "Sharpe: 0.19",
          "Sharpe: 0.21",
          "Sharpe: 0.39",
          "Sharpe: 0.30",
          "Sharpe: 0.19",
          "Sharpe: 0.50",
          "Sharpe: 0.34",
          "Sharpe: 0.28",
          "Sharpe: 0.44",
          "Sharpe: 0.32",
          "Sharpe: 0.12",
          "Sharpe: 0.13",
          "Sharpe: 0.53",
          "Sharpe: 0.33",
          "Sharpe: 0.65",
          "Sharpe: 0.32",
          "Sharpe: 0.33",
          "Sharpe: 0.62",
          "Sharpe: 0.38",
          "Sharpe: 0.31",
          "Sharpe: 0.11",
          "Sharpe: 0.49",
          "Sharpe: 0.43",
          "Sharpe: 0.14",
          "Sharpe: 0.21",
          "Sharpe: 0.43",
          "Sharpe: 0.39",
          "Sharpe: 0.49",
          "Sharpe: 0.19",
          "Sharpe: 0.40",
          "Sharpe: 0.55",
          "Sharpe: 0.21",
          "Sharpe: 0.41",
          "Sharpe: 0.49",
          "Sharpe: -0.14",
          "Sharpe: 0.22",
          "Sharpe: 0.51",
          "Sharpe: 0.29",
          "Sharpe: 0.04",
          "Sharpe: 0.23",
          "Sharpe: 0.37",
          "Sharpe: 0.08",
          "Sharpe: 0.16",
          "Sharpe: 0.28",
          "Sharpe: -0.10",
          "Sharpe: 0.43",
          "Sharpe: 0.40",
          "Sharpe: 0.26",
          "Sharpe: 0.36",
          "Sharpe: 0.32",
          "Sharpe: 0.02",
          "Sharpe: 0.37",
          "Sharpe: 0.13",
          "Sharpe: 0.27",
          "Sharpe: 0.57",
          "Sharpe: 0.33",
          "Sharpe: 0.31",
          "Sharpe: 0.23",
          "Sharpe: 0.44",
          "Sharpe: -0.26",
          "Sharpe: 0.02",
          "Sharpe: 0.28",
          "Sharpe: -0.01",
          "Sharpe: 0.15",
          "Sharpe: 0.44",
          "Sharpe: 0.34",
          "Sharpe: 0.35",
          "Sharpe: 0.19",
          "Sharpe: 0.19",
          "Sharpe: 0.05",
          "Sharpe: 0.39",
          "Sharpe: 0.52",
          "Sharpe: 0.34",
          "Sharpe: -0.16",
          "Sharpe: 0.48",
          "Sharpe: 0.29",
          "Sharpe: 0.11",
          "Sharpe: -0.45",
          "Sharpe: 0.24",
          "Sharpe: 0.40",
          "Sharpe: 0.12",
          "Sharpe: 0.48",
          "Sharpe: 0.45",
          "Sharpe: 0.55",
          "Sharpe: 0.39",
          "Sharpe: 0.17",
          "Sharpe: 0.25",
          "Sharpe: 0.23",
          "Sharpe: 0.09",
          "Sharpe: 0.42",
          "Sharpe: -0.31",
          "Sharpe: 0.27",
          "Sharpe: 0.27",
          "Sharpe: 0.19",
          "Sharpe: 0.25",
          "Sharpe: -0.01",
          "Sharpe: 0.29",
          "Sharpe: 0.16",
          "Sharpe: 0.24",
          "Sharpe: 0.44",
          "Sharpe: 0.25",
          "Sharpe: 0.39",
          "Sharpe: -0.34",
          "Sharpe: 0.33",
          "Sharpe: 0.39",
          "Sharpe: 0.20",
          "Sharpe: 0.20",
          "Sharpe: 0.14",
          "Sharpe: 0.04",
          "Sharpe: 0.53",
          "Sharpe: 0.38",
          "Sharpe: 0.23",
          "Sharpe: 0.27",
          "Sharpe: 0.36",
          "Sharpe: 0.26",
          "Sharpe: 0.10",
          "Sharpe: 0.35",
          "Sharpe: 0.48",
          "Sharpe: 0.27",
          "Sharpe: 0.38",
          "Sharpe: 0.51",
          "Sharpe: 0.28",
          "Sharpe: 0.39",
          "Sharpe: 0.51",
          "Sharpe: 0.29",
          "Sharpe: 0.61",
          "Sharpe: 0.39",
          "Sharpe: -0.02",
          "Sharpe: 0.31",
          "Sharpe: -0.25",
          "Sharpe: 0.37",
          "Sharpe: 0.45",
          "Sharpe: 0.31",
          "Sharpe: 0.29",
          "Sharpe: 0.38",
          "Sharpe: 0.33",
          "Sharpe: 0.25",
          "Sharpe: 0.62",
          "Sharpe: 0.04",
          "Sharpe: 0.54",
          "Sharpe: 0.25",
          "Sharpe: 0.26",
          "Sharpe: 0.16",
          "Sharpe: 0.33",
          "Sharpe: 0.50",
          "Sharpe: 0.36",
          "Sharpe: -0.08",
          "Sharpe: 0.32",
          "Sharpe: 0.14",
          "Sharpe: 0.57",
          "Sharpe: 0.20",
          "Sharpe: 0.25",
          "Sharpe: 0.15",
          "Sharpe: 0.31",
          "Sharpe: 0.15",
          "Sharpe: 0.10",
          "Sharpe: 0.58",
          "Sharpe: 0.34",
          "Sharpe: -0.04",
          "Sharpe: 0.35",
          "Sharpe: 0.30"
         ],
         "type": "scatter",
         "x": {
          "bdata": "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",
          "dtype": "f8"
         },
         "y": {
          "bdata": "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",
          "dtype": "f8"
         }
        },
        {
         "marker": {
          "color": "red",
          "size": 15,
          "symbol": "star"
         },
         "mode": "markers+text",
         "name": "Individual Assets",
         "text": [
          "us_large_equity",
          "us_small_equity",
          "broad_ust",
          "real_estate",
          "gold"
         ],
         "textposition": "top center",
         "type": "scatter",
         "x": {
          "bdata": "OoJPtvdaMEAqALCajWo1QHfFWnHUHRlAdv2jPcJ7M0DaGM0rbEMtQA==",
          "dtype": "f8"
         },
         "y": {
          "bdata": "Rj89sM2+IkBaTN6yl9sYQKrHFIf/gxjAWqf0Vj1VDUAnkLBcdrscQA==",
          "dtype": "f8"
         }
        }
       ],
       "layout": {
        "height": 600,
        "hovermode": "closest",
        "template": {
         "data": {
          "bar": [
           {
            "error_x": {
             "color": "#2a3f5f"
            },
            "error_y": {
             "color": "#2a3f5f"
            },
            "marker": {
             "line": {
              "color": "#E5ECF6",
              "width": 0.5
             },
             "pattern": {
              "fillmode": "overlay",
              "size": 10,
              "solidity": 0.2
             }
            },
            "type": "bar"
           }
          ],
          "barpolar": [
           {
            "marker": {
             "line": {
              "color": "#E5ECF6",
              "width": 0.5
             },
             "pattern": {
              "fillmode": "overlay",
              "size": 10,
              "solidity": 0.2
             }
            },
            "type": "barpolar"
           }
          ],
          "carpet": [
           {
            "aaxis": {
             "endlinecolor": "#2a3f5f",
             "gridcolor": "white",
             "linecolor": "white",
             "minorgridcolor": "white",
             "startlinecolor": "#2a3f5f"
            },
            "baxis": {
             "endlinecolor": "#2a3f5f",
             "gridcolor": "white",
             "linecolor": "white",
             "minorgridcolor": "white",
             "startlinecolor": "#2a3f5f"
            },
            "type": "carpet"
           }
          ],
          "choropleth": [
           {
            "colorbar": {
             "outlinewidth": 0,
             "ticks": ""
            },
            "type": "choropleth"
           }
          ],
          "contour": [
           {
            "colorbar": {
             "outlinewidth": 0,
             "ticks": ""
            },
            "colorscale": [
             [
              0,
              "#0d0887"
             ],
             [
              0.1111111111111111,
              "#46039f"
             ],
             [
              0.2222222222222222,
              "#7201a8"
             ],
             [
              0.3333333333333333,
              "#9c179e"
             ],
             [
              0.4444444444444444,
              "#bd3786"
             ],
             [
              0.5555555555555556,
              "#d8576b"
             ],
             [
              0.6666666666666666,
              "#ed7953"
             ],
             [
              0.7777777777777778,
              "#fb9f3a"
             ],
             [
              0.8888888888888888,
              "#fdca26"
             ],
             [
              1,
              "#f0f921"
             ]
            ],
            "type": "contour"
           }
          ],
          "contourcarpet": [
           {
            "colorbar": {
             "outlinewidth": 0,
             "ticks": ""
            },
            "type": "contourcarpet"
           }
          ],
          "heatmap": [
           {
            "colorbar": {
             "outlinewidth": 0,
             "ticks": ""
            },
            "colorscale": [
             [
              0,
              "#0d0887"
             ],
             [
              0.1111111111111111,
              "#46039f"
             ],
             [
              0.2222222222222222,
              "#7201a8"
             ],
             [
              0.3333333333333333,
              "#9c179e"
             ],
             [
              0.4444444444444444,
              "#bd3786"
             ],
             [
              0.5555555555555556,
              "#d8576b"
             ],
             [
              0.6666666666666666,
              "#ed7953"
             ],
             [
              0.7777777777777778,
              "#fb9f3a"
             ],
             [
              0.8888888888888888,
              "#fdca26"
             ],
             [
              1,
              "#f0f921"
             ]
            ],
            "type": "heatmap"
           }
          ],
          "histogram": [
           {
            "marker": {
             "pattern": {
              "fillmode": "overlay",
              "size": 10,
              "solidity": 0.2
             }
            },
            "type": "histogram"
           }
          ],
          "histogram2d": [
           {
            "colorbar": {
             "outlinewidth": 0,
             "ticks": ""
            },
            "colorscale": [
             [
              0,
              "#0d0887"
             ],
             [
              0.1111111111111111,
              "#46039f"
             ],
             [
              0.2222222222222222,
              "#7201a8"
             ],
             [
              0.3333333333333333,
              "#9c179e"
             ],
             [
              0.4444444444444444,
              "#bd3786"
             ],
             [
              0.5555555555555556,
              "#d8576b"
             ],
             [
              0.6666666666666666,
              "#ed7953"
             ],
             [
              0.7777777777777778,
              "#fb9f3a"
             ],
             [
              0.8888888888888888,
              "#fdca26"
             ],
             [
              1,
              "#f0f921"
             ]
            ],
            "type": "histogram2d"
           }
          ],
          "histogram2dcontour": [
           {
            "colorbar": {
             "outlinewidth": 0,
             "ticks": ""
            },
            "colorscale": [
             [
              0,
              "#0d0887"
             ],
             [
              0.1111111111111111,
              "#46039f"
             ],
             [
              0.2222222222222222,
              "#7201a8"
             ],
             [
              0.3333333333333333,
              "#9c179e"
             ],
             [
              0.4444444444444444,
              "#bd3786"
             ],
             [
              0.5555555555555556,
              "#d8576b"
             ],
             [
              0.6666666666666666,
              "#ed7953"
             ],
             [
              0.7777777777777778,
              "#fb9f3a"
             ],
             [
              0.8888888888888888,
              "#fdca26"
             ],
             [
              1,
              "#f0f921"
             ]
            ],
            "type": "histogram2dcontour"
           }
          ],
          "mesh3d": [
           {
            "colorbar": {
             "outlinewidth": 0,
             "ticks": ""
            },
            "type": "mesh3d"
           }
          ],
          "parcoords": [
           {
            "line": {
             "colorbar": {
              "outlinewidth": 0,
              "ticks": ""
             }
            },
            "type": "parcoords"
           }
          ],
          "pie": [
           {
            "automargin": true,
            "type": "pie"
           }
          ],
          "scatter": [
           {
            "fillpattern": {
             "fillmode": "overlay",
             "size": 10,
             "solidity": 0.2
            },
            "type": "scatter"
           }
          ],
          "scatter3d": [
           {
            "line": {
             "colorbar": {
              "outlinewidth": 0,
              "ticks": ""
             }
            },
            "marker": {
             "colorbar": {
              "outlinewidth": 0,
              "ticks": ""
             }
            },
            "type": "scatter3d"
           }
          ],
          "scattercarpet": [
           {
            "marker": {
             "colorbar": {
              "outlinewidth": 0,
              "ticks": ""
             }
            },
            "type": "scattercarpet"
           }
          ],
          "scattergeo": [
           {
            "marker": {
             "colorbar": {
              "outlinewidth": 0,
              "ticks": ""
             }
            },
            "type": "scattergeo"
           }
          ],
          "scattergl": [
           {
            "marker": {
             "colorbar": {
              "outlinewidth": 0,
              "ticks": ""
             }
            },
            "type": "scattergl"
           }
          ],
          "scattermap": [
           {
            "marker": {
             "colorbar": {
              "outlinewidth": 0,
              "ticks": ""
             }
            },
            "type": "scattermap"
           }
          ],
          "scattermapbox": [
           {
            "marker": {
             "colorbar": {
              "outlinewidth": 0,
              "ticks": ""
             }
            },
            "type": "scattermapbox"
           }
          ],
          "scatterpolar": [
           {
            "marker": {
             "colorbar": {
              "outlinewidth": 0,
              "ticks": ""
             }
            },
            "type": "scatterpolar"
           }
          ],
          "scatterpolargl": [
           {
            "marker": {
             "colorbar": {
              "outlinewidth": 0,
              "ticks": ""
             }
            },
            "type": "scatterpolargl"
           }
          ],
          "scatterternary": [
           {
            "marker": {
             "colorbar": {
              "outlinewidth": 0,
              "ticks": ""
             }
            },
            "type": "scatterternary"
           }
          ],
          "surface": [
           {
            "colorbar": {
             "outlinewidth": 0,
             "ticks": ""
            },
            "colorscale": [
             [
              0,
              "#0d0887"
             ],
             [
              0.1111111111111111,
              "#46039f"
             ],
             [
              0.2222222222222222,
              "#7201a8"
             ],
             [
              0.3333333333333333,
              "#9c179e"
             ],
             [
              0.4444444444444444,
              "#bd3786"
             ],
             [
              0.5555555555555556,
              "#d8576b"
             ],
             [
              0.6666666666666666,
              "#ed7953"
             ],
             [
              0.7777777777777778,
              "#fb9f3a"
             ],
             [
              0.8888888888888888,
              "#fdca26"
             ],
             [
              1,
              "#f0f921"
             ]
            ],
            "type": "surface"
           }
          ],
          "table": [
           {
            "cells": {
             "fill": {
              "color": "#EBF0F8"
             },
             "line": {
              "color": "white"
             }
            },
            "header": {
             "fill": {
              "color": "#C8D4E3"
             },
             "line": {
              "color": "white"
             }
            },
            "type": "table"
           }
          ]
         },
         "layout": {
          "annotationdefaults": {
           "arrowcolor": "#2a3f5f",
           "arrowhead": 0,
           "arrowwidth": 1
          },
          "autotypenumbers": "strict",
          "coloraxis": {
           "colorbar": {
            "outlinewidth": 0,
            "ticks": ""
           }
          },
          "colorscale": {
           "diverging": [
            [
             0,
             "#8e0152"
            ],
            [
             0.1,
             "#c51b7d"
            ],
            [
             0.2,
             "#de77ae"
            ],
            [
             0.3,
             "#f1b6da"
            ],
            [
             0.4,
             "#fde0ef"
            ],
            [
             0.5,
             "#f7f7f7"
            ],
            [
             0.6,
             "#e6f5d0"
            ],
            [
             0.7,
             "#b8e186"
            ],
            [
             0.8,
             "#7fbc41"
            ],
            [
             0.9,
             "#4d9221"
            ],
            [
             1,
             "#276419"
            ]
           ],
           "sequential": [
            [
             0,
             "#0d0887"
            ],
            [
             0.1111111111111111,
             "#46039f"
            ],
            [
             0.2222222222222222,
             "#7201a8"
            ],
            [
             0.3333333333333333,
             "#9c179e"
            ],
            [
             0.4444444444444444,
             "#bd3786"
            ],
            [
             0.5555555555555556,
             "#d8576b"
            ],
            [
             0.6666666666666666,
             "#ed7953"
            ],
            [
             0.7777777777777778,
             "#fb9f3a"
            ],
            [
             0.8888888888888888,
             "#fdca26"
            ],
            [
             1,
             "#f0f921"
            ]
           ],
           "sequentialminus": [
            [
             0,
             "#0d0887"
            ],
            [
             0.1111111111111111,
             "#46039f"
            ],
            [
             0.2222222222222222,
             "#7201a8"
            ],
            [
             0.3333333333333333,
             "#9c179e"
            ],
            [
             0.4444444444444444,
             "#bd3786"
            ],
            [
             0.5555555555555556,
             "#d8576b"
            ],
            [
             0.6666666666666666,
             "#ed7953"
            ],
            [
             0.7777777777777778,
             "#fb9f3a"
            ],
            [
             0.8888888888888888,
             "#fdca26"
            ],
            [
             1,
             "#f0f921"
            ]
           ]
          },
          "colorway": [
           "#636efa",
           "#EF553B",
           "#00cc96",
           "#ab63fa",
           "#FFA15A",
           "#19d3f3",
           "#FF6692",
           "#B6E880",
           "#FF97FF",
           "#FECB52"
          ],
          "font": {
           "color": "#2a3f5f"
          },
          "geo": {
           "bgcolor": "white",
           "lakecolor": "white",
           "landcolor": "#E5ECF6",
           "showlakes": true,
           "showland": true,
           "subunitcolor": "white"
          },
          "hoverlabel": {
           "align": "left"
          },
          "hovermode": "closest",
          "mapbox": {
           "style": "light"
          },
          "paper_bgcolor": "white",
          "plot_bgcolor": "#E5ECF6",
          "polar": {
           "angularaxis": {
            "gridcolor": "white",
            "linecolor": "white",
            "ticks": ""
           },
           "bgcolor": "#E5ECF6",
           "radialaxis": {
            "gridcolor": "white",
            "linecolor": "white",
            "ticks": ""
           }
          },
          "scene": {
           "xaxis": {
            "backgroundcolor": "#E5ECF6",
            "gridcolor": "white",
            "gridwidth": 2,
            "linecolor": "white",
            "showbackground": true,
            "ticks": "",
            "zerolinecolor": "white"
           },
           "yaxis": {
            "backgroundcolor": "#E5ECF6",
            "gridcolor": "white",
            "gridwidth": 2,
            "linecolor": "white",
            "showbackground": true,
            "ticks": "",
            "zerolinecolor": "white"
           },
           "zaxis": {
            "backgroundcolor": "#E5ECF6",
            "gridcolor": "white",
            "gridwidth": 2,
            "linecolor": "white",
            "showbackground": true,
            "ticks": "",
            "zerolinecolor": "white"
           }
          },
          "shapedefaults": {
           "line": {
            "color": "#2a3f5f"
           }
          },
          "ternary": {
           "aaxis": {
            "gridcolor": "white",
            "linecolor": "white",
            "ticks": ""
           },
           "baxis": {
            "gridcolor": "white",
            "linecolor": "white",
            "ticks": ""
           },
           "bgcolor": "#E5ECF6",
           "caxis": {
            "gridcolor": "white",
            "linecolor": "white",
            "ticks": ""
           }
          },
          "title": {
           "x": 0.05
          },
          "xaxis": {
           "automargin": true,
           "gridcolor": "white",
           "linecolor": "white",
           "ticks": "",
           "title": {
            "standoff": 15
           },
           "zerolinecolor": "white",
           "zerolinewidth": 2
          },
          "yaxis": {
           "automargin": true,
           "gridcolor": "white",
           "linecolor": "white",
           "ticks": "",
           "title": {
            "standoff": 15
           },
           "zerolinecolor": "white",
           "zerolinewidth": 2
          }
         }
        },
        "title": {
         "text": "Efficient Frontier Preview (Real Returns)"
        },
        "xaxis": {
         "title": {
          "text": "Annual Volatility (%)"
         }
        },
        "yaxis": {
         "title": {
          "text": "Annual Return (%)"
         }
        }
       }
      }
     },
     "metadata": {},
     "output_type": "display_data"
    },
    {
     "name": "stdout",
     "output_type": "stream",
     "text": [
      "\n",
      "📊 Individual Asset Statistics (Real Returns):\n",
      "                 Annual Return  Annual Volatility  Sharpe Ratio\n",
      "us_large_equity         9.3700            16.3600        0.5700\n",
      "us_small_equity         6.2100            21.4200        0.2900\n",
      "broad_ust              -6.1300             6.2800       -0.9800\n",
      "real_estate             3.6700            19.4800        0.1900\n",
      "gold                    7.1800            14.6300        0.4900\n"
     ]
    }
   ],
   "source": [
    "# Use the return estimation framework to get proper estimates\n",
    "estimation_framework = ReturnEstimationFramework(total_return_fetcher, fred_fetcher)\n",
    "\n",
    "# Get real return estimates and covariance matrix\n",
    "try:\n",
    "    # Get a subset of exposures for cleaner visualization\n",
    "    demo_exposures = ['us_large_equity', 'us_small_equity', 'broad_ust', 'real_estate', 'gold']\n",
    "    demo_universe = ExposureUniverse()\n",
    "    \n",
    "    for exp_id in demo_exposures:\n",
    "        exposure = universe.get_exposure(exp_id)\n",
    "        if exposure:\n",
    "            demo_universe.exposures[exp_id] = exposure\n",
    "    \n",
    "    # Estimate returns\n",
    "    returns_est, impl_info = estimation_framework.estimate_real_returns(\n",
    "        demo_universe, start_date, end_date, method=\"historical\", frequency=\"monthly\"\n",
    "    )\n",
    "    \n",
    "    # Get covariance matrix\n",
    "    if not real_returns_df[demo_exposures].dropna().empty:\n",
    "        cov_matrix = estimation_framework.estimate_covariance_matrix(\n",
    "            real_returns_df[demo_exposures].dropna(), \n",
    "            method=\"sample\", \n",
    "            frequency=\"monthly\"\n",
    "        )\n",
    "        \n",
    "        # Calculate individual asset risk/return\n",
    "        individual_returns = returns_est\n",
    "        individual_vols = np.sqrt(np.diag(cov_matrix))\n",
    "        \n",
    "        # Generate efficient frontier points (simplified)\n",
    "        n_portfolios = 1000\n",
    "        n_assets = len(demo_exposures)\n",
    "        \n",
    "        # Random portfolio weights\n",
    "        weights = np.random.dirichlet(np.ones(n_assets), n_portfolios)\n",
    "        \n",
    "        # Calculate portfolio returns and risks\n",
    "        portfolio_returns = weights @ individual_returns\n",
    "        portfolio_risks = np.sqrt(np.diag(weights @ cov_matrix @ weights.T))\n",
    "        \n",
    "        # Create the plot\n",
    "        fig = go.Figure()\n",
    "        \n",
    "        # Add random portfolios\n",
    "        fig.add_trace(go.Scatter(\n",
    "            x=portfolio_risks * 100,\n",
    "            y=portfolio_returns * 100,\n",
    "            mode='markers',\n",
    "            marker=dict(\n",
    "                size=3,\n",
    "                color=portfolio_returns / portfolio_risks,  # Sharpe ratio\n",
    "                colorscale='Viridis',\n",
    "                showscale=True,\n",
    "                colorbar=dict(title=\"Sharpe<br>Ratio\")\n",
    "            ),\n",
    "            name='Random Portfolios',\n",
    "            text=[f'Sharpe: {(r/v):.2f}' for r, v in zip(portfolio_returns, portfolio_risks)],\n",
    "            hovertemplate='Risk: %{x:.1f}%<br>Return: %{y:.1f}%<br>%{text}'\n",
    "        ))\n",
    "        \n",
    "        # Add individual assets\n",
    "        fig.add_trace(go.Scatter(\n",
    "            x=individual_vols * 100,\n",
    "            y=individual_returns * 100,\n",
    "            mode='markers+text',\n",
    "            marker=dict(size=15, color='red', symbol='star'),\n",
    "            text=demo_exposures,\n",
    "            textposition='top center',\n",
    "            name='Individual Assets'\n",
    "        ))\n",
    "        \n",
    "        fig.update_layout(\n",
    "            title=\"Efficient Frontier Preview (Real Returns)\",\n",
    "            xaxis_title=\"Annual Volatility (%)\",\n",
    "            yaxis_title=\"Annual Return (%)\",\n",
    "            height=600,\n",
    "            hovermode='closest'\n",
    "        )\n",
    "        \n",
    "        fig.show()\n",
    "        \n",
    "        print(\"\\n📊 Individual Asset Statistics (Real Returns):\")\n",
    "        asset_stats = pd.DataFrame({\n",
    "            'Annual Return': individual_returns * 100,\n",
    "            'Annual Volatility': individual_vols * 100,\n",
    "            'Sharpe Ratio': individual_returns / individual_vols\n",
    "        })\n",
    "        print(asset_stats.round(2))\n",
    "        \n",
    "except Exception as e:\n",
    "    print(f\"Error creating efficient frontier: {e}\")\n",
    "    import traceback\n",
    "    traceback.print_exc()"
   ]
  },
  {
   "cell_type": "markdown",
   "metadata": {},
   "source": [
    "## 14. Export Results"
   ]
  },
  {
   "cell_type": "code",
   "execution_count": 17,
   "metadata": {},
   "outputs": [
    {
     "name": "stdout",
     "output_type": "stream",
     "text": [
      "✅ Exported summary statistics to ../results/exposure_analysis/exposure_summary_stats.csv\n",
      "✅ Exported real returns to ../results/exposure_analysis/real_returns_monthly.csv\n",
      "✅ Exported correlation matrix to ../results/exposure_analysis/correlation_matrix.csv\n",
      "✅ Exported analysis summary to ../results/exposure_analysis/analysis_summary.txt\n",
      "\n",
      "📁 All results exported successfully!\n"
     ]
    }
   ],
   "source": [
    "# Create results directory\n",
    "import os\n",
    "results_dir = '../results/exposure_analysis'\n",
    "os.makedirs(results_dir, exist_ok=True)\n",
    "\n",
    "# Export summary statistics\n",
    "summary_export = pd.DataFrame({\n",
    "    'Exposure': real_stats.index,\n",
    "    'Category': real_stats['Category'],\n",
    "    'Nominal_Annual_Return': nominal_stats['Ann. Return'] * 100,\n",
    "    'Real_Annual_Return': real_stats['Ann. Return'] * 100,\n",
    "    'Inflation_Impact': (nominal_stats['Ann. Return'] - real_stats['Ann. Return']) * 100,\n",
    "    'Annual_Volatility': real_stats['Ann. Volatility'] * 100,\n",
    "    'Sharpe_Ratio': real_stats['Sharpe Ratio'],\n",
    "    'Skewness': real_stats['Skewness'],\n",
    "    'Kurtosis': real_stats['Kurtosis'],\n",
    "    'Implementation': [universe_returns[exp]['implementation'] for exp in real_stats.index]\n",
    "})\n",
    "\n",
    "# Save to CSV\n",
    "summary_export.to_csv(f'{results_dir}/exposure_summary_stats.csv', index=False)\n",
    "print(f\"✅ Exported summary statistics to {results_dir}/exposure_summary_stats.csv\")\n",
    "\n",
    "# Export returns data\n",
    "real_returns_df.to_csv(f'{results_dir}/real_returns_{frequency}.csv')\n",
    "print(f\"✅ Exported real returns to {results_dir}/real_returns_{frequency}.csv\")\n",
    "\n",
    "# Export correlation matrix\n",
    "correlation_matrix.to_csv(f'{results_dir}/correlation_matrix.csv')\n",
    "print(f\"✅ Exported correlation matrix to {results_dir}/correlation_matrix.csv\")\n",
    "\n",
    "# Save key metrics\n",
    "with open(f'{results_dir}/analysis_summary.txt', 'w') as f:\n",
    "    f.write(\"EXPOSURE UNIVERSE ANALYSIS SUMMARY\\n\")\n",
    "    f.write(\"=\" * 50 + \"\\n\\n\")\n",
    "    f.write(f\"Analysis Period: {start_date.date()} to {end_date.date()}\\n\")\n",
    "    f.write(f\"Data Frequency: {frequency}\\n\")\n",
    "    f.write(f\"Inflation Series: {inflation_series}\\n\")\n",
    "    f.write(f\"\\nTotal Exposures: {len(universe)}\\n\")\n",
    "    f.write(f\"Successful Data Fetches: {successful}/{len(universe)}\\n\")\n",
    "    f.write(f\"\\nAverage Real Return: {real_stats['Ann. Return'].mean() * 100:.2f}%\\n\")\n",
    "    f.write(f\"Average Volatility: {real_stats['Ann. Volatility'].mean() * 100:.2f}%\\n\")\n",
    "    f.write(f\"Average Sharpe Ratio: {real_stats['Sharpe Ratio'].mean():.2f}\\n\")\n",
    "    f.write(f\"\\nAverage Inflation Impact: {(nominal_stats['Ann. Return'] - real_stats['Ann. Return']).mean() * 100:.2f}%\\n\")\n",
    "    f.write(f\"Period Inflation Rate: {inflation_rates.mean():.2%} (annualized)\\n\")\n",
    "\n",
    "print(f\"✅ Exported analysis summary to {results_dir}/analysis_summary.txt\")\n",
    "print(\"\\n📁 All results exported successfully!\")"
   ]
  },
  {
   "cell_type": "markdown",
   "metadata": {},
   "source": [
    "## Summary and Next Steps\n",
    "\n",
    "This notebook demonstrated:\n",
    "\n",
    "1. **Data Retrieval**: Successfully fetched total returns for all exposures in the universe\n",
    "2. **Inflation Integration**: Retrieved CPI data from FRED and calculated inflation rates\n",
    "3. **Real Return Conversion**: Converted nominal returns to real returns using exact method\n",
    "4. **Comprehensive Analysis**: \n",
    "   - Summary statistics for all exposures\n",
    "   - Performance comparisons (nominal vs real)\n",
    "   - Correlation analysis\n",
    "   - Rolling performance metrics\n",
    "   - Drawdown analysis\n",
    "   - Efficient frontier preview\n",
    "\n",
    "### Key Findings:\n",
    "- The infrastructure successfully handles all exposure types including rate series\n",
    "- Real returns show the significant impact of inflation on nominal performance\n",
    "- Different asset classes show varying sensitivity to inflation\n",
    "- The data is ready for portfolio optimization\n",
    "\n",
    "### Next Steps:\n",
    "1. **Portfolio Optimization**: Use the real returns and covariance estimates in the optimization engine\n",
    "2. **Backtesting**: Test various portfolio strategies using historical data\n",
    "3. **Risk Analysis**: Deeper dive into factor exposures and risk contributions\n",
    "4. **Strategy Development**: Develop and test systematic allocation strategies\n",
    "5. **Web Interface**: Build interactive dashboards for real-time monitoring"
   ]
  }
 ],
 "metadata": {
  "kernelspec": {
   "display_name": "Python 3 (ipykernel)",
   "language": "python",
   "name": "python3"
  },
  "language_info": {
   "codemirror_mode": {
    "name": "ipython",
    "version": 3
   },
   "file_extension": ".py",
   "mimetype": "text/x-python",
   "name": "python",
   "nbconvert_exporter": "python",
   "pygments_lexer": "ipython3",
   "version": "3.13.5"
  }
 },
 "nbformat": 4,
 "nbformat_minor": 4
}
